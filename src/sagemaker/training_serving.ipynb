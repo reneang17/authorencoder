{
 "cells": [
  {
   "cell_type": "markdown",
   "metadata": {},
   "source": [
    "# Authorencoding Training and serving\n",
    "\n",
    "## Outline\n",
    "\n",
    "\n",
    "1. Upload the processed data to S3.\n",
    "2. Train a chosen model.\n",
    "3. Test the trained model\n",
    "4. Deploy the trained model.\n",
    "5. Use the deployed model to server a website.\n",
    " - Create Lambda role\n",
    " - Create Lambda function\n",
    " - Create API GATEWAY\n",
    " - Serve\n",
    "\n"
   ]
  },
  {
   "cell_type": "markdown",
   "metadata": {},
   "source": [
    "### Uploading the training data\n",
    "\n",
    "\n",
    "Next, we need to upload the training data to the SageMaker default S3 bucket so that we can provide access to it while training our model."
   ]
  },
  {
   "cell_type": "code",
   "execution_count": 206,
   "metadata": {},
   "outputs": [],
   "source": [
    "import os\n",
    "data_dir = '../../data/processed/' # The folder where data iterator are stored\n",
    "if not os.path.exists(data_dir): # Make sure that the folder exists\n",
    "    os.makedirs(data_dir)\n",
    "    print('Created: ', data_dir)\n",
    "    \n",
    "import sys\n",
    "import pickle\n",
    "sys.path.insert(1, './train/')"
   ]
  },
  {
   "cell_type": "code",
   "execution_count": 207,
   "metadata": {},
   "outputs": [],
   "source": [
    "import sagemaker\n",
    "sagemaker_session = sagemaker.Session()\n",
    "bucket = sagemaker_session.default_bucket()\n",
    "#prefix = 'toxic/data'\n",
    "prefix = 'authorencoder/data'\n",
    "role = sagemaker.get_execution_role()"
   ]
  },
  {
   "cell_type": "code",
   "execution_count": 208,
   "metadata": {},
   "outputs": [],
   "source": [
    "input_data = sagemaker_session.upload_data(path=data_dir, bucket=bucket, key_prefix=prefix)"
   ]
  },
  {
   "cell_type": "markdown",
   "metadata": {},
   "source": [
    "## Training the model"
   ]
  },
  {
   "cell_type": "code",
   "execution_count": 96,
   "metadata": {},
   "outputs": [],
   "source": [
    "from sagemaker.pytorch import PyTorch\n",
    "\n",
    "estimator = PyTorch(entry_point=\"train_nlp.py\",\n",
    "                    source_dir=\"train\",\n",
    "                    role=role,\n",
    "                    framework_version='1.3.1', #1.0.0\n",
    "                    train_instance_count=1,\n",
    "                    train_instance_type='ml.m4.xlarge',\n",
    "                    hyperparameters={\n",
    "                        'epochs': 15#,\n",
    "                    #    'hidden_dim': 100,\n",
    "                    })"
   ]
  },
  {
   "cell_type": "code",
   "execution_count": 97,
   "metadata": {},
   "outputs": [
    {
     "name": "stdout",
     "output_type": "stream",
     "text": [
      "2020-02-05 22:01:15 Starting - Starting the training job...\n",
      "2020-02-05 22:01:16 Starting - Launching requested ML instances......\n",
      "2020-02-05 22:02:21 Starting - Preparing the instances for training......\n",
      "2020-02-05 22:03:30 Downloading - Downloading input data......\n",
      "2020-02-05 22:04:30 Training - Downloading the training image.\u001b[34mbash: cannot set terminal process group (-1): Inappropriate ioctl for device\u001b[0m\n",
      "\u001b[34mbash: no job control in this shell\u001b[0m\n",
      "\u001b[34m2020-02-05 22:04:51,035 sagemaker-containers INFO     Imported framework sagemaker_pytorch_container.training\u001b[0m\n",
      "\u001b[34m2020-02-05 22:04:51,038 sagemaker-containers INFO     No GPUs detected (normal if no gpus installed)\u001b[0m\n",
      "\u001b[34m2020-02-05 22:04:51,052 sagemaker_pytorch_container.training INFO     Block until all host DNS lookups succeed.\u001b[0m\n",
      "\u001b[34m2020-02-05 22:04:51,053 sagemaker_pytorch_container.training INFO     Invoking user training script.\u001b[0m\n",
      "\u001b[34m2020-02-05 22:04:51,478 sagemaker-containers INFO     Module default_user_module_name does not provide a setup.py. \u001b[0m\n",
      "\u001b[34mGenerating setup.py\u001b[0m\n",
      "\u001b[34m2020-02-05 22:04:51,478 sagemaker-containers INFO     Generating setup.cfg\u001b[0m\n",
      "\u001b[34m2020-02-05 22:04:51,478 sagemaker-containers INFO     Generating MANIFEST.in\u001b[0m\n",
      "\u001b[34m2020-02-05 22:04:51,479 sagemaker-containers INFO     Installing module with the following command:\u001b[0m\n",
      "\u001b[34m/opt/conda/bin/python -m pip install . -r requirements.txt\u001b[0m\n",
      "\u001b[34mProcessing /tmp/tmprnmahn7q/module_dir\u001b[0m\n",
      "\u001b[34mRequirement already satisfied: scikit-learn in /opt/conda/lib/python3.6/site-packages (from -r requirements.txt (line 1)) (0.21.2)\u001b[0m\n",
      "\u001b[34mCollecting nltk\n",
      "  Downloading nltk-3.4.5.zip (1.5 MB)\u001b[0m\n",
      "\u001b[34mRequirement already satisfied: joblib>=0.11 in /opt/conda/lib/python3.6/site-packages (from scikit-learn->-r requirements.txt (line 1)) (0.14.1)\u001b[0m\n",
      "\u001b[34mRequirement already satisfied: numpy>=1.11.0 in /opt/conda/lib/python3.6/site-packages (from scikit-learn->-r requirements.txt (line 1)) (1.16.4)\u001b[0m\n",
      "\u001b[34mRequirement already satisfied: scipy>=0.17.0 in /opt/conda/lib/python3.6/site-packages (from scikit-learn->-r requirements.txt (line 1)) (1.2.2)\u001b[0m\n",
      "\u001b[34mRequirement already satisfied: six in /opt/conda/lib/python3.6/site-packages (from nltk->-r requirements.txt (line 2)) (1.12.0)\u001b[0m\n",
      "\u001b[34mBuilding wheels for collected packages: nltk, default-user-module-name\n",
      "  Building wheel for nltk (setup.py): started\u001b[0m\n",
      "\u001b[34m  Building wheel for nltk (setup.py): finished with status 'done'\n",
      "  Created wheel for nltk: filename=nltk-3.4.5-py3-none-any.whl size=1449906 sha256=1bafb616b613aea7973cdf2e97e0a802d74a97e5813e012f39e86ab3f39b4d23\n",
      "  Stored in directory: /root/.cache/pip/wheels/e3/c9/b0/ed26a73ef75a53145820825afa8e2d2c9b30fe9f6c10cd3202\n",
      "  Building wheel for default-user-module-name (setup.py): started\n",
      "  Building wheel for default-user-module-name (setup.py): finished with status 'done'\n",
      "  Created wheel for default-user-module-name: filename=default_user_module_name-1.0.0-py2.py3-none-any.whl size=26010 sha256=a11a9152e5f0e333c0037ca208fb04e8193f32dd49bdd0c9d26df78f55612ae8\n",
      "  Stored in directory: /tmp/pip-ephem-wheel-cache-vhc4a9a3/wheels/e4/ba/39/f014a38a2d4a0e870586cfbc4b4c7170c41db75a6543876554\u001b[0m\n",
      "\u001b[34mSuccessfully built nltk default-user-module-name\u001b[0m\n",
      "\u001b[34mInstalling collected packages: nltk, default-user-module-name\u001b[0m\n",
      "\u001b[34mSuccessfully installed default-user-module-name-1.0.0 nltk-3.4.5\u001b[0m\n",
      "\u001b[34mWARNING: You are using pip version 20.0.1; however, version 20.0.2 is available.\u001b[0m\n",
      "\u001b[34mYou should consider upgrading via the '/opt/conda/bin/python -m pip install --upgrade pip' command.\u001b[0m\n",
      "\u001b[34m2020-02-05 22:04:56,190 sagemaker-containers INFO     No GPUs detected (normal if no gpus installed)\u001b[0m\n",
      "\u001b[34m2020-02-05 22:04:56,206 sagemaker-containers INFO     No GPUs detected (normal if no gpus installed)\u001b[0m\n",
      "\u001b[34m2020-02-05 22:04:56,222 sagemaker-containers INFO     No GPUs detected (normal if no gpus installed)\u001b[0m\n",
      "\u001b[34m2020-02-05 22:04:56,235 sagemaker-containers INFO     Invoking user script\n",
      "\u001b[0m\n",
      "\u001b[34mTraining Env:\n",
      "\u001b[0m\n",
      "\u001b[34m{\n",
      "    \"additional_framework_parameters\": {},\n",
      "    \"channel_input_dirs\": {\n",
      "        \"training\": \"/opt/ml/input/data/training\"\n",
      "    },\n",
      "    \"current_host\": \"algo-1\",\n",
      "    \"framework_module\": \"sagemaker_pytorch_container.training:main\",\n",
      "    \"hosts\": [\n",
      "        \"algo-1\"\n",
      "    ],\n",
      "    \"hyperparameters\": {\n",
      "        \"epochs\": 15\n",
      "    },\n",
      "    \"input_config_dir\": \"/opt/ml/input/config\",\n",
      "    \"input_data_config\": {\n",
      "        \"training\": {\n",
      "            \"TrainingInputMode\": \"File\",\n",
      "            \"S3DistributionType\": \"FullyReplicated\",\n",
      "            \"RecordWrapperType\": \"None\"\n",
      "        }\n",
      "    },\n",
      "    \"input_dir\": \"/opt/ml/input\",\n",
      "    \"is_master\": true,\n",
      "    \"job_name\": \"pytorch-training-2020-02-05-22-01-14-879\",\n",
      "    \"log_level\": 20,\n",
      "    \"master_hostname\": \"algo-1\",\n",
      "    \"model_dir\": \"/opt/ml/model\",\n",
      "    \"module_dir\": \"s3://sagemaker-us-east-1-959239015396/pytorch-training-2020-02-05-22-01-14-879/source/sourcedir.tar.gz\",\n",
      "    \"module_name\": \"train_nlp\",\n",
      "    \"network_interface_name\": \"eth0\",\n",
      "    \"num_cpus\": 4,\n",
      "    \"num_gpus\": 0,\n",
      "    \"output_data_dir\": \"/opt/ml/output/data\",\n",
      "    \"output_dir\": \"/opt/ml/output\",\n",
      "    \"output_intermediate_dir\": \"/opt/ml/output/intermediate\",\n",
      "    \"resource_config\": {\n",
      "        \"current_host\": \"algo-1\",\n",
      "        \"hosts\": [\n",
      "            \"algo-1\"\n",
      "        ],\n",
      "        \"network_interface_name\": \"eth0\"\n",
      "    },\n",
      "    \"user_entry_point\": \"train_nlp.py\"\u001b[0m\n",
      "\u001b[34m}\n",
      "\u001b[0m\n",
      "\u001b[34mEnvironment variables:\n",
      "\u001b[0m\n",
      "\u001b[34mSM_HOSTS=[\"algo-1\"]\u001b[0m\n",
      "\u001b[34mSM_NETWORK_INTERFACE_NAME=eth0\u001b[0m\n",
      "\u001b[34mSM_HPS={\"epochs\":15}\u001b[0m\n",
      "\u001b[34mSM_USER_ENTRY_POINT=train_nlp.py\u001b[0m\n",
      "\u001b[34mSM_FRAMEWORK_PARAMS={}\u001b[0m\n",
      "\u001b[34mSM_RESOURCE_CONFIG={\"current_host\":\"algo-1\",\"hosts\":[\"algo-1\"],\"network_interface_name\":\"eth0\"}\u001b[0m\n",
      "\u001b[34mSM_INPUT_DATA_CONFIG={\"training\":{\"RecordWrapperType\":\"None\",\"S3DistributionType\":\"FullyReplicated\",\"TrainingInputMode\":\"File\"}}\u001b[0m\n",
      "\u001b[34mSM_OUTPUT_DATA_DIR=/opt/ml/output/data\u001b[0m\n",
      "\u001b[34mSM_CHANNELS=[\"training\"]\u001b[0m\n",
      "\u001b[34mSM_CURRENT_HOST=algo-1\u001b[0m\n",
      "\u001b[34mSM_MODULE_NAME=train_nlp\u001b[0m\n",
      "\u001b[34mSM_LOG_LEVEL=20\u001b[0m\n",
      "\u001b[34mSM_FRAMEWORK_MODULE=sagemaker_pytorch_container.training:main\u001b[0m\n",
      "\u001b[34mSM_INPUT_DIR=/opt/ml/input\u001b[0m\n",
      "\u001b[34mSM_INPUT_CONFIG_DIR=/opt/ml/input/config\u001b[0m\n",
      "\u001b[34mSM_OUTPUT_DIR=/opt/ml/output\u001b[0m\n",
      "\u001b[34mSM_NUM_CPUS=4\u001b[0m\n",
      "\u001b[34mSM_NUM_GPUS=0\u001b[0m\n",
      "\u001b[34mSM_MODEL_DIR=/opt/ml/model\u001b[0m\n",
      "\u001b[34mSM_MODULE_DIR=s3://sagemaker-us-east-1-959239015396/pytorch-training-2020-02-05-22-01-14-879/source/sourcedir.tar.gz\u001b[0m\n",
      "\u001b[34mSM_TRAINING_ENV={\"additional_framework_parameters\":{},\"channel_input_dirs\":{\"training\":\"/opt/ml/input/data/training\"},\"current_host\":\"algo-1\",\"framework_module\":\"sagemaker_pytorch_container.training:main\",\"hosts\":[\"algo-1\"],\"hyperparameters\":{\"epochs\":15},\"input_config_dir\":\"/opt/ml/input/config\",\"input_data_config\":{\"training\":{\"RecordWrapperType\":\"None\",\"S3DistributionType\":\"FullyReplicated\",\"TrainingInputMode\":\"File\"}},\"input_dir\":\"/opt/ml/input\",\"is_master\":true,\"job_name\":\"pytorch-training-2020-02-05-22-01-14-879\",\"log_level\":20,\"master_hostname\":\"algo-1\",\"model_dir\":\"/opt/ml/model\",\"module_dir\":\"s3://sagemaker-us-east-1-959239015396/pytorch-training-2020-02-05-22-01-14-879/source/sourcedir.tar.gz\",\"module_name\":\"train_nlp\",\"network_interface_name\":\"eth0\",\"num_cpus\":4,\"num_gpus\":0,\"output_data_dir\":\"/opt/ml/output/data\",\"output_dir\":\"/opt/ml/output\",\"output_intermediate_dir\":\"/opt/ml/output/intermediate\",\"resource_config\":{\"current_host\":\"algo-1\",\"hosts\":[\"algo-1\"],\"network_interface_name\":\"eth0\"},\"user_entry_point\":\"train_nlp.py\"}\u001b[0m\n",
      "\u001b[34mSM_USER_ARGS=[\"--epochs\",\"15\"]\u001b[0m\n",
      "\u001b[34mSM_OUTPUT_INTERMEDIATE_DIR=/opt/ml/output/intermediate\u001b[0m\n",
      "\u001b[34mSM_CHANNEL_TRAINING=/opt/ml/input/data/training\u001b[0m\n",
      "\u001b[34mSM_HP_EPOCHS=15\u001b[0m\n",
      "\u001b[34mPYTHONPATH=/opt/ml/code:/opt/conda/bin:/opt/conda/lib/python36.zip:/opt/conda/lib/python3.6:/opt/conda/lib/python3.6/lib-dynload:/opt/conda/lib/python3.6/site-packages\n",
      "\u001b[0m\n",
      "\u001b[34mInvoking script with the following command:\n",
      "\u001b[0m\n",
      "\u001b[34m/opt/conda/bin/python train_nlp.py --epochs 15\n",
      "\n",
      "\u001b[0m\n",
      "\u001b[34mUsing device cpu.\u001b[0m\n",
      "\n",
      "2020-02-05 22:04:49 Training - Training image download completed. Training in progress.\u001b[34m100\u001b[0m\n",
      "\u001b[34mModel loaded with WORD_EMBEDDING_DIM 100, N_FILTERS 100, vocab_size 12702.\u001b[0m\n",
      "\u001b[34mTrain/Valid Data Loaded\u001b[0m\n",
      "\u001b[34m[2020-02-05 22:04:57.628 algo-1:51 INFO json_config.py:90] Creating hook from json_config at /opt/ml/input/config/debughookconfig.json.\u001b[0m\n",
      "\u001b[34m[2020-02-05 22:04:57.628 algo-1:51 INFO hook.py:152] tensorboard_dir has not been set for the hook. SMDebug will not be exporting tensorboard summaries.\u001b[0m\n",
      "\u001b[34m[2020-02-05 22:04:57.628 algo-1:51 INFO hook.py:197] Saving to /opt/ml/output/tensors\u001b[0m\n",
      "\u001b[34m[2020-02-05 22:04:57.629 algo-1:51 INFO hook.py:326] Monitoring the collections: losses\u001b[0m\n",
      "\u001b[34mTrain: [0/540 (0%)]#011Loss: 0.612589#011Average nonzero triplets: 450.0\u001b[0m\n",
      "\u001b[34mTrain: [200/540 (40%)]#011Loss: 0.583511#011Average nonzero triplets: 450.0\u001b[0m\n",
      "\u001b[34mTrain: [400/540 (80%)]#011Loss: 0.556024#011Average nonzero triplets: 450.0\u001b[0m\n",
      "\u001b[34mEpoch: 1/15. Train set: Average loss: 0.5783#011Average nonzero triplets: 450.0\u001b[0m\n",
      "\u001b[34mEpoch: 1/15. Validation set: Avg loss: 0.2306#011Average nonzero triplets: 363.0\u001b[0m\n",
      "\u001b[34mTrain: [0/540 (0%)]#011Loss: 0.440002#011Average nonzero triplets: 450.0\u001b[0m\n",
      "\u001b[34mTrain: [200/540 (40%)]#011Loss: 0.550868#011Average nonzero triplets: 450.0\u001b[0m\n",
      "\u001b[34mTrain: [400/540 (80%)]#011Loss: 0.408270#011Average nonzero triplets: 450.0\u001b[0m\n",
      "\u001b[34mEpoch: 2/15. Train set: Average loss: 0.4717#011Average nonzero triplets: 450.0\u001b[0m\n",
      "\u001b[34mEpoch: 2/15. Validation set: Avg loss: 0.2512#011Average nonzero triplets: 363.0\u001b[0m\n",
      "\u001b[34mTrain: [0/540 (0%)]#011Loss: 0.423962#011Average nonzero triplets: 450.0\u001b[0m\n",
      "\u001b[34mTrain: [200/540 (40%)]#011Loss: 0.354708#011Average nonzero triplets: 450.0\u001b[0m\n",
      "\u001b[34mTrain: [400/540 (80%)]#011Loss: 0.326083#011Average nonzero triplets: 449.8\u001b[0m\n",
      "\u001b[34mEpoch: 3/15. Train set: Average loss: 0.3571#011Average nonzero triplets: 449.8\u001b[0m\n",
      "\u001b[34mEpoch: 3/15. Validation set: Avg loss: 0.2957#011Average nonzero triplets: 363.0\u001b[0m\n",
      "\u001b[34mTrain: [0/540 (0%)]#011Loss: 0.324842#011Average nonzero triplets: 450.0\u001b[0m\n",
      "\u001b[34mTrain: [200/540 (40%)]#011Loss: 0.301073#011Average nonzero triplets: 450.0\u001b[0m\n",
      "\u001b[34mTrain: [400/540 (80%)]#011Loss: 0.289005#011Average nonzero triplets: 449.8\u001b[0m\n",
      "\u001b[34m2020-02-05 22:05:15,676 sagemaker-containers INFO     Reporting training SUCCESS\u001b[0m\n",
      "\u001b[34mEpoch: 4/15. Train set: Average loss: 0.3010#011Average nonzero triplets: 449.8\u001b[0m\n",
      "\u001b[34mEpoch: 4/15. Validation set: Avg loss: 0.2409#011Average nonzero triplets: 363.0\u001b[0m\n",
      "\u001b[34mTrain: [0/540 (0%)]#011Loss: 0.327367#011Average nonzero triplets: 449.0\u001b[0m\n",
      "\u001b[34mTrain: [200/540 (40%)]#011Loss: 0.296373#011Average nonzero triplets: 449.0\u001b[0m\n",
      "\u001b[34mTrain: [400/540 (80%)]#011Loss: 0.270427#011Average nonzero triplets: 449.2\u001b[0m\n",
      "\u001b[34mEpoch: 5/15. Train set: Average loss: 0.2922#011Average nonzero triplets: 449.2\u001b[0m\n",
      "\u001b[34mEpoch: 5/15. Validation set: Avg loss: 0.2181#011Average nonzero triplets: 363.0\u001b[0m\n",
      "\u001b[34mTrain: [0/540 (0%)]#011Loss: 0.258736#011Average nonzero triplets: 450.0\u001b[0m\n",
      "\u001b[34mTrain: [200/540 (40%)]#011Loss: 0.253639#011Average nonzero triplets: 446.3333333333333\u001b[0m\n",
      "\u001b[34mTrain: [400/540 (80%)]#011Loss: 0.274416#011Average nonzero triplets: 444.8\u001b[0m\n",
      "\u001b[34mEpoch: 6/15. Train set: Average loss: 0.2630#011Average nonzero triplets: 444.8\u001b[0m\n",
      "\u001b[34mEpoch: 6/15. Validation set: Avg loss: 0.2720#011Average nonzero triplets: 357.0\u001b[0m\n",
      "\u001b[34mTrain: [0/540 (0%)]#011Loss: 0.284299#011Average nonzero triplets: 442.0\u001b[0m\n",
      "\u001b[34mTrain: [200/540 (40%)]#011Loss: 0.296788#011Average nonzero triplets: 441.3333333333333\u001b[0m\n",
      "\u001b[34mTrain: [400/540 (80%)]#011Loss: 0.292490#011Average nonzero triplets: 435.0\u001b[0m\n",
      "\u001b[34mEpoch: 7/15. Train set: Average loss: 0.2926#011Average nonzero triplets: 435.0\u001b[0m\n",
      "\u001b[34mEpoch: 7/15. Validation set: Avg loss: 0.3365#011Average nonzero triplets: 362.0\u001b[0m\n",
      "\u001b[34mTrain: [0/540 (0%)]#011Loss: 0.347792#011Average nonzero triplets: 439.0\u001b[0m\n",
      "\u001b[34mTrain: [200/540 (40%)]#011Loss: 0.271829#011Average nonzero triplets: 427.6666666666667\u001b[0m\n",
      "\u001b[34mTrain: [400/540 (80%)]#011Loss: 0.293434#011Average nonzero triplets: 427.4\u001b[0m\n",
      "\u001b[34mEpoch: 8/15. Train set: Average loss: 0.2957#011Average nonzero triplets: 427.4\u001b[0m\n",
      "\u001b[34mEpoch: 8/15. Validation set: Avg loss: 0.2983#011Average nonzero triplets: 359.0\u001b[0m\n",
      "\u001b[34mTrain: [0/540 (0%)]#011Loss: 0.331636#011Average nonzero triplets: 435.0\u001b[0m\n",
      "\u001b[34mTrain: [200/540 (40%)]#011Loss: 0.273907#011Average nonzero triplets: 420.6666666666667\u001b[0m\n",
      "\u001b[34mTrain: [400/540 (80%)]#011Loss: 0.287224#011Average nonzero triplets: 416.8\u001b[0m\n",
      "\u001b[34mEpoch: 9/15. Train set: Average loss: 0.2908#011Average nonzero triplets: 416.8\u001b[0m\n",
      "\u001b[34mEpoch: 9/15. Validation set: Avg loss: 0.3362#011Average nonzero triplets: 358.0\u001b[0m\n",
      "\u001b[34mTrain: [0/540 (0%)]#011Loss: 0.288235#011Average nonzero triplets: 431.0\u001b[0m\n",
      "\u001b[34mTrain: [200/540 (40%)]#011Loss: 0.286908#011Average nonzero triplets: 416.3333333333333\u001b[0m\n",
      "\u001b[34mTrain: [400/540 (80%)]#011Loss: 0.276224#011Average nonzero triplets: 416.2\u001b[0m\n",
      "\u001b[34mEpoch: 10/15. Train set: Average loss: 0.2829#011Average nonzero triplets: 416.2\u001b[0m\n",
      "\u001b[34mEpoch: 10/15. Validation set: Avg loss: 0.3880#011Average nonzero triplets: 362.0\u001b[0m\n",
      "\u001b[34mTrain: [0/540 (0%)]#011Loss: 0.305346#011Average nonzero triplets: 398.0\u001b[0m\n",
      "\u001b[34mTrain: [200/540 (40%)]#011Loss: 0.304309#011Average nonzero triplets: 391.3333333333333\u001b[0m\n",
      "\u001b[34mTrain: [400/540 (80%)]#011Loss: 0.346699#011Average nonzero triplets: 399.2\u001b[0m\n",
      "\u001b[34mEpoch: 11/15. Train set: Average loss: 0.3215#011Average nonzero triplets: 399.2\u001b[0m\n",
      "\u001b[34mEpoch: 11/15. Validation set: Avg loss: 0.4339#011Average nonzero triplets: 359.0\u001b[0m\n",
      "\u001b[34mTrain: [0/540 (0%)]#011Loss: 0.315230#011Average nonzero triplets: 381.0\u001b[0m\n",
      "\u001b[34mTrain: [200/540 (40%)]#011Loss: 0.324061#011Average nonzero triplets: 368.3333333333333\u001b[0m\n",
      "\u001b[34mTrain: [400/540 (80%)]#011Loss: 0.320744#011Average nonzero triplets: 369.2\u001b[0m\n",
      "\u001b[34mEpoch: 12/15. Train set: Average loss: 0.3210#011Average nonzero triplets: 369.2\u001b[0m\n",
      "\u001b[34mEpoch: 12/15. Validation set: Avg loss: 0.3798#011Average nonzero triplets: 355.0\u001b[0m\n",
      "\u001b[34mTrain: [0/540 (0%)]#011Loss: 0.354652#011Average nonzero triplets: 358.0\u001b[0m\n",
      "\u001b[34mTrain: [200/540 (40%)]#011Loss: 0.328514#011Average nonzero triplets: 355.0\u001b[0m\n",
      "\u001b[34mTrain: [400/540 (80%)]#011Loss: 0.351839#011Average nonzero triplets: 357.6\u001b[0m\n",
      "\u001b[34mEpoch: 13/15. Train set: Average loss: 0.3431#011Average nonzero triplets: 357.6\u001b[0m\n",
      "\u001b[34mEpoch: 13/15. Validation set: Avg loss: 0.5353#011Average nonzero triplets: 344.0\u001b[0m\n",
      "\u001b[34mTrain: [0/540 (0%)]#011Loss: 0.335858#011Average nonzero triplets: 341.0\u001b[0m\n",
      "\u001b[34mTrain: [200/540 (40%)]#011Loss: 0.475191#011Average nonzero triplets: 339.0\u001b[0m\n",
      "\u001b[34mTrain: [400/540 (80%)]#011Loss: 0.398068#011Average nonzero triplets: 326.0\u001b[0m\n",
      "\u001b[34mEpoch: 14/15. Train set: Average loss: 0.4165#011Average nonzero triplets: 326.0\u001b[0m\n",
      "\u001b[34mEpoch: 14/15. Validation set: Avg loss: 0.5311#011Average nonzero triplets: 344.0\u001b[0m\n",
      "\u001b[34mTrain: [0/540 (0%)]#011Loss: 0.371851#011Average nonzero triplets: 341.0\u001b[0m\n",
      "\u001b[34mTrain: [200/540 (40%)]#011Loss: 0.457612#011Average nonzero triplets: 347.0\u001b[0m\n",
      "\u001b[34mTrain: [400/540 (80%)]#011Loss: 0.415333#011Average nonzero triplets: 333.8\u001b[0m\n",
      "\u001b[34mEpoch: 15/15. Train set: Average loss: 0.4235#011Average nonzero triplets: 333.8\u001b[0m\n",
      "\u001b[34mEpoch: 15/15. Validation set: Avg loss: 0.5371#011Average nonzero triplets: 337.0\u001b[0m\n",
      "\u001b[34mmodel_info: {'INPUT_DIM': 12702, 'WORD_EMBEDDING_DIM': 100, 'N_FILTERS': 100, 'FILTER_SIZES': [2, 3, 4], 'AUTHOR_DIM': 2, 'DROPOUT': 0.5, 'PAD_IDX': 1}\u001b[0m\n",
      "\u001b[34m[2020-02-05 22:05:15.565 algo-1:51 INFO utils.py:25] The end of training job file will not be written for jobs running under SageMaker.\u001b[0m\n"
     ]
    },
    {
     "name": "stdout",
     "output_type": "stream",
     "text": [
      "\n",
      "2020-02-05 22:05:28 Uploading - Uploading generated training model\n",
      "2020-02-05 22:05:28 Completed - Training job completed\n",
      "Training seconds: 118\n",
      "Billable seconds: 118\n"
     ]
    }
   ],
   "source": [
    "estimator.fit({'training': input_data})"
   ]
  },
  {
   "cell_type": "code",
   "execution_count": 98,
   "metadata": {},
   "outputs": [],
   "source": [
    "#estimator.delete_endpoint"
   ]
  },
  {
   "cell_type": "markdown",
   "metadata": {},
   "source": [
    "## Step 5: Testing the model\n",
    "\n",
    "As mentioned at the top of this notebook, we will be testing this model by first deploying it and then sending the testing data to the deployed endpoint. We will do this so that we can make sure that the deployed model is working correctly.\n",
    "\n",
    "## Deploy the model for testing\n",
    "\n",
    "When the built-in inference code is run it must import the `model_fn()` method from the `train.py` file. This is why the training code is wrapped in a main guard ( ie, `if __name__ == '__main__':` )\n",
    "\n"
   ]
  },
  {
   "cell_type": "code",
   "execution_count": 99,
   "metadata": {},
   "outputs": [
    {
     "name": "stdout",
     "output_type": "stream",
     "text": [
      "---------------------!"
     ]
    }
   ],
   "source": [
    "predictor = estimator.deploy(initial_instance_count=1, instance_type='ml.m4.xlarge')"
   ]
  },
  {
   "cell_type": "code",
   "execution_count": 100,
   "metadata": {},
   "outputs": [],
   "source": [
    "data_dir = '../../data/processed/'\n",
    "data_name = 'longest10.json'\n",
    "prefix = data_name[:-5]\n",
    "\n",
    "file_embedding = prefix + '_embedding.pkl'\n",
    "file_dict = prefix + '_dict.pkl'\n",
    "file_tokenized_train_data = prefix + '_train.pkl'\n",
    "file_tokenized_valid_data = prefix + '_valid.pkl'"
   ]
  },
  {
   "cell_type": "code",
   "execution_count": 101,
   "metadata": {},
   "outputs": [],
   "source": [
    "import pickle\n",
    "import torch\n",
    "from siamese_triplet import BalancedBatchSampler, data_to_Iterator\n",
    "\n",
    "#Turn dataset into Loader\n",
    "train_Loader=data_to_Iterator(data_dir, file_tokenized_train_data, n_classes=10, n_samples=10, sampler= True)\n",
    "valid_Loader=data_to_Iterator(data_dir, file_tokenized_valid_data, n_classes=10, n_samples=10, sampler= True)"
   ]
  },
  {
   "cell_type": "code",
   "execution_count": 102,
   "metadata": {},
   "outputs": [],
   "source": [
    "mnist_classes = ['0', '1', '2', '3', '4', '5', '6', '7', '8', '9']\n",
    "colors = ['#1f77b4', '#ff7f0e', '#2ca02c', '#d62728',\n",
    "              '#9467bd', '#8c564b', '#e377c2', '#7f7f7f',\n",
    "              '#bcbd22', '#17becf']\n",
    "\n",
    "import numpy as np\n",
    "    \n",
    "def extract_embeddings(dataloader, emb_dim, is_cuda_available):\n",
    "    with torch.no_grad():\n",
    "\n",
    "        embeddings = np.zeros((len(dataloader.dataset), emb_dim))\n",
    "        labels = np.zeros(len(dataloader.dataset))\n",
    "        k = 0\n",
    "        for poems, target in dataloader:\n",
    "            poems = poems.squeeze()\n",
    "            poems_le= len(poems)\n",
    "            if is_cuda_available:\n",
    "                poems = poems.cuda()\n",
    "\n",
    "            #embeddings[k:k+poems_le] = model.get_embedding(poems).data.cpu().numpy()\n",
    "            print(poems.size())\n",
    "            embeddings[k:k+poems_le] = predictor.predict(poems)\n",
    "            \n",
    "            labels[k:k+poems_le] = target.numpy()\n",
    "            k += poems_le\n",
    "    return embeddings, labels\n",
    "\n",
    "def plot_embeddings(embeddings, targets, xlim=None, ylim=None,  save_plot= None):\n",
    "    plt.figure(figsize=(10,10))\n",
    "    for i in range(10):\n",
    "        inds = np.where(targets==i)[0]\n",
    "        plt.scatter(embeddings[inds,0], embeddings[inds,1], alpha=0.5, color=colors[i])\n",
    "    if xlim:\n",
    "        plt.xlim(xlim[0], xlim[1])\n",
    "    if ylim:\n",
    "        plt.ylim(ylim[0], ylim[1])\n",
    "    plt.legend(mnist_classes)\n",
    "    #if save_plot!=None:\n",
    "    #    plt.savefig('../media/'+save_plot)"
   ]
  },
  {
   "cell_type": "code",
   "execution_count": 103,
   "metadata": {},
   "outputs": [
    {
     "name": "stdout",
     "output_type": "stream",
     "text": [
      "torch.Size([88, 101])\n",
      "torch.Size([100, 101])\n",
      "torch.Size([100, 101])\n",
      "torch.Size([100, 101])\n",
      "torch.Size([100, 101])\n",
      "torch.Size([100, 101])\n"
     ]
    }
   ],
   "source": [
    "valid_embeddings_otl, valid_labels_otl = extract_embeddings(valid_Loader, 2, False)\n",
    "train_embeddings_otl, train_labels_otl = extract_embeddings(train_Loader, 2, False)"
   ]
  },
  {
   "cell_type": "code",
   "execution_count": 104,
   "metadata": {},
   "outputs": [
    {
     "data": {
      "image/png": "[encoded data removed]",
      "text/plain": [
       "<Figure size 720x720 with 1 Axes>"
      ]
     },
     "metadata": {},
     "output_type": "display_data"
    }
   ],
   "source": [
    "import matplotlib.pyplot as plt\n",
    "%matplotlib inline\n",
    "plot_embeddings(train_embeddings_otl, train_labels_otl,save_plot='testing.png')"
   ]
  },
  {
   "cell_type": "code",
   "execution_count": 105,
   "metadata": {},
   "outputs": [
    {
     "data": {
      "image/png": "[encoded data removed]",
      "text/plain": [
       "<Figure size 720x720 with 1 Axes>"
      ]
     },
     "metadata": {},
     "output_type": "display_data"
    }
   ],
   "source": [
    "plot_embeddings(valid_embeddings_otl, valid_labels_otl,save_plot='testing.png')"
   ]
  },
  {
   "cell_type": "code",
   "execution_count": 106,
   "metadata": {},
   "outputs": [
    {
     "data": {
      "text/plain": [
       "KNeighborsClassifier(algorithm='auto', leaf_size=30, metric='minkowski',\n",
       "                     metric_params=None, n_jobs=None, n_neighbors=3, p=2,\n",
       "                     weights='uniform')"
      ]
     },
     "execution_count": 106,
     "metadata": {},
     "output_type": "execute_result"
    }
   ],
   "source": [
    "from sklearn.neighbors import KNeighborsClassifier as KNC\n",
    "KNN = KNC(n_neighbors=3)\n",
    "KNN.fit(train_embeddings_otl, train_labels_otl)"
   ]
  },
  {
   "cell_type": "code",
   "execution_count": 107,
   "metadata": {},
   "outputs": [
    {
     "data": {
      "text/plain": [
       "array([8., 2., 8., 7., 8., 8., 8., 8., 8., 0., 0., 0., 4., 0., 3., 0., 3.,\n",
       "       1., 2., 1., 1., 2., 1., 1., 2., 2., 8., 7., 2., 8., 2., 2., 2., 2.,\n",
       "       9., 9., 9., 9., 0., 0., 9., 9., 9., 9., 6., 6., 9., 6., 6., 0., 6.,\n",
       "       9., 6., 6., 0., 2., 7., 7., 7., 2., 7., 2., 7., 7., 9., 0., 0., 0.,\n",
       "       9., 8., 0., 0., 0., 3., 0., 0., 0., 0., 8., 1., 3., 2., 5., 2., 3.,\n",
       "       3., 5., 5., 0., 0., 0., 0., 0., 0., 0., 0., 0., 0., 0., 0., 0., 0.,\n",
       "       0., 0., 0., 0., 0., 0., 0., 0., 0., 0., 0., 0., 0., 0., 0., 0., 0.,\n",
       "       0., 0., 0., 0., 0., 0., 0., 0., 0., 0., 0., 0., 0., 0., 0., 0.])"
      ]
     },
     "execution_count": 107,
     "metadata": {},
     "output_type": "execute_result"
    }
   ],
   "source": [
    "predictions= KNN.predict(valid_embeddings_otl)\n",
    "predictions"
   ]
  },
  {
   "cell_type": "code",
   "execution_count": 108,
   "metadata": {},
   "outputs": [
    {
     "data": {
      "text/plain": [
       "0.725925925925926"
      ]
     },
     "execution_count": 108,
     "metadata": {},
     "output_type": "execute_result"
    }
   ],
   "source": [
    "KNN.score(valid_embeddings_otl,valid_labels_otl)"
   ]
  },
  {
   "cell_type": "code",
   "execution_count": 109,
   "metadata": {},
   "outputs": [
    {
     "data": {
      "text/plain": [
       "8"
      ]
     },
     "execution_count": 109,
     "metadata": {},
     "output_type": "execute_result"
    }
   ],
   "source": [
    "int(KNN.predict(valid_embeddings_otl[0].reshape(1, -1)).item())"
   ]
  },
  {
   "cell_type": "code",
   "execution_count": 110,
   "metadata": {},
   "outputs": [],
   "source": [
    "author_encoder_path = os.path.join('./serve/', 'authorencoder.pkl')\n",
    "with open(author_encoder_path, 'wb') as f:\n",
    "    pickle.dump([train_embeddings_otl.tolist(), train_labels_otl.tolist()], f ) "
   ]
  },
  {
   "cell_type": "code",
   "execution_count": 139,
   "metadata": {},
   "outputs": [
    {
     "data": {
      "text/plain": [
       "KNeighborsClassifier(algorithm='auto', leaf_size=30, metric='minkowski',\n",
       "                     metric_params=None, n_jobs=None, n_neighbors=3, p=2,\n",
       "                     weights='uniform')"
      ]
     },
     "execution_count": 139,
     "metadata": {},
     "output_type": "execute_result"
    }
   ],
   "source": [
    "author_encoder_path = os.path.join('./serve/', 'authorencoder.pkl')\n",
    "with open(author_encoder_path, 'rb') as f:\n",
    "    train_embeddings_otl, train_labels_otl= pickle.load( f ) \n",
    "\n",
    "from sklearn.neighbors import KNeighborsClassifier as KNC\n",
    "KNN = KNC(n_neighbors=3)\n",
    "KNN.fit(train_embeddings_otl, train_labels_otl)"
   ]
  },
  {
   "cell_type": "markdown",
   "metadata": {},
   "source": [
    "## Preparing files for serving"
   ]
  },
  {
   "cell_type": "code",
   "execution_count": 111,
   "metadata": {},
   "outputs": [],
   "source": [
    "import re\n",
    "\n",
    "chars_to_keep=\".,'\\n?!\"\n",
    "\n",
    "to_keep= \"\"\n",
    "for i in chars_to_keep:\n",
    "    to_keep+= i+'|'\n",
    "    \n",
    "rep_special_chars= re.compile(\"[^\\w\\n|\"+ (to_keep[:-1])+ \"]|_\")\n",
    "\n",
    "\n",
    "def wspace_schars(review, no_white_space = False,\n",
    "                  no_newlines= False):\n",
    "    \"\"\"\n",
    "    TODO\n",
    "    \"\"\"\n",
    "    # Subs special chars by white space except chars_to_keep\n",
    "    text=rep_special_chars.sub(' ', review)\n",
    "    if no_white_space:\n",
    "        text = re.sub('\\n+', '\\n',text) # Remove consecutive breaklines\n",
    "    if no_newlines:\n",
    "        text = re.sub(' +', ' ',text) # Remove consecutive white space\n",
    "    return text\n",
    "\n",
    "\n",
    "sentence = 'Always look at the bright side of life? But, yeah!'.lower()\n",
    " \n",
    "    \n",
    "FIX_WORD_LENGTH = 101\n",
    "def pad_to_n(ls, n = FIX_WORD_LENGTH):\n",
    "    \"\"\"ls list to be cut/padded to length n\"\"\"\n",
    "    ls= ls[:n]\n",
    "    if len(ls)<n: ls=(['<pad>']*(n-len(ls))) + ls\n",
    "    return ls\n",
    "\n",
    "\n",
    "def text_to_words(text):     \n",
    "    text = wspace_schars(text).lower()\n",
    "    words= re.findall(r\"[\\w']+|[.,!?\\n ]\", text)\n",
    "    words= pad_to_n(words)\n",
    "    return words\n",
    "\n",
    "def tokenize(word_dict, text):   \n",
    "    words = text_to_words(text)\n",
    "    print(words)\n",
    "    words=[word_dict[w] if w in word_dict else word_dict['<unk>'] for w in words]\n",
    "    return words"
   ]
  },
  {
   "cell_type": "code",
   "execution_count": 112,
   "metadata": {},
   "outputs": [],
   "source": [
    "word_dict_path = os.path.join(data_dir, file_dict) \n",
    "with open(word_dict_path, 'rb') as f:\n",
    "        word_dict = pickle.load(f)"
   ]
  },
  {
   "cell_type": "code",
   "execution_count": 118,
   "metadata": {},
   "outputs": [
    {
     "name": "stdout",
     "output_type": "stream",
     "text": [
      "['<pad>', '<pad>', '<pad>', '<pad>', '<pad>', '<pad>', '<pad>', '<pad>', '<pad>', '<pad>', '<pad>', '<pad>', '<pad>', '<pad>', '<pad>', '<pad>', '<pad>', '<pad>', '<pad>', '<pad>', '<pad>', '<pad>', '<pad>', '<pad>', '<pad>', '<pad>', '<pad>', '<pad>', '<pad>', '<pad>', '<pad>', '<pad>', '<pad>', '<pad>', '<pad>', '<pad>', '<pad>', '<pad>', '<pad>', '<pad>', '<pad>', '<pad>', '<pad>', '<pad>', '<pad>', '<pad>', '<pad>', '<pad>', '<pad>', '<pad>', '<pad>', '<pad>', '<pad>', '<pad>', '<pad>', '<pad>', '<pad>', '<pad>', '<pad>', '<pad>', '<pad>', '<pad>', '<pad>', '<pad>', '<pad>', '<pad>', '<pad>', '<pad>', '<pad>', '<pad>', '<pad>', '<pad>', '<pad>', '<pad>', '<pad>', '<pad>', '<pad>', '<pad>', '<pad>', '<pad>', '<pad>', '<pad>', '<pad>', '<pad>', '<pad>', '<pad>', '<pad>', '<pad>', '<pad>', '<pad>', 'always', ' ', 'look', ' ', 'at', ' ', 'the', ' ', 'bright', ' ', 'side']\n"
     ]
    }
   ],
   "source": [
    "test_sentence = \"Always look at the bright side\"\n",
    "tensor = torch.tensor(tokenize(word_dict, test_sentence))\n",
    "poem = tensor.unsqueeze(0).unsqueeze(0)"
   ]
  },
  {
   "cell_type": "code",
   "execution_count": 119,
   "metadata": {},
   "outputs": [
    {
     "data": {
      "text/plain": [
       "KNeighborsClassifier(algorithm='auto', leaf_size=30, metric='minkowski',\n",
       "                     metric_params=None, n_jobs=None, n_neighbors=3, p=2,\n",
       "                     weights='uniform')"
      ]
     },
     "execution_count": 119,
     "metadata": {},
     "output_type": "execute_result"
    }
   ],
   "source": [
    "author_encoder_path = os.path.join('./serve/', 'authorencoder.pkl')\n",
    "with open(author_encoder_path, 'rb') as f:\n",
    "    train_embeddings_otl, train_labels_otl= pickle.load( f ) \n",
    "\n",
    "from sklearn.neighbors import KNeighborsClassifier as KNC\n",
    "KNN = KNC(n_neighbors=3)\n",
    "KNN.fit(train_embeddings_otl, train_labels_otl)"
   ]
  },
  {
   "cell_type": "code",
   "execution_count": 122,
   "metadata": {},
   "outputs": [
    {
     "data": {
      "text/plain": [
       "0"
      ]
     },
     "execution_count": 122,
     "metadata": {},
     "output_type": "execute_result"
    }
   ],
   "source": [
    "output = predictor.predict(poem)\n",
    "int(KNN.predict((output).reshape(1, -1)).item())"
   ]
  },
  {
   "cell_type": "markdown",
   "metadata": {},
   "source": [
    "Toxic labels stats "
   ]
  },
  {
   "cell_type": "code",
   "execution_count": 95,
   "metadata": {},
   "outputs": [],
   "source": [
    "#estimator.delete_endpoint()"
   ]
  },
  {
   "cell_type": "markdown",
   "metadata": {},
   "source": [
    "### Delete the endpoint\n",
    "\n",
    "Of course, just like in the XGBoost notebook, once we've deployed an endpoint it continues to run until we tell it to shut down. Since we are done using our endpoint for now, we can delete it."
   ]
  },
  {
   "cell_type": "code",
   "execution_count": 26,
   "metadata": {},
   "outputs": [],
   "source": [
    "estimator.delete_endpoint()"
   ]
  },
  {
   "cell_type": "markdown",
   "metadata": {},
   "source": [
    "## Step 6 (again) - Deploy the model for the web app\n",
    "\n",
    "\n",
    "We will store the code that we write in the `serve` directory. Provided in this directory is the `model.py` file that we used to construct our model, a `utils.py` file which contains the `review_to_words` and `convert_and_pad` pre-processing functions which we used during the initial data processing, and `predict.py`, the file which will contain our custom inference code. Note also that `requirements.txt` is present which will tell SageMaker what Python libraries are required by our custom inference code.\n",
    "\n",
    "When deploying a PyTorch model in SageMaker, you are expected to provide four functions which the SageMaker inference container will use.\n",
    " - `model_fn`: This function is the same function that we used in the training script and it tells SageMaker how to load our model.\n",
    " - `input_fn`: This function receives the raw serialized input that has been sent to the model's endpoint and its job is to de-serialize and make the input available for the inference code.\n",
    " - `output_fn`: This function takes the output of the inference code and its job is to serialize this output and return it to the caller of the model's endpoint.\n",
    " - `predict_fn`: The heart of the inference script, this is where the actual prediction is done and is the function which you will need to complete.\n",
    "\n",
    "For the simple website that we are constructing during this project, the `input_fn` and `output_fn` methods are relatively straightforward. We only require being able to accept a string as input and we expect to return a single value as output. You might imagine though that in a more complex application the input or output may be image data or some other binary data which would require some effort to serialize.\n",
    "\n",
    "### Writing inference code\n",
    "\n",
    "Before writing our custom inference code, we will begin by taking a look at the code which has been provided."
   ]
  },
  {
   "cell_type": "markdown",
   "metadata": {},
   "source": [
    "As mentioned earlier, the `model_fn` method is the same as the one provided in the training code and the `input_fn` and `output_fn` methods are very simple and your task will be to complete the `predict_fn` method. Make sure that you save the completed file as `predict.py` in the `serve` directory.\n",
    "\n",
    "**TODO**: Complete the `predict_fn()` method in the `serve/predict.py` file."
   ]
  },
  {
   "cell_type": "markdown",
   "metadata": {},
   "source": [
    "### Deploying the model\n",
    "\n",
    "Now that the custom inference code has been written, we will create and deploy our model. To begin with, we need to construct a new PyTorchModel object which points to the model artifacts created during training and also points to the inference code that we wish to use. Then we can call the deploy method to launch the deployment container.\n",
    "\n",
    "**NOTE**: The default behaviour for a deployed PyTorch model is to assume that any input passed to the predictor is a `numpy` array. In our case we want to send a string so we need to construct a simple wrapper around the `RealTimePredictor` class to accomodate simple strings. In a more complicated situation you may want to provide a serialization object, for example if you wanted to sent image data."
   ]
  },
  {
   "cell_type": "code",
   "execution_count": null,
   "metadata": {},
   "outputs": [],
   "source": [
    "from sagemaker.predictor import RealTimePredictor\n",
    "from sagemaker.pytorch import PyTorchModel\n",
    "\n",
    "class StringPredictor(RealTimePredictor):\n",
    "    def __init__(self, endpoint_name, sagemaker_session):\n",
    "        super(StringPredictor, self).__init__(endpoint_name, sagemaker_session, content_type='text/plain')\n",
    "\n",
    "model = PyTorchModel(model_data=estimator.model_data,\n",
    "                     role = role,\n",
    "                     framework_version='1.3.1',\n",
    "                     entry_point='predict_nlp.py',\n",
    "                     source_dir='serve',\n",
    "                     predictor_cls=StringPredictor)"
   ]
  },
  {
   "cell_type": "code",
   "execution_count": null,
   "metadata": {},
   "outputs": [],
   "source": [
    "shakespeare_apochrypha = \"\"\"O, that infected moisture of his eye,\n",
    "O, that false fire which in his cheek so glowed,\n",
    "O, that forced thunder from his heart did fly,\n",
    "O, that sad breath his spungy lungs bestowed,\n",
    "O, all that borrowed motion seeming owed,\n",
    "Would yet again betray the fore-betrayed,\n",
    "And new pervert a reconciled maid!\"\"\""
   ]
  },
  {
   "cell_type": "code",
   "execution_count": null,
   "metadata": {},
   "outputs": [],
   "source": [
    "predictor = model.deploy(initial_instance_count=1, instance_type='ml.m4.xlarge')"
   ]
  },
  {
   "cell_type": "code",
   "execution_count": 230,
   "metadata": {},
   "outputs": [],
   "source": [
    "prueba = predictor.predict(shakespeare_apochrypha)"
   ]
  },
  {
   "cell_type": "code",
   "execution_count": 231,
   "metadata": {},
   "outputs": [
    {
     "name": "stdout",
     "output_type": "stream",
     "text": [
      "Beowulf Anonimous\n"
     ]
    }
   ],
   "source": [
    "print(prueba.decode('utf-8'))\n",
    "\n"
   ]
  },
  {
   "cell_type": "code",
   "execution_count": 232,
   "metadata": {},
   "outputs": [
    {
     "data": {
      "text/plain": [
       "'pytorch-inference-2020-02-06-20-38-05-545'"
      ]
     },
     "execution_count": 232,
     "metadata": {},
     "output_type": "execute_result"
    }
   ],
   "source": [
    "#predictor.delete_endpoint\n",
    "predictor.endpoint"
   ]
  },
  {
   "cell_type": "markdown",
   "metadata": {},
   "source": [
    "### TODO: Crosschek on validation set. "
   ]
  },
  {
   "cell_type": "markdown",
   "metadata": {},
   "source": [
    "## Step 7 Use the model for the web app\n",
    "\n",
    "\n",
    "So far we have been accessing our model endpoint by constructing a predictor object which uses the endpoint and then just using the predictor object to perform inference. What if we wanted to create a web app which accessed our model? The way things are set up currently makes that not possible since in order to access a SageMaker endpoint the app would first have to authenticate with AWS using an IAM role which included access to SageMaker endpoints. However, there is an easier way! We just need to use some additional AWS services.\n",
    "\n",
    "\n",
    "### Setting up a Lambda function\n",
    "\n",
    "The first thing we are going to do is set up a Lambda function. This Lambda function will be executed whenever our public API has data sent to it. When it is executed it will receive the data, perform any sort of processing that is required, send the data (the review) to the SageMaker endpoint we've created and then return the result.\n",
    "\n",
    "#### Part A: Create an IAM Role for the Lambda function\n",
    "\n",
    "Since we want the Lambda function to call a SageMaker endpoint, we need to make sure that it has permission to do so. To do this, we will construct a role that we can later give the Lambda function.\n",
    "\n",
    "Using the AWS Console, navigate to the **IAM** page and click on **Roles**. Then, click on **Create role**. Make sure that the **AWS service** is the type of trusted entity selected and choose **Lambda** as the service that will use this role, then click **Next: Permissions**.\n",
    "\n",
    "In the search box type `sagemaker` and select the check box next to the **AmazonSageMakerFullAccess** policy. Then, click on **Next: Review**.\n",
    "\n",
    "Lastly, give this role a name. Make sure you use a name that you will remember later on, for example `LambdaAuthorEncoder`. Then, click on **Create role**.\n",
    "\n",
    "#### Part B: Create a Lambda function\n",
    "\n",
    "Now it is time to actually create the Lambda function.\n",
    "\n",
    "Using the AWS Console, navigate to the AWS Lambda page and click on **Create a function**. When you get to the next page, make sure that **Author from scratch** is selected. Now, name your Lambda function, using a name that you will remember later on, for example `authorencoder_func`. Make sure that the **Python 3.6** runtime is selected and then choose the role that you created in the previous part. Then, click on **Create Function**.\n",
    "\n",
    "On the next page you will see some information about the Lambda function you've just created. If you scroll down you should see an editor in which you can write the code that will be executed when your Lambda function is triggered. In our example, we will use the code below. \n",
    "\n",
    "```python\n",
    "# We need to use the low-level library to interact with SageMaker since the SageMaker API\n",
    "# is not available natively through Lambda.\n",
    "import boto3\n",
    "\n",
    "def lambda_handler(event, context):\n",
    "\n",
    "    # The SageMaker runtime is what allows us to invoke the endpoint that we've created.\n",
    "    runtime = boto3.Session().client('sagemaker-runtime')\n",
    "\n",
    "    # Now we use the SageMaker runtime to invoke our endpoint, sending the review we were given\n",
    "    response = runtime.invoke_endpoint(EndpointName = '**ENDPOINT NAME HERE**',    # The name of the endpoint we created\n",
    "                                       ContentType = 'text/plain',                 # The data format that is expected\n",
    "                                       Body = event['body'])                       # The actual review\n",
    "\n",
    "    # The response is an HTTP response whose body contains the result of our inference\n",
    "    result = response['Body'].read().decode('utf-8')\n",
    "\n",
    "    return {\n",
    "        'statusCode' : 200,\n",
    "        'headers' : { 'Content-Type' : 'text/plain', 'Access-Control-Allow-Origin' : '*' },\n",
    "        'body' : result\n",
    "    }\n",
    "```\n",
    "\n",
    "Once you have copy and pasted the code above into the Lambda code editor, replace the `**ENDPOINT NAME HERE**` portion with the name of the endpoint that we deployed earlier. You can determine the name of the endpoint using the code cell below."
   ]
  },
  {
   "cell_type": "markdown",
   "metadata": {},
   "source": [
    "Once you have added the endpoint name to the Lambda function, click on **Save**. Your Lambda function is now up and running. Next we need to create a way for our web app to execute the Lambda function.\n",
    "\n",
    "### Setting up API Gateway\n",
    "\n",
    "Now that our Lambda function is set up, it is time to create a new API using API Gateway that will trigger the Lambda function we have just created.\n",
    "\n",
    "Using AWS Console, navigate to **Amazon API Gateway** and then click on **Get started**.\n",
    "\n",
    "On the next page, make sure that **New API** is selected and give the new api a name, for example, `authorencoder_api`. Then, click on **Create API**.\n",
    "\n",
    "Now we have created an API, however it doesn't currently do anything. What we want it to do is to trigger the Lambda function that we created earlier.\n",
    "\n",
    "Select the **Actions** dropdown menu and click **Create Method**. A new blank method will be created, select its dropdown menu and select **POST**, then click on the check mark beside it.\n",
    "\n",
    "For the integration point, make sure that **Lambda Function** is selected and click on the **Use Lambda Proxy integration**. This option makes sure that the data that is sent to the API is then sent directly to the Lambda function with no processing. It also means that the return value must be a proper response object as it will also not be processed by API Gateway.\n",
    "\n",
    "Type the name of the Lambda function you created earlier into the **Lambda Function** text entry box and then click on **Save**. Click on **OK** in the pop-up box that then appears, giving permission to API Gateway to invoke the Lambda function you created.\n",
    "\n",
    "The last step in creating the API Gateway is to select the **Actions** dropdown and click on **Deploy API**. You will need to create a new Deployment stage and name it anything you like, for example `prod`.\n",
    "\n",
    "You have now successfully set up a public API to access your SageMaker model. Make sure to copy or write down the URL provided to invoke your newly created public API as this will be needed in the next step. This URL can be found at the top of the page, highlighted in blue next to the text **Invoke URL**."
   ]
  },
  {
   "cell_type": "markdown",
   "metadata": {},
   "source": [
    "## Step 4: Deploying our web app\n",
    "\n",
    "Now that we have a publicly available API, we can start using it in a web app.\n",
    "\n",
    "In the `website` folder there should be a file called `index.html`. Download the file to your computer and open that file up in a text editor of your choice. There should be a line which contains **\\*\\*REPLACE WITH PUBLIC API URL\\*\\***. Replace this string with the url that you wrote down in the last step and then save the file.\n",
    "\n",
    "Now, if you open `index.html` on your local computer, your browser will behave as a local web server and you can use the provided site to interact with your SageMaker model.\n",
    "\n",
    "If you'd like to go further, you can host this html file anywhere you'd like.\n",
    "\n",
    "> **Important Note** In order for the web app to communicate with the SageMaker endpoint, the endpoint has to actually be deployed and running. This means that you are paying for it. Make sure that the endpoint is running when you want to use the web app but that you shut it down when you don't need it, otherwise you will end up with a surprisingly large AWS bill.\n"
   ]
  },
  {
   "cell_type": "markdown",
   "metadata": {},
   "source": [
    "### Delete the endpoint\n",
    "\n",
    "Remember to always shut down your endpoint if you are no longer using it. You are charged for the length of time that the endpoint is running so if you forget and leave it on you could end up with an unexpectedly large bill."
   ]
  },
  {
   "cell_type": "code",
   "execution_count": 108,
   "metadata": {},
   "outputs": [],
   "source": [
    "predictor.delete_endpoint()"
   ]
  },
  {
   "cell_type": "code",
   "execution_count": null,
   "metadata": {},
   "outputs": [],
   "source": []
  }
 ],
 "metadata": {
  "kernelspec": {
   "display_name": "Python 3",
   "language": "python",
   "name": "python3"
  },
  "language_info": {
   "codemirror_mode": {
    "name": "ipython",
    "version": 3
   },
   "file_extension": ".py",
   "mimetype": "text/x-python",
   "name": "python",
   "nbconvert_exporter": "python",
   "pygments_lexer": "ipython3",
   "version": "3.7.1"
  }
 },
 "nbformat": 4,
 "nbformat_minor": 2
}
