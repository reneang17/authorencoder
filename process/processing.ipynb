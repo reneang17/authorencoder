{
 "cells": [
  {
   "cell_type": "code",
   "execution_count": 1,
   "metadata": {},
   "outputs": [],
   "source": [
    "import pandas as pd\n",
    "from langdetect import detect_langs\n",
    "import matplotlib.pyplot as plt\n",
    "import seaborn as sns\n",
    "import re\n",
    "data_dir = '../data/wrangled/'\n",
    "data_file = 'wrangled_data.csv'"
   ]
  },
  {
   "cell_type": "code",
   "execution_count": 2,
   "metadata": {},
   "outputs": [
    {
     "data": {
      "text/plain": [
       "(             author                                          title  \\\n",
       " 2     jody_gladding                                     1_800_fear   \n",
       " 3    joseph_brodsky                                 1_january_1965   \n",
       " 5      joe_brainard                                  30_one_liners   \n",
       " 7      alice_notley                                  30th_birthday   \n",
       " 8  charles_bukowski  a_340_dollar_horse_and_a_hundred_dollar_whore   \n",
       " \n",
       "    poetry_foundation_id                                            content  \\\n",
       " 2                 57135  You'd  like  to  talk  with  you  about  fear ...   \n",
       " 3                 56736  The Wise Men will unlearn your name.\\nAbove yo...   \n",
       " 5                 58251  WINTER\\nMore time is spent at the window.\\n\\nS...   \n",
       " 7                 48037  May I never be afraid\\nespecially of myself\\nb...   \n",
       " 8                 49569  don’t ever get the idea I am a poet; you can s...   \n",
       " \n",
       "    length_in_words  \n",
       " 2              113  \n",
       " 3              150  \n",
       " 5              356  \n",
       " 7              129  \n",
       " 8              360  , 11808)"
      ]
     },
     "execution_count": 2,
     "metadata": {},
     "output_type": "execute_result"
    }
   ],
   "source": [
    "df = pd.read_csv(data_dir + data_file,index_col=0)\n",
    "df.head(), len(df)"
   ]
  },
  {
   "cell_type": "code",
   "execution_count": 3,
   "metadata": {},
   "outputs": [],
   "source": [
    "def wspace_schars(review, chars_to_keep=\".,'\\n\" , no_white_space = True, no_newlines= True):\n",
    "    \"\"\"\n",
    "    Function to formar expressions\n",
    "    \"\"\"\n",
    "    \n",
    "    to_keep= \"\"\n",
    "    for i in chars_to_keep:\n",
    "        to_keep+= i+'|'\n",
    "   \n",
    "    rep_special_chars= re.compile(\"[^\\w\\n|\"+ (to_keep[:-1])+ \"]|_\") \n",
    "    \n",
    "    text=rep_special_chars.sub(' ', review) # Subs special charas by white space except chars_to_keep\n",
    "    if no_white_space:\n",
    "        text = re.sub('\\n+', '\\n',text) # Remove consecutive breaklines\n",
    "    if no_newlines:\n",
    "        text = re.sub(' +', ' ',text) # Remove consecutive white space\n",
    "    return text\n",
    "    \n"
   ]
  },
  {
   "cell_type": "code",
   "execution_count": 4,
   "metadata": {
    "scrolled": true
   },
   "outputs": [
    {
     "name": "stdout",
     "output_type": "stream",
     "text": [
      "\n",
      "To those who want to try a different way of formating \n",
      " \n",
      "'''''\n",
      "'a a'\n",
      "a a's\n",
      "b b.....\n",
      ",.... \n",
      "\n"
     ]
    }
   ],
   "source": [
    "test_string = \"\"\"\n",
    "To those who want to try a different way of formating:\n",
    "!@#$%^&*()_+\n",
    "'''''\n",
    "'a____a'\n",
    "\n",
    "\n",
    "a____a's\n",
    "\n",
    "\n",
    "\n",
    "b   b.....\n",
    ",..../?\n",
    "\"\"\"\n",
    "print(wspace_schars(test_string))"
   ]
  },
  {
   "cell_type": "code",
   "execution_count": 5,
   "metadata": {},
   "outputs": [],
   "source": [
    "df['content'] = df.content.apply(lambda x: wspace_schars(x))"
   ]
  },
  {
   "cell_type": "code",
   "execution_count": 6,
   "metadata": {},
   "outputs": [],
   "source": [
    "# Longest poems\n",
    "TOP_N = 12000\n",
    "longest_poems_ids =df.length_in_words.sort_values(ascending=False)[:TOP_N]\n",
    "longest_poems_ids = [i[0] for i in longest_poems_ids.items()]"
   ]
  },
  {
   "cell_type": "code",
   "execution_count": 7,
   "metadata": {},
   "outputs": [
    {
     "data": {
      "text/html": [
       "<div>\n",
       "<style scoped>\n",
       "    .dataframe tbody tr th:only-of-type {\n",
       "        vertical-align: middle;\n",
       "    }\n",
       "\n",
       "    .dataframe tbody tr th {\n",
       "        vertical-align: top;\n",
       "    }\n",
       "\n",
       "    .dataframe thead th {\n",
       "        text-align: right;\n",
       "    }\n",
       "</style>\n",
       "<table border=\"1\" class=\"dataframe\">\n",
       "  <thead>\n",
       "    <tr style=\"text-align: right;\">\n",
       "      <th></th>\n",
       "      <th>author</th>\n",
       "      <th>title</th>\n",
       "      <th>poetry_foundation_id</th>\n",
       "      <th>content</th>\n",
       "      <th>length_in_words</th>\n",
       "    </tr>\n",
       "  </thead>\n",
       "  <tbody>\n",
       "    <tr>\n",
       "      <th>412</th>\n",
       "      <td>anonymous</td>\n",
       "      <td>alysoun</td>\n",
       "      <td>43516</td>\n",
       "      <td>An hendy hap ichabbe yhent \\nIchot, from heven...</td>\n",
       "      <td>189</td>\n",
       "    </tr>\n",
       "    <tr>\n",
       "      <th>1214</th>\n",
       "      <td>anonymous</td>\n",
       "      <td>barbara_allen</td>\n",
       "      <td>50273</td>\n",
       "      <td>In Scarlet town, where I was born,\\nThere was ...</td>\n",
       "      <td>254</td>\n",
       "    </tr>\n",
       "    <tr>\n",
       "      <th>1418</th>\n",
       "      <td>anonymous</td>\n",
       "      <td>beowulf_modern_english_translation_</td>\n",
       "      <td>50114</td>\n",
       "      <td>LO, praise of the prowess of people kings\\nof ...</td>\n",
       "      <td>23130</td>\n",
       "    </tr>\n",
       "    <tr>\n",
       "      <th>1606</th>\n",
       "      <td>anonymous</td>\n",
       "      <td>blow_northerne_wind</td>\n",
       "      <td>43522</td>\n",
       "      <td>Blow, northerne wynd,\\nSend thou me my suetyng...</td>\n",
       "      <td>310</td>\n",
       "    </tr>\n",
       "    <tr>\n",
       "      <th>2145</th>\n",
       "      <td>anonymous</td>\n",
       "      <td>charms_for_love</td>\n",
       "      <td>50931</td>\n",
       "      <td>I beat you with a hazel rod\\nCome to me in mad...</td>\n",
       "      <td>300</td>\n",
       "    </tr>\n",
       "    <tr>\n",
       "      <th>3521</th>\n",
       "      <td>anonymous</td>\n",
       "      <td>each_day</td>\n",
       "      <td>55425</td>\n",
       "      <td>Each day as dawn approaches,\\nthe King sits in...</td>\n",
       "      <td>102</td>\n",
       "    </tr>\n",
       "    <tr>\n",
       "      <th>4019</th>\n",
       "      <td>anonymous</td>\n",
       "      <td>from_the_exeter_book_gnomic_verses</td>\n",
       "      <td>48750</td>\n",
       "      <td>lines 71 99 \\nFrost shall freeze\\nfire eat wo...</td>\n",
       "      <td>220</td>\n",
       "    </tr>\n",
       "    <tr>\n",
       "      <th>4580</th>\n",
       "      <td>anonymous</td>\n",
       "      <td>for_we_are_thy_people</td>\n",
       "      <td>53780</td>\n",
       "      <td>For we are thy people, and thou art our God \\n...</td>\n",
       "      <td>101</td>\n",
       "    </tr>\n",
       "    <tr>\n",
       "      <th>4677</th>\n",
       "      <td>anonymous</td>\n",
       "      <td>the_foxs_foray</td>\n",
       "      <td>56589</td>\n",
       "      <td>A fox jumped out one winter's night,\\nAnd begg...</td>\n",
       "      <td>379</td>\n",
       "    </tr>\n",
       "    <tr>\n",
       "      <th>4807</th>\n",
       "      <td>anonymous</td>\n",
       "      <td>from_old_english_rune_poem_</td>\n",
       "      <td>56322</td>\n",
       "      <td>i\\n feoh \\nWealth is a comfort to every man\\ny...</td>\n",
       "      <td>220</td>\n",
       "    </tr>\n",
       "    <tr>\n",
       "      <th>5016</th>\n",
       "      <td>anonymous</td>\n",
       "      <td>getting_information_out_of_pa</td>\n",
       "      <td>52701</td>\n",
       "      <td>My pa he didn t go to town\\nLast evening after...</td>\n",
       "      <td>203</td>\n",
       "    </tr>\n",
       "    <tr>\n",
       "      <th>5994</th>\n",
       "      <td>anonymous</td>\n",
       "      <td>_i_have_a_young_sister_</td>\n",
       "      <td>50402</td>\n",
       "      <td>I have a yong suster\\nFer beyonden the se,\\nMa...</td>\n",
       "      <td>123</td>\n",
       "    </tr>\n",
       "    <tr>\n",
       "      <th>6069</th>\n",
       "      <td>anonymous</td>\n",
       "      <td>_i_saw_my_lady_weep_</td>\n",
       "      <td>50501</td>\n",
       "      <td>I saw my Lady weep,\\nAnd Sorrow proud to be ad...</td>\n",
       "      <td>126</td>\n",
       "    </tr>\n",
       "    <tr>\n",
       "      <th>6071</th>\n",
       "      <td>anonymous</td>\n",
       "      <td>i_shall_be_married_on_monday_morning</td>\n",
       "      <td>50309</td>\n",
       "      <td>As I was walking one morning in spring,\\nI hea...</td>\n",
       "      <td>209</td>\n",
       "    </tr>\n",
       "    <tr>\n",
       "      <th>6839</th>\n",
       "      <td>anonymous</td>\n",
       "      <td>a_jest_of_robin_hood</td>\n",
       "      <td>43544</td>\n",
       "      <td>Lyth and lystyn, gentilmen,\\nAll that nowe be ...</td>\n",
       "      <td>1431</td>\n",
       "    </tr>\n",
       "    <tr>\n",
       "      <th>6841</th>\n",
       "      <td>anonymous</td>\n",
       "      <td>jesus_comforts_his_mother</td>\n",
       "      <td>50408</td>\n",
       "      <td>A baby is borne us blis to bring \\nA maidden, ...</td>\n",
       "      <td>221</td>\n",
       "    </tr>\n",
       "    <tr>\n",
       "      <th>6870</th>\n",
       "      <td>anonymous</td>\n",
       "      <td>john_henry</td>\n",
       "      <td>42897</td>\n",
       "      <td>When John Henry was a little tiny baby\\nSittin...</td>\n",
       "      <td>395</td>\n",
       "    </tr>\n",
       "    <tr>\n",
       "      <th>7810</th>\n",
       "      <td>anonymous</td>\n",
       "      <td>love_me_little_love_me_long</td>\n",
       "      <td>50310</td>\n",
       "      <td>Love me little, love me long,\\nIs the burden o...</td>\n",
       "      <td>285</td>\n",
       "    </tr>\n",
       "    <tr>\n",
       "      <th>8024</th>\n",
       "      <td>anonymous</td>\n",
       "      <td>the_man_of_double_deed</td>\n",
       "      <td>56374</td>\n",
       "      <td>There was a man of double deed,\\nWho sowed his...</td>\n",
       "      <td>119</td>\n",
       "    </tr>\n",
       "    <tr>\n",
       "      <th>8660</th>\n",
       "      <td>anonymous</td>\n",
       "      <td>mr_nobody</td>\n",
       "      <td>42914</td>\n",
       "      <td>I know a funny little man,\\nAs quiet as a mous...</td>\n",
       "      <td>131</td>\n",
       "    </tr>\n",
       "    <tr>\n",
       "      <th>9565</th>\n",
       "      <td>anonymous</td>\n",
       "      <td>the_old_cloak</td>\n",
       "      <td>56371</td>\n",
       "      <td>This winter's weather it waxeth cold,\\nAnd fro...</td>\n",
       "      <td>475</td>\n",
       "    </tr>\n",
       "    <tr>\n",
       "      <th>10045</th>\n",
       "      <td>anonymous</td>\n",
       "      <td>pangur_bn</td>\n",
       "      <td>48267</td>\n",
       "      <td>From the ninth century Irish poem\\nPangur Bán ...</td>\n",
       "      <td>177</td>\n",
       "    </tr>\n",
       "    <tr>\n",
       "      <th>10187</th>\n",
       "      <td>anonymous</td>\n",
       "      <td>peace_be_upon_you</td>\n",
       "      <td>55433</td>\n",
       "      <td>Peace be upon you \\nministering angels,\\nangel...</td>\n",
       "      <td>101</td>\n",
       "    </tr>\n",
       "    <tr>\n",
       "      <th>10201</th>\n",
       "      <td>anonymous</td>\n",
       "      <td>pearl_section_i_modern_version_</td>\n",
       "      <td>50055</td>\n",
       "      <td>I\\n1\\nPearl, the precious prize of a king,\\nCh...</td>\n",
       "      <td>424</td>\n",
       "    </tr>\n",
       "    <tr>\n",
       "      <th>10296</th>\n",
       "      <td>anonymous</td>\n",
       "      <td>_phoebus_was_gone_all_gone_his_journey_over_</td>\n",
       "      <td>50915</td>\n",
       "      <td>Phoebus was gone, all gone, his journey over.\\...</td>\n",
       "      <td>254</td>\n",
       "    </tr>\n",
       "    <tr>\n",
       "      <th>10592</th>\n",
       "      <td>anonymous</td>\n",
       "      <td>poor_old_lady</td>\n",
       "      <td>42911</td>\n",
       "      <td>Poor old lady, she swallowed a fly.\\nI don't k...</td>\n",
       "      <td>302</td>\n",
       "    </tr>\n",
       "    <tr>\n",
       "      <th>11904</th>\n",
       "      <td>anonymous</td>\n",
       "      <td>she_lay_all_naked</td>\n",
       "      <td>50481</td>\n",
       "      <td>She lay all naked in her bed,\\nAnd I myself la...</td>\n",
       "      <td>231</td>\n",
       "    </tr>\n",
       "    <tr>\n",
       "      <th>12411</th>\n",
       "      <td>anonymous</td>\n",
       "      <td>the_song_of_lewes</td>\n",
       "      <td>50406</td>\n",
       "      <td>Sitteth alle stille and herkneth to me \\nThe K...</td>\n",
       "      <td>363</td>\n",
       "    </tr>\n",
       "    <tr>\n",
       "      <th>12795</th>\n",
       "      <td>anonymous</td>\n",
       "      <td>st_stephen_and_herod</td>\n",
       "      <td>43558</td>\n",
       "      <td>Seynt Stevene was a clerk in Kyng Herowdes hal...</td>\n",
       "      <td>251</td>\n",
       "    </tr>\n",
       "    <tr>\n",
       "      <th>14211</th>\n",
       "      <td>anonymous</td>\n",
       "      <td>the_twelve_days_of_christmas</td>\n",
       "      <td>42913</td>\n",
       "      <td>The first day of Christmas,\\nMy true love sent...</td>\n",
       "      <td>413</td>\n",
       "    </tr>\n",
       "    <tr>\n",
       "      <th>14273</th>\n",
       "      <td>anonymous</td>\n",
       "      <td>ubi_sunt_qui_ante_nos_fuerunt_</td>\n",
       "      <td>43575</td>\n",
       "      <td>Were beeth they biforen us weren,\\nHoundes led...</td>\n",
       "      <td>344</td>\n",
       "    </tr>\n",
       "    <tr>\n",
       "      <th>14358</th>\n",
       "      <td>anonymous</td>\n",
       "      <td>the_unquiet_grave</td>\n",
       "      <td>50403</td>\n",
       "      <td>The wind doth blow today, my love,\\nAnd a few...</td>\n",
       "      <td>184</td>\n",
       "    </tr>\n",
       "    <tr>\n",
       "      <th>15373</th>\n",
       "      <td>anonymous</td>\n",
       "      <td>a_womans_looks</td>\n",
       "      <td>50274</td>\n",
       "      <td>A woman's looks\\nAre barbed hooks,\\nThat catch...</td>\n",
       "      <td>113</td>\n",
       "    </tr>\n",
       "  </tbody>\n",
       "</table>\n",
       "</div>"
      ],
      "text/plain": [
       "          author                                         title  \\\n",
       "412    anonymous                                       alysoun   \n",
       "1214   anonymous                                 barbara_allen   \n",
       "1418   anonymous           beowulf_modern_english_translation_   \n",
       "1606   anonymous                           blow_northerne_wind   \n",
       "2145   anonymous                               charms_for_love   \n",
       "3521   anonymous                                      each_day   \n",
       "4019   anonymous            from_the_exeter_book_gnomic_verses   \n",
       "4580   anonymous                         for_we_are_thy_people   \n",
       "4677   anonymous                                the_foxs_foray   \n",
       "4807   anonymous                   from_old_english_rune_poem_   \n",
       "5016   anonymous                 getting_information_out_of_pa   \n",
       "5994   anonymous                       _i_have_a_young_sister_   \n",
       "6069   anonymous                          _i_saw_my_lady_weep_   \n",
       "6071   anonymous          i_shall_be_married_on_monday_morning   \n",
       "6839   anonymous                          a_jest_of_robin_hood   \n",
       "6841   anonymous                     jesus_comforts_his_mother   \n",
       "6870   anonymous                                    john_henry   \n",
       "7810   anonymous                   love_me_little_love_me_long   \n",
       "8024   anonymous                        the_man_of_double_deed   \n",
       "8660   anonymous                                     mr_nobody   \n",
       "9565   anonymous                                 the_old_cloak   \n",
       "10045  anonymous                                     pangur_bn   \n",
       "10187  anonymous                             peace_be_upon_you   \n",
       "10201  anonymous               pearl_section_i_modern_version_   \n",
       "10296  anonymous  _phoebus_was_gone_all_gone_his_journey_over_   \n",
       "10592  anonymous                                 poor_old_lady   \n",
       "11904  anonymous                             she_lay_all_naked   \n",
       "12411  anonymous                             the_song_of_lewes   \n",
       "12795  anonymous                          st_stephen_and_herod   \n",
       "14211  anonymous                  the_twelve_days_of_christmas   \n",
       "14273  anonymous                ubi_sunt_qui_ante_nos_fuerunt_   \n",
       "14358  anonymous                             the_unquiet_grave   \n",
       "15373  anonymous                                a_womans_looks   \n",
       "\n",
       "       poetry_foundation_id  \\\n",
       "412                   43516   \n",
       "1214                  50273   \n",
       "1418                  50114   \n",
       "1606                  43522   \n",
       "2145                  50931   \n",
       "3521                  55425   \n",
       "4019                  48750   \n",
       "4580                  53780   \n",
       "4677                  56589   \n",
       "4807                  56322   \n",
       "5016                  52701   \n",
       "5994                  50402   \n",
       "6069                  50501   \n",
       "6071                  50309   \n",
       "6839                  43544   \n",
       "6841                  50408   \n",
       "6870                  42897   \n",
       "7810                  50310   \n",
       "8024                  56374   \n",
       "8660                  42914   \n",
       "9565                  56371   \n",
       "10045                 48267   \n",
       "10187                 55433   \n",
       "10201                 50055   \n",
       "10296                 50915   \n",
       "10592                 42911   \n",
       "11904                 50481   \n",
       "12411                 50406   \n",
       "12795                 43558   \n",
       "14211                 42913   \n",
       "14273                 43575   \n",
       "14358                 50403   \n",
       "15373                 50274   \n",
       "\n",
       "                                                 content  length_in_words  \n",
       "412    An hendy hap ichabbe yhent \\nIchot, from heven...              189  \n",
       "1214   In Scarlet town, where I was born,\\nThere was ...              254  \n",
       "1418   LO, praise of the prowess of people kings\\nof ...            23130  \n",
       "1606   Blow, northerne wynd,\\nSend thou me my suetyng...              310  \n",
       "2145   I beat you with a hazel rod\\nCome to me in mad...              300  \n",
       "3521   Each day as dawn approaches,\\nthe King sits in...              102  \n",
       "4019    lines 71 99 \\nFrost shall freeze\\nfire eat wo...              220  \n",
       "4580   For we are thy people, and thou art our God \\n...              101  \n",
       "4677   A fox jumped out one winter's night,\\nAnd begg...              379  \n",
       "4807   i\\n feoh \\nWealth is a comfort to every man\\ny...              220  \n",
       "5016   My pa he didn t go to town\\nLast evening after...              203  \n",
       "5994   I have a yong suster\\nFer beyonden the se,\\nMa...              123  \n",
       "6069   I saw my Lady weep,\\nAnd Sorrow proud to be ad...              126  \n",
       "6071   As I was walking one morning in spring,\\nI hea...              209  \n",
       "6839   Lyth and lystyn, gentilmen,\\nAll that nowe be ...             1431  \n",
       "6841   A baby is borne us blis to bring \\nA maidden, ...              221  \n",
       "6870   When John Henry was a little tiny baby\\nSittin...              395  \n",
       "7810   Love me little, love me long,\\nIs the burden o...              285  \n",
       "8024   There was a man of double deed,\\nWho sowed his...              119  \n",
       "8660   I know a funny little man,\\nAs quiet as a mous...              131  \n",
       "9565   This winter's weather it waxeth cold,\\nAnd fro...              475  \n",
       "10045  From the ninth century Irish poem\\nPangur Bán ...              177  \n",
       "10187  Peace be upon you \\nministering angels,\\nangel...              101  \n",
       "10201  I\\n1\\nPearl, the precious prize of a king,\\nCh...              424  \n",
       "10296  Phoebus was gone, all gone, his journey over.\\...              254  \n",
       "10592  Poor old lady, she swallowed a fly.\\nI don't k...              302  \n",
       "11904  She lay all naked in her bed,\\nAnd I myself la...              231  \n",
       "12411  Sitteth alle stille and herkneth to me \\nThe K...              363  \n",
       "12795  Seynt Stevene was a clerk in Kyng Herowdes hal...              251  \n",
       "14211  The first day of Christmas,\\nMy true love sent...              413  \n",
       "14273  Were beeth they biforen us weren,\\nHoundes led...              344  \n",
       "14358   The wind doth blow today, my love,\\nAnd a few...              184  \n",
       "15373  A woman's looks\\nAre barbed hooks,\\nThat catch...              113  "
      ]
     },
     "execution_count": 7,
     "metadata": {},
     "output_type": "execute_result"
    }
   ],
   "source": [
    "# Only beowulf is long enough to be considered\n",
    "# The book by sir_gawain_and_the_green_knight is not actually in english.\n",
    "df_anonymous = df[df.author=='anonymous']\n",
    "df_anonymous"
   ]
  },
  {
   "cell_type": "code",
   "execution_count": 8,
   "metadata": {},
   "outputs": [
    {
     "data": {
      "text/html": [
       "<div>\n",
       "<style scoped>\n",
       "    .dataframe tbody tr th:only-of-type {\n",
       "        vertical-align: middle;\n",
       "    }\n",
       "\n",
       "    .dataframe tbody tr th {\n",
       "        vertical-align: top;\n",
       "    }\n",
       "\n",
       "    .dataframe thead th {\n",
       "        text-align: right;\n",
       "    }\n",
       "</style>\n",
       "<table border=\"1\" class=\"dataframe\">\n",
       "  <thead>\n",
       "    <tr style=\"text-align: right;\">\n",
       "      <th></th>\n",
       "      <th>author</th>\n",
       "      <th>title</th>\n",
       "      <th>poetry_foundation_id</th>\n",
       "      <th>content</th>\n",
       "      <th>length_in_words</th>\n",
       "    </tr>\n",
       "  </thead>\n",
       "  <tbody>\n",
       "    <tr>\n",
       "      <th>1418</th>\n",
       "      <td>anonymous</td>\n",
       "      <td>beowulf_modern_english_translation_</td>\n",
       "      <td>50114</td>\n",
       "      <td>LO, praise of the prowess of people kings\\nof ...</td>\n",
       "      <td>23130</td>\n",
       "    </tr>\n",
       "  </tbody>\n",
       "</table>\n",
       "</div>"
      ],
      "text/plain": [
       "         author                                title  poetry_foundation_id  \\\n",
       "1418  anonymous  beowulf_modern_english_translation_                 50114   \n",
       "\n",
       "                                                content  length_in_words  \n",
       "1418  LO, praise of the prowess of people kings\\nof ...            23130  "
      ]
     },
     "execution_count": 8,
     "metadata": {},
     "output_type": "execute_result"
    }
   ],
   "source": [
    "#Observe that only Beowulf is long enough to keep. \n",
    "\n",
    "beowulf = df_anonymous[df_anonymous.title=='beowulf_modern_english_translation_']\n",
    "beowulf"
   ]
  },
  {
   "cell_type": "code",
   "execution_count": 9,
   "metadata": {},
   "outputs": [
    {
     "data": {
      "text/plain": [
       "11775"
      ]
     },
     "execution_count": 9,
     "metadata": {},
     "output_type": "execute_result"
    }
   ],
   "source": [
    "df_not_anonimous = df[df.author!='anonymous']\n",
    "len(df_not_anonimous)"
   ]
  },
  {
   "cell_type": "code",
   "execution_count": 10,
   "metadata": {},
   "outputs": [],
   "source": [
    "# Let us count from which authors we have enough material\n",
    "NEED_WORDS_PER_AUTTHOR = 2500\n",
    "repeated_authors = df_not_anonimous.groupby('author')['length_in_words'].sum()\n",
    "repeated_authors_list= [i[0] for i in repeated_authors[repeated_authors > NEED_WORDS_PER_AUTTHOR].items()]"
   ]
  },
  {
   "cell_type": "code",
   "execution_count": 11,
   "metadata": {},
   "outputs": [],
   "source": [
    "df_not_anonimous = df_not_anonimous[df_not_anonimous.author.isin(repeated_authors_list)] "
   ]
  },
  {
   "cell_type": "code",
   "execution_count": 12,
   "metadata": {},
   "outputs": [
    {
     "data": {
      "text/plain": [
       "5175"
      ]
     },
     "execution_count": 12,
     "metadata": {},
     "output_type": "execute_result"
    }
   ],
   "source": [
    "len(df_not_anonimous)"
   ]
  },
  {
   "cell_type": "markdown",
   "metadata": {},
   "source": [
    "###  Explore best poems for training\n",
    "- Measures word lenght, \n",
    "- Partitions accordingly,\n",
    "- create pandas series,\n",
    "- appends accordingly,"
   ]
  },
  {
   "cell_type": "code",
   "execution_count": 13,
   "metadata": {},
   "outputs": [],
   "source": [
    "SPLIT_INTO = 100\n",
    "\n",
    "def poem_fragments(poem_series, split_into=SPLIT_INTO):\n",
    "    \"\"\" \n",
    "    Gets wordlend of a poem,  \n",
    "    if larger than SPLIT_INTO partions into next paragraph\n",
    "    return author, title and poem broken in this way\n",
    "    \"\"\"\n",
    "    \n",
    "    \n",
    "    poem = poem_series\n",
    "    poem_author = poem.author\n",
    "    poem_title = poem.title\n",
    "    poem_content = poem.content\n",
    "    poem_pa= poem.content.split('.\\n')\n",
    "    i=0\n",
    "    while ((i+1)!=(len(poem_pa))):\n",
    "        if not (len(poem_pa[i].split())<SPLIT_INTO):\n",
    "            if poem_pa[i][-1]!='.': poem_pa[i]=poem_pa[i]+'.'\n",
    "            #print('FINAL')\n",
    "            #print(poem_pa[i])\n",
    "            i+=1        \n",
    "        else:\n",
    "            #print('BEFORE')\n",
    "            #print(poem_pa[i])\n",
    "            poem_pa[i] =  poem_pa[i]+'.\\n'+poem_pa[i+1]\n",
    "        \n",
    "            del poem_pa[i+1]\n",
    "    return  (poem_author, poem_title  ,poem_pa) \n"
   ]
  },
  {
   "cell_type": "code",
   "execution_count": 14,
   "metadata": {},
   "outputs": [],
   "source": [
    "df_LONGEST = df_not_anonimous.append(beowulf)\n",
    "df_final = df_LONGEST[:0].drop(columns= ['poetry_foundation_id','length_in_words'])"
   ]
  },
  {
   "cell_type": "code",
   "execution_count": 15,
   "metadata": {},
   "outputs": [],
   "source": [
    "for i in range(len(df_LONGEST)):\n",
    "    (author, title, poem_pa  )= poem_fragments( df_LONGEST.iloc[i])\n",
    "    for j in poem_pa:\n",
    "        df_final=df_final.append(pd.Series({'author': author, 'title':title, 'content':j }),ignore_index=True)"
   ]
  },
  {
   "cell_type": "code",
   "execution_count": 16,
   "metadata": {},
   "outputs": [],
   "source": [
    "authors_list= [i[0] for i in df_final.author.value_counts().items()]\n",
    "authors_count_list= [i[1] for i in df_final.author.value_counts().items()]"
   ]
  },
  {
   "cell_type": "code",
   "execution_count": 17,
   "metadata": {},
   "outputs": [],
   "source": [
    "author_dict = {j:i for i,j in enumerate(authors_list)}\n",
    "df_final['author_label'] = df_final.author.apply(lambda x: author_dict[x])"
   ]
  },
  {
   "cell_type": "code",
   "execution_count": 18,
   "metadata": {
    "scrolled": true
   },
   "outputs": [],
   "source": [
    "process_dir= '../data/processed/'"
   ]
  },
  {
   "cell_type": "code",
   "execution_count": 19,
   "metadata": {},
   "outputs": [],
   "source": [
    "# Take top hundred authors, ignore the first to no\n",
    "MAX_N_AUTHORS= 10\n",
    "MAX_LIST= authors_list[:MAX_N_AUTHORS]\n",
    "df_final[df_final.author.isin(MAX_LIST)].drop(columns= ['author', 'title']).to_json(process_dir+'top_10_authors.json', orient='records', lines=True)"
   ]
  },
  {
   "cell_type": "code",
   "execution_count": 20,
   "metadata": {},
   "outputs": [],
   "source": [
    "# Take top hundred authors, ignore the first to no\n",
    "MAX_N_AUTHORS= 90\n",
    "MAX_LIST= authors_list[:MAX_N_AUTHORS]\n",
    "df_final[df_final.author.isin(MAX_LIST)].drop(columns= ['author', 'title']).to_json(process_dir+'top_90_authors.json', orient='records', lines=True)"
   ]
  },
  {
   "cell_type": "code",
   "execution_count": 21,
   "metadata": {},
   "outputs": [],
   "source": [
    "# Take top hundred authors, ignore the first to no\n",
    "MAX_N_AUTHORS= 100\n",
    "MIN_N_AUTHORS = 90\n",
    "MAX_LIST= authors_list[MIN_N_AUTHORS:MAX_N_AUTHORS]\n",
    "df_final[df_final.author.isin(MAX_LIST)].drop(columns= ['author', 'title']).to_json(process_dir+'bottom_10_authors.json', orient='records', lines=True)"
   ]
  },
  {
   "cell_type": "markdown",
   "metadata": {},
   "source": [
    "# Getting 10 longest poems"
   ]
  },
  {
   "cell_type": "code",
   "execution_count": 22,
   "metadata": {},
   "outputs": [],
   "source": [
    "df_longest = df[df.author!='john_milton']"
   ]
  },
  {
   "cell_type": "code",
   "execution_count": 23,
   "metadata": {},
   "outputs": [
    {
     "data": {
      "text/plain": [
       "[1418, 12412, 14512, 11631, 5112, 66, 12259, 6929, 6180, 2967]"
      ]
     },
     "execution_count": 23,
     "metadata": {},
     "output_type": "execute_result"
    }
   ],
   "source": [
    "LONGEST_N= 10\n",
    "longest_list= [i[0] for i in df_longest.length_in_words.sort_values(ascending=False).items()][:LONGEST_N]\n",
    "longest_list"
   ]
  },
  {
   "cell_type": "code",
   "execution_count": 24,
   "metadata": {},
   "outputs": [],
   "source": [
    "df_longest= df_longest[df_longest.index.isin(longest_list)]"
   ]
  },
  {
   "cell_type": "code",
   "execution_count": 25,
   "metadata": {},
   "outputs": [],
   "source": [
    "df_top10 = df_longest[:0].drop(columns= ['poetry_foundation_id','length_in_words'])"
   ]
  },
  {
   "cell_type": "code",
   "execution_count": 26,
   "metadata": {},
   "outputs": [],
   "source": [
    "for i in range(len(df_longest)):\n",
    "    (author,title, poem_pa  )= poem_fragments( df_longest.iloc[i])\n",
    "    for j in poem_pa:\n",
    "        df_top10=df_top10.append(pd.Series({'author': author, 'title':title, 'content':j }),ignore_index=True)"
   ]
  },
  {
   "cell_type": "code",
   "execution_count": 27,
   "metadata": {},
   "outputs": [
    {
     "data": {
      "text/plain": [
       "{'john_dryden': 0,\n",
       " 'anonymous': 1,\n",
       " 'robert_pinsky': 2,\n",
       " 'anne_carson': 3,\n",
       " 'alfred_lord_tennyson': 4,\n",
       " 'allen_ginsberg': 5,\n",
       " 'philip_whalen': 6,\n",
       " 'matthew_arnold': 7,\n",
       " 'walt_whitman': 8,\n",
       " 'william_shakespeare': 9}"
      ]
     },
     "execution_count": 27,
     "metadata": {},
     "output_type": "execute_result"
    }
   ],
   "source": [
    "author_dict = {j:i for i,j in enumerate(df_top10.author.unique())}\n",
    "author_dict"
   ]
  },
  {
   "cell_type": "code",
   "execution_count": 28,
   "metadata": {},
   "outputs": [],
   "source": [
    "df_top10['author_label'] = df_top10.author.apply(lambda x: author_dict[x])"
   ]
  },
  {
   "cell_type": "code",
   "execution_count": 29,
   "metadata": {},
   "outputs": [
    {
     "data": {
      "text/plain": [
       "676"
      ]
     },
     "execution_count": 29,
     "metadata": {},
     "output_type": "execute_result"
    }
   ],
   "source": [
    "len(df_top10)"
   ]
  },
  {
   "cell_type": "code",
   "execution_count": 30,
   "metadata": {},
   "outputs": [],
   "source": [
    "df_top10.drop(columns= ['author', 'title']).to_json(process_dir+'longest_poems.json', orient='records', lines=True)"
   ]
  },
  {
   "cell_type": "code",
   "execution_count": null,
   "metadata": {},
   "outputs": [],
   "source": []
  }
 ],
 "metadata": {
  "kernelspec": {
   "display_name": "Python 3",
   "language": "python",
   "name": "python3"
  },
  "language_info": {
   "codemirror_mode": {
    "name": "ipython",
    "version": 3
   },
   "file_extension": ".py",
   "mimetype": "text/x-python",
   "name": "python",
   "nbconvert_exporter": "python",
   "pygments_lexer": "ipython3",
   "version": "3.7.1"
  }
 },
 "nbformat": 4,
 "nbformat_minor": 2
}
