{
 "cells": [
  {
   "cell_type": "code",
   "execution_count": 1,
   "metadata": {},
   "outputs": [],
   "source": [
    "import pandas as pd\n",
    "from langdetect import detect_langs\n",
    "import matplotlib.pyplot as plt\n",
    "import seaborn as sns\n",
    "import re\n",
    "data_dir = '../data/wrangled/'\n",
    "data_file = 'wrangled_data.csv'"
   ]
  },
  {
   "cell_type": "code",
   "execution_count": 2,
   "metadata": {},
   "outputs": [],
   "source": [
    "df = pd.read_csv(data_dir + data_file,index_col=0)"
   ]
  },
  {
   "cell_type": "code",
   "execution_count": 3,
   "metadata": {},
   "outputs": [],
   "source": [
    "def wspace_schars(review, chars_to_keep=\".,'\\n\" , no_white_space = True, no_newlines= True):\n",
    "    \"\"\"\n",
    "    Function to formar expressions\n",
    "    \"\"\"\n",
    "    \n",
    "    to_keep= \"\"\n",
    "    for i in chars_to_keep:\n",
    "        to_keep+= i+'|'\n",
    "   \n",
    "    rep_special_chars= re.compile(\"[^\\w\\n|\"+ (to_keep[:-1])+ \"]|_\") \n",
    "    \n",
    "    text=rep_special_chars.sub(' ', review) # Subs special charas by white space except chars_to_keep\n",
    "    if no_white_space:\n",
    "        text = re.sub('\\n+', '\\n',text) # Remove consecutive breaklines\n",
    "    if no_newlines:\n",
    "        text = re.sub(' +', ' ',text) # Remove consecutive white space\n",
    "    return text"
   ]
  },
  {
   "cell_type": "code",
   "execution_count": 4,
   "metadata": {
    "scrolled": true
   },
   "outputs": [
    {
     "name": "stdout",
     "output_type": "stream",
     "text": [
      "\n",
      "To those who want to try a different way of formating \n",
      " \n",
      "'''''\n",
      "'a a'\n",
      "a a's\n",
      "b b.....\n",
      ",.... \n",
      "\n"
     ]
    }
   ],
   "source": [
    "test_string = \"\"\"\n",
    "To those who want to try a different way of formating:\n",
    "!@#$%^&*()_+\n",
    "'''''\n",
    "'a____a'\n",
    "\n",
    "\n",
    "a____a's\n",
    "\n",
    "\n",
    "\n",
    "b   b.....\n",
    ",..../?\n",
    "\"\"\"\n",
    "print(wspace_schars(test_string))"
   ]
  },
  {
   "cell_type": "code",
   "execution_count": 5,
   "metadata": {},
   "outputs": [],
   "source": [
    "df['content'] = df.content.apply(lambda x: wspace_schars(x, \n",
    "            chars_to_keep=\".,'\\n?!\", no_white_space = False, no_newlines= False))"
   ]
  },
  {
   "cell_type": "code",
   "execution_count": 6,
   "metadata": {},
   "outputs": [],
   "source": [
    "# Longest poems\n",
    "TOP_N = 12000\n",
    "longest_poems_ids =df.length_in_words.sort_values(ascending=False)[:TOP_N]\n",
    "longest_poems_ids = [i[0] for i in longest_poems_ids.items()]"
   ]
  },
  {
   "cell_type": "code",
   "execution_count": 7,
   "metadata": {},
   "outputs": [],
   "source": [
    "# Let us count from which authors we have enough material\n",
    "NEED_WORDS_PER_AUTHOR = 2500\n",
    "repeated_authors = df.groupby('author')['length_in_words'].sum()\n",
    "repeated_authors_list= [i[0] for i in repeated_authors[repeated_authors > NEED_WORDS_PER_AUTHOR].items()]\n",
    "\n",
    "df = df[df.author.isin(repeated_authors_list)] "
   ]
  },
  {
   "cell_type": "markdown",
   "metadata": {},
   "source": [
    "###  Explore best poems for training\n",
    "- Measures word lenght, \n",
    "- Partitions accordingly,\n",
    "- create pandas series,\n",
    "- appends accordingly,"
   ]
  },
  {
   "cell_type": "code",
   "execution_count": 8,
   "metadata": {},
   "outputs": [],
   "source": [
    "SPLIT_INTO = 100\n",
    "\n",
    "def poem_fragments(poem_series, split_into=SPLIT_INTO):\n",
    "    \"\"\" \n",
    "    Gets wordlend of a poem,  \n",
    "    if larger than SPLIT_INTO partions into next paragraph\n",
    "    return author, title and poem broken in this way\n",
    "    \"\"\"\n",
    "    \n",
    "    \n",
    "    poem = poem_series\n",
    "    poem_author = poem.author\n",
    "    poem_title = poem.title\n",
    "    poem_content = poem.content\n",
    "    poem_pa= poem.content.split('.\\n')\n",
    "    i=0\n",
    "    while ((i+1)!=(len(poem_pa))):\n",
    "        if not (len(poem_pa[i].split())<SPLIT_INTO):\n",
    "            if poem_pa[i][-1]!='.': poem_pa[i]=poem_pa[i]+'.'\n",
    "            #print('FINAL')\n",
    "            #print(poem_pa[i])\n",
    "            i+=1        \n",
    "        else:\n",
    "            #print('BEFORE')\n",
    "            #print(poem_pa[i])\n",
    "            poem_pa[i] =  poem_pa[i]+'.\\n'+poem_pa[i+1]\n",
    "        \n",
    "            del poem_pa[i+1]\n",
    "    return  (poem_author, poem_title  ,poem_pa) \n"
   ]
  },
  {
   "cell_type": "code",
   "execution_count": 9,
   "metadata": {},
   "outputs": [],
   "source": [
    "df_final = df[:0].drop(columns= ['poetry_foundation_id','length_in_words'])"
   ]
  },
  {
   "cell_type": "code",
   "execution_count": 10,
   "metadata": {},
   "outputs": [],
   "source": [
    "for i in range(len(df)):\n",
    "    (author, title, poem_pa  )= poem_fragments( df.iloc[i])\n",
    "    for j in poem_pa:\n",
    "        df_final=df_final.append(pd.Series({'author': author, 'title':title, 'content':j }),ignore_index=True)"
   ]
  },
  {
   "cell_type": "code",
   "execution_count": 27,
   "metadata": {},
   "outputs": [],
   "source": [
    "authors_list= [i[0] for i in df_final.author.value_counts().items()]\n",
    "authors_count_list= [i[1] for i in df_final.author.value_counts().items()]"
   ]
  },
  {
   "cell_type": "code",
   "execution_count": 28,
   "metadata": {},
   "outputs": [],
   "source": [
    "author_dict = {j:i for i,j in enumerate(authors_list)}\n",
    "df_final['author_label'] = df_final.author.apply(lambda x: author_dict[x])"
   ]
  },
  {
   "cell_type": "code",
   "execution_count": 29,
   "metadata": {},
   "outputs": [
    {
     "data": {
      "text/plain": [
       "{'alfred_lord_tennyson': 0,\n",
       " 'algernon_charles_swinburne': 1,\n",
       " 'robert_browning': 2,\n",
       " 'alexander_pope': 3,\n",
       " 'walt_whitman': 4,\n",
       " 'william_shakespeare': 5,\n",
       " 'william_wordsworth': 6,\n",
       " 'edmund_spenser': 7,\n",
       " 'matthew_arnold': 8,\n",
       " 'percy_sshe_shelley': 9,\n",
       " 'anonymous': 10,\n",
       " 'john_dryden': 11,\n",
       " 'john_ashbery': 12,\n",
       " 'henry_wadsworth_longfellow': 13,\n",
       " 'john_donne': 14,\n",
       " 'robert_pinsky': 15,\n",
       " 'john_koethe': 16,\n",
       " 'lord_ron_george_gordon_': 17,\n",
       " 'anne_bradstreet': 18,\n",
       " 'derek_walcott': 19,\n",
       " 'christian_wiman': 20,\n",
       " 'samuel_taylor_coleridge': 21,\n",
       " 'frank_bidart': 22,\n",
       " 'henry_timrod': 23,\n",
       " 'ezra_pound': 24,\n",
       " 'carolyn_kizer': 25,\n",
       " 'tom_sleigh': 26,\n",
       " 'gertrude_stein': 27,\n",
       " 'david_ferry': 28,\n",
       " 'john_keats': 29,\n",
       " 'mark_rudman': 30,\n",
       " 'james_mcmichael': 31,\n",
       " 'andrew_marvell': 32,\n",
       " 'charles_reznikoff': 33,\n",
       " 'alice_notley': 34,\n",
       " 'anne_carson': 35,\n",
       " 'elizabeth_barrett_browning': 36,\n",
       " 'john_greenleaf_whittier': 37,\n",
       " 'dean_young': 38,\n",
       " 'william_butler_yeats': 39,\n",
       " 'george_seferis': 40,\n",
       " 'muriel_rukeyser': 41,\n",
       " 'brenda_shaughnessy': 42,\n",
       " 'donald_revell': 43,\n",
       " 'robert_frost': 44,\n",
       " 'melvin_b_tolson': 45,\n",
       " 'jonathan_swift': 46,\n",
       " 'john_fuller': 47,\n",
       " 'joy_harjo': 48,\n",
       " 'gwendolyn_brooks': 49,\n",
       " 'rachel_wetzsteon': 50,\n",
       " 'li_young_lee': 51,\n",
       " 'billy_collins': 52,\n",
       " 'w_d_snodgrass': 53,\n",
       " 'philip_whalen': 54,\n",
       " 'yusef_komunyakaa': 55,\n",
       " 'rudyard_kipling': 56,\n",
       " 'edwin_arlington_robinson': 57,\n",
       " 'robert_w_service': 58,\n",
       " 'amy_lowell': 59,\n",
       " 'howard_nemerov': 60,\n",
       " 't_s_eliot': 61,\n",
       " 'stanley_moss': 62,\n",
       " 'george_herbert': 63,\n",
       " 'kenneth_koch': 64,\n",
       " 'robert_fitzgerald': 65,\n",
       " 'allen_ginsberg': 66,\n",
       " 'sir_philip_sidney': 67,\n",
       " 'nathaniel_mackey': 68,\n",
       " 'george_meredith': 69,\n",
       " 'thomas_hardy': 70,\n",
       " 'geoffrey_hill': 71,\n",
       " 'william_cowper': 72,\n",
       " 'juan_felipe_herrera': 73,\n",
       " 'keith_waldrop': 74,\n",
       " 'lady_mary_wortley_montagu': 75,\n",
       " 'dante_gabriel_rossetti': 76,\n",
       " 'william_matthews': 77,\n",
       " 'albert_goldbarth': 78,\n",
       " 'tim_dlugos': 79,\n",
       " 'kahlil_gibran': 80,\n",
       " 'ben_jonson': 81,\n",
       " 'robert_burns': 82,\n",
       " 'c_d_wright': 83,\n",
       " 'robert_duncan': 84,\n",
       " 'seamus_heaney': 85,\n",
       " 'christopher_logue': 86,\n",
       " 'edward_thomas': 87,\n",
       " 'james_galvin': 88,\n",
       " 'knight_of_the_white_elephant_of_burmah_william_mcgonagall': 89,\n",
       " 'louise_glck': 90,\n",
       " 'david_lehman': 91,\n",
       " 'martn_espada': 92,\n",
       " 'w_s_di_piero': 93,\n",
       " 'peter_balakian': 94,\n",
       " 'ange_mlinko': 95,\n",
       " 'joseph_brodsky': 96,\n",
       " 'matthew_sweeney': 97,\n",
       " 'robert_hass': 98,\n",
       " 'christina_rossetti': 99,\n",
       " 'edgar_lee_masters': 100,\n",
       " 'charles_bukowski': 101,\n",
       " 'ray_gonzalez': 102,\n",
       " 'larry_levis': 103,\n",
       " 'ron_padgett': 104,\n",
       " 'hayan_charara': 105,\n",
       " 'louis_simpson': 106,\n",
       " 'elizabeth_bishop': 107,\n",
       " 'james_tate': 108,\n",
       " 'mei_mei_berssenbrugge': 109,\n",
       " 'lewis_carroll': 110,\n",
       " 'james_wright': 111,\n",
       " 'd_h_lawrence': 112,\n",
       " 'ed_roberson': 113,\n",
       " 'norman_dubie': 114,\n",
       " 'jay_wright': 115,\n",
       " 'anne_stevenson': 116,\n",
       " 'tracy_k_smith': 117,\n",
       " 'john_ciardi': 118,\n",
       " 'carl_sandburg': 119,\n",
       " 'alfred_corn': 120,\n",
       " 'derek_mahon': 121,\n",
       " 'camille_t_dungy': 122,\n",
       " 'paisley_rekdal': 123,\n",
       " 'howard_moss': 124,\n",
       " 'paul_muldoon': 125,\n",
       " 'arthur_sze': 126,\n",
       " 'basil_bunting': 127,\n",
       " 'delmore_schwartz': 128,\n",
       " 'gerard_manley_hopkins': 129,\n",
       " 'christopher_smart': 130,\n",
       " 'william_meredith': 131,\n",
       " 'sylvia_plath': 132,\n",
       " 'czeslaw_milosz': 133,\n",
       " 'charlotte_mew': 134,\n",
       " 'alan_r_shapiro': 135,\n",
       " 'danez_smith': 136,\n",
       " 'brenda_hillman': 137,\n",
       " 'marge_piercy': 138,\n",
       " 'spencer_reece': 139,\n",
       " 'w_s_merwin': 140,\n",
       " 'khaled_mattawa': 141,\n",
       " 'edgar_allan_poe': 142,\n",
       " 'molly_peacock': 143,\n",
       " 'thomas_gray': 144,\n",
       " 'sir_thomas_wyatt': 145,\n",
       " 'robert_lowell': 146,\n",
       " 'a_f_moritz': 147,\n",
       " 'randall_mann': 148,\n",
       " 'frank_stanford': 149,\n",
       " 'jimmy_santiago_baca': 150,\n",
       " 'galway_kinnell': 151,\n",
       " 'james_thomson': 152,\n",
       " 'jorie_graham': 153,\n",
       " 'isabella_whitney': 154,\n",
       " 'peter_gizzi': 155,\n",
       " 'philip_levine': 156,\n",
       " 'eleanor_wilner': 157,\n",
       " 'naomi_shihab_nye': 158,\n",
       " 'mary_karr': 159,\n",
       " 'susan_stewart': 160,\n",
       " 'tony_hoagland': 161,\n",
       " 'anne_winters': 162,\n",
       " 'gerald_stern': 163,\n",
       " 'diane_wakoski': 164,\n",
       " 'alice_fulton': 165,\n",
       " 'marvin_bell': 166,\n",
       " 'lawrence_ferlinghetti': 167,\n",
       " 'thomas_mcgrath': 168,\n",
       " 'roddy_lumsden': 169,\n",
       " 'cathy_song': 170,\n",
       " 'toi_derricotte': 171,\n",
       " 'daryl_hine': 172,\n",
       " 'sandra_mcpherson': 173,\n",
       " 'charles_wright': 174,\n",
       " 'juliana_spahr': 175,\n",
       " 'mary_sidney_herbert_countess_of_pembroke': 176,\n",
       " 'william_cullen_bryant': 177,\n",
       " 'margaret_atwood': 178,\n",
       " 'david_baker': 179,\n",
       " 'w_s_graham': 180,\n",
       " 'lucia_perillo': 181,\n",
       " 'oscar_wilde': 182,\n",
       " 'edna_st_vincent_millay': 183,\n",
       " 'marilyn_nelson': 184,\n",
       " 'paul_killebrew': 185,\n",
       " 'wilfred_owen': 186,\n",
       " 'john_logan': 187,\n",
       " 'jane_kenyon': 188,\n",
       " 'ai': 189,\n",
       " 'william_blake': 190,\n",
       " 'john_beer': 191,\n",
       " 'rita_dove': 192,\n",
       " 'george_oppen': 193,\n",
       " 'timothy_donnelly': 194,\n",
       " 'michael_ryan': 195,\n",
       " 'alberto_ros': 196,\n",
       " 'vachel_lindsay': 197,\n",
       " 'wallace_stevens': 198,\n",
       " 'stephen_edgar': 199,\n",
       " 'bob_hicok': 200,\n",
       " 'gail_mazur': 201,\n",
       " 'mark_halliday': 202,\n",
       " 'eileen_myles': 203,\n",
       " 'james_l_dickey': 204,\n",
       " 'karl_shapiro': 205,\n",
       " 'anne_sexton': 206,\n",
       " 'charles_bernstein': 207,\n",
       " 'donald_hall': 208,\n",
       " 'fanny_howe': 209,\n",
       " 'aimee_nezhukumatathil': 210,\n",
       " 'patricia_smith': 211,\n",
       " 'linda_gregerson': 212,\n",
       " 'terrance_hayes': 213,\n",
       " 'randall_jarrell': 214,\n",
       " 'r_t_smith': 215,\n",
       " 'cynthia_huntington': 216,\n",
       " 'garrett_hongo': 217,\n",
       " 'yehuda_amichai': 218,\n",
       " 'thom_gunn': 219,\n",
       " 'elizabeth_alexander': 220,\n",
       " 'sharon_olds': 221,\n",
       " 'anthony_madrid': 222,\n",
       " 'dorianne_laux': 223,\n",
       " 'reginald_gibbons': 224,\n",
       " 'rosanna_warren': 225,\n",
       " 'gregory_djanikian': 226,\n",
       " 'charlotte_anna_perkins_gilman': 227,\n",
       " 'carl_phillips': 228,\n",
       " 'gjertrud_schnackenberg': 229,\n",
       " 'michael_palmer': 230,\n",
       " 'dunya_mikhail': 231,\n",
       " 'joshua_mehigan': 232,\n",
       " 'curzio_malaparte': 233,\n",
       " 'marie_ponsot': 234,\n",
       " 'robert_herrick': 235,\n",
       " 'louise_erdrich': 236,\n",
       " 'richard_crashaw': 237,\n",
       " 'sina_queyras': 238,\n",
       " 'henry_vaughan': 239,\n",
       " 'gary_soto': 240,\n",
       " 'william_e_stafford': 241,\n",
       " 'ralph_waldo_emerson': 242,\n",
       " 'afaa_michael_weaver': 243,\n",
       " 'james_schuyler': 244,\n",
       " 'kenneth_rexroth': 245,\n",
       " 'jane_hirshfield': 246,\n",
       " 'denise_levertov': 247,\n",
       " 'archibald_macleish': 248,\n",
       " 'robert_creeley': 249,\n",
       " 'hayden_carruth': 250,\n",
       " 'aphra_behn': 251,\n",
       " 'carolyn_forch': 252,\n",
       " 'rick_barot': 253,\n",
       " 'ted_berrigan': 254,\n",
       " 'c_dale_young': 255,\n",
       " 'thomas_traherne': 256,\n",
       " 'ish_klein': 257,\n",
       " 'linda_bierds': 258,\n",
       " 'paul_laurence_dunbar': 259,\n",
       " 'l_e_sissman': 260,\n",
       " 'john_frederick_nims': 261,\n",
       " 'scott_cairns': 262,\n",
       " 'dave_smith': 263,\n",
       " 'ross_gay': 264,\n",
       " 'john_clare': 265,\n",
       " 'richard_wilbur': 266,\n",
       " 'eavan_boland': 267,\n",
       " 'c_k_williams': 268,\n",
       " 'stephen_dunn': 269,\n",
       " 'joanne_kyger': 270,\n",
       " 'frederick_seidel': 271,\n",
       " 'thomas_merton': 272,\n",
       " 'mary_jo_bang': 273,\n",
       " 'sir_walter_ralegh': 274,\n",
       " 'd_a_powell': 275,\n",
       " 'michael_hartnett': 276,\n",
       " 'andrew_hudgins': 277,\n",
       " 'barbara_guest': 278,\n",
       " 'alfred_noyes': 279,\n",
       " 'roberta_hill': 280,\n",
       " 'kenneth_slessor': 281,\n",
       " 'joanna_klink': 282,\n",
       " 'rodney_jones': 283,\n",
       " 'mary_ruefle': 284,\n",
       " 'john_haines': 285,\n",
       " 'tyehimba_jess': 286,\n",
       " 'mark_jarman': 287,\n",
       " 'siegfried_sassoon': 288,\n",
       " 'rigoberto_gonzlez': 289,\n",
       " 'paul_batchelor': 290,\n",
       " 'marilyn_hacker': 291,\n",
       " 'herman_melville': 292,\n",
       " 'ben_belitt': 293,\n",
       " 'edgar_albert_guest': 294,\n",
       " 'may_swenson': 295,\n",
       " 'edgar_bowers': 296,\n",
       " 'gary_snyder': 297,\n",
       " 'robert_wrigley': 298,\n",
       " 'emma_lazarus': 299,\n",
       " 'weldon_kees': 300,\n",
       " 'franz_wright': 301,\n",
       " 'carol_muske_dukes': 302,\n",
       " 'michael_schmidt': 303,\n",
       " 'monica_youn': 304,\n",
       " 'lynda_hull': 305,\n",
       " 'joel_brouwer': 306,\n",
       " 'john_peck': 307,\n",
       " 'william_carlos_williams': 308,\n",
       " 'agha_shahid_ali': 309,\n",
       " 'kamau_brathwaite': 310,\n",
       " 'eva_gore_booth': 311,\n",
       " 'robert_bridges': 312,\n",
       " 'oliver_wendell_holmes_sr_': 313,\n",
       " 'frank_lima': 314,\n",
       " 'etheridge_knight': 315,\n",
       " 'audre_lorde': 316,\n",
       " 'thomas_centolella': 317,\n",
       " 'allison_adelle_hedge_coke': 318,\n",
       " 'g_e_murray': 319,\n",
       " 'robert_southey': 320,\n",
       " 'hannah_more': 321,\n",
       " 'stephen_sandy': 322,\n",
       " 'h_d_': 323,\n",
       " 'kim_addonizio': 324,\n",
       " 'katie_peterson': 325,\n",
       " 'maxine_kumin': 326,\n",
       " 'a_e_stallings': 327,\n",
       " 'charles_olson': 328,\n",
       " 'jill_mcdonough': 329,\n",
       " 'oliver_goldsmith': 330,\n",
       " 'bernadette_mayer': 331,\n",
       " 'joseph_gordon_macleod': 332,\n",
       " 'anne_finch_countess_of_winchilsea': 333,\n",
       " 'david_st_john': 334,\n",
       " 'denis_johnson': 335,\n",
       " 'heather_mchugh': 336,\n",
       " 'michael_s_harper': 337,\n",
       " 'patricia_goedicke': 338,\n",
       " 'kathryn_nuernberger': 339,\n",
       " 'edwin_markham': 340,\n",
       " 'lyn_hejinian': 341,\n",
       " 'david_lee': 342,\n",
       " 'dan_beachy_quick': 343,\n",
       " 'averill_curdy': 344,\n",
       " 'david_rivard': 345,\n",
       " 'samuel_johnson': 346,\n",
       " 'karen_solie': 347,\n",
       " 'quan_barry': 348,\n",
       " 'g_k_chesterton': 349,\n",
       " 'fady_joudah': 350,\n",
       " 'john_taggart': 351,\n",
       " 'marilyn_chin': 352,\n",
       " 'frank_o_hara': 353,\n",
       " 'meghan_o_rourke': 354,\n",
       " 'nikki_giovanni': 355,\n",
       " 'dana_ward': 356,\n",
       " 'arthur_rimbaud': 357,\n",
       " 'amiri_baraka': 358,\n",
       " 'james_baldwin': 359,\n",
       " 'phillip_b_williams': 360,\n",
       " 'alicia_ostriker': 361,\n",
       " 'jack_collom': 362,\n",
       " 'gregory_corso': 363,\n",
       " 'dorothea_lasky': 364,\n",
       " 'jessica_greenbaum': 365,\n",
       " 'thylias_moss': 366,\n",
       " 'victor_hernndez_cruz': 367,\n",
       " 'claudia_rankine': 368,\n",
       " 'luke_kennard': 369,\n",
       " 'george_crabbe': 370,\n",
       " 'james_whitcomb_riley': 371,\n",
       " 'eamon_grennan': 372,\n",
       " 'nick_flynn': 373,\n",
       " 'june_jordan': 374,\n",
       " 'darcie_dennigan': 375,\n",
       " 'ishmael_reed': 376,\n",
       " 'nikky_finney': 377,\n",
       " 'susan_howe': 378,\n",
       " 'kazim_ali': 379,\n",
       " 'harmony_holiday': 380,\n",
       " 'anne_waldman': 381,\n",
       " 'lucy_ives': 382,\n",
       " 'will_alexander': 383,\n",
       " 'bhanu_kapil': 384,\n",
       " 'daniel_borzutzky': 385,\n",
       " 'a_r_ammons': 386,\n",
       " 'roberto_harrison': 387,\n",
       " 'sandra_m_gilbert': 388,\n",
       " 'michael_dickman': 389}"
      ]
     },
     "execution_count": 29,
     "metadata": {},
     "output_type": "execute_result"
    }
   ],
   "source": [
    "author_dict"
   ]
  },
  {
   "cell_type": "code",
   "execution_count": 13,
   "metadata": {
    "scrolled": true
   },
   "outputs": [],
   "source": [
    "process_dir= '../data/processed/'"
   ]
  },
  {
   "cell_type": "code",
   "execution_count": 14,
   "metadata": {},
   "outputs": [],
   "source": [
    "# Take top hundred authors, ignore the first to no\n",
    "MAX_N_AUTHORS= 10\n",
    "MAX_LIST= authors_list[:MAX_N_AUTHORS]\n",
    "df_final[df_final.author.isin(MAX_LIST)].drop(columns= ['author', 'title']).to_json(process_dir+'top_10_authors.json', orient='records', lines=True)"
   ]
  },
  {
   "cell_type": "code",
   "execution_count": 15,
   "metadata": {},
   "outputs": [],
   "source": [
    "# Take top hundred authors, ignore the first to no\n",
    "MAX_N_AUTHORS= 90\n",
    "MAX_LIST= authors_list[:MAX_N_AUTHORS]\n",
    "df_final[df_final.author.isin(MAX_LIST)].drop(columns= ['author', 'title']).to_json(process_dir+'top_90_authors.json', orient='records', lines=True)"
   ]
  },
  {
   "cell_type": "code",
   "execution_count": 16,
   "metadata": {},
   "outputs": [],
   "source": [
    "# Take top hundred authors, ignore the first to no\n",
    "MAX_N_AUTHORS= 100\n",
    "MIN_N_AUTHORS = 90\n",
    "MAX_LIST= authors_list[MIN_N_AUTHORS:MAX_N_AUTHORS]\n",
    "df_final[df_final.author.isin(MAX_LIST)].drop(columns= ['author', 'title']).to_json(process_dir+'bottom_10_authors.json', orient='records', lines=True)"
   ]
  },
  {
   "cell_type": "markdown",
   "metadata": {},
   "source": [
    "# Getting 10 longest poems"
   ]
  },
  {
   "cell_type": "code",
   "execution_count": 17,
   "metadata": {},
   "outputs": [
    {
     "data": {
      "text/plain": [
       "[1418, 12412, 14512, 11631, 5112, 66, 12259, 6929, 6180, 2967]"
      ]
     },
     "execution_count": 17,
     "metadata": {},
     "output_type": "execute_result"
    }
   ],
   "source": [
    "LONGEST_N= 10\n",
    "longest_list= [i[0] for i in df.length_in_words.sort_values(ascending=False).items()][:LONGEST_N]\n",
    "longest_list"
   ]
  },
  {
   "cell_type": "code",
   "execution_count": 18,
   "metadata": {},
   "outputs": [
    {
     "data": {
      "text/plain": [
       "[23130, 15765, 9713, 9450, 7857, 7779, 7444, 7011, 6103, 6048]"
      ]
     },
     "execution_count": 18,
     "metadata": {},
     "output_type": "execute_result"
    }
   ],
   "source": [
    "[i[1] for i in df.length_in_words.sort_values(ascending=False).items()][:LONGEST_N]"
   ]
  },
  {
   "cell_type": "code",
   "execution_count": 19,
   "metadata": {},
   "outputs": [],
   "source": [
    "_df= df[df.index.isin(longest_list)] "
   ]
  },
  {
   "cell_type": "code",
   "execution_count": 20,
   "metadata": {},
   "outputs": [],
   "source": [
    "df_longest10 = _df[:0].drop(columns= ['poetry_foundation_id','length_in_words'])"
   ]
  },
  {
   "cell_type": "code",
   "execution_count": 21,
   "metadata": {},
   "outputs": [],
   "source": [
    "for i in range(len(_df)):\n",
    "    (author,title, poem_pa  )= poem_fragments( _df.iloc[i])\n",
    "    for j in poem_pa:\n",
    "        df_longest10=df_longest10.append(pd.Series({'author': author, 'title':title, 'content':j }),ignore_index=True)"
   ]
  },
  {
   "cell_type": "code",
   "execution_count": 22,
   "metadata": {},
   "outputs": [
    {
     "data": {
      "text/plain": [
       "{'john_dryden': 0,\n",
       " 'robert_pinsky': 1,\n",
       " 'anne_carson': 2,\n",
       " 'alfred_lord_tennyson': 3,\n",
       " 'allen_ginsberg': 4,\n",
       " 'philip_whalen': 5,\n",
       " 'matthew_arnold': 6,\n",
       " 'walt_whitman': 7,\n",
       " 'william_shakespeare': 8,\n",
       " 'anonymous': 9}"
      ]
     },
     "execution_count": 22,
     "metadata": {},
     "output_type": "execute_result"
    }
   ],
   "source": [
    "author_dict = {j:i for i,j in enumerate(df_longest10.author.unique())}\n",
    "author_dict"
   ]
  },
  {
   "cell_type": "code",
   "execution_count": 23,
   "metadata": {},
   "outputs": [],
   "source": [
    "df_longest10['author_label'] = df_longest10.author.apply(lambda x: author_dict[x])"
   ]
  },
  {
   "cell_type": "code",
   "execution_count": 24,
   "metadata": {},
   "outputs": [
    {
     "data": {
      "text/plain": [
       "676"
      ]
     },
     "execution_count": 24,
     "metadata": {},
     "output_type": "execute_result"
    }
   ],
   "source": [
    "len(df_longest10)"
   ]
  },
  {
   "cell_type": "code",
   "execution_count": 25,
   "metadata": {},
   "outputs": [],
   "source": [
    "df_longest10.drop(columns= ['author', 'title']).to_json(process_dir+'longest_poems.json', orient='records', lines=True)"
   ]
  },
  {
   "cell_type": "code",
   "execution_count": null,
   "metadata": {},
   "outputs": [],
   "source": []
  }
 ],
 "metadata": {
  "kernelspec": {
   "display_name": "Python 3",
   "language": "python",
   "name": "python3"
  },
  "language_info": {
   "codemirror_mode": {
    "name": "ipython",
    "version": 3
   },
   "file_extension": ".py",
   "mimetype": "text/x-python",
   "name": "python",
   "nbconvert_exporter": "python",
   "pygments_lexer": "ipython3",
   "version": "3.7.1"
  }
 },
 "nbformat": 4,
 "nbformat_minor": 2
}
