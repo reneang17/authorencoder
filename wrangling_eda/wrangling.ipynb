{
 "cells": [
  {
   "cell_type": "markdown",
   "metadata": {},
   "source": [
    "# Wrangling raw data\n"
   ]
  },
  {
   "cell_type": "code",
   "execution_count": 1,
   "metadata": {},
   "outputs": [],
   "source": [
    "import pandas as pd\n",
    "from langdetect import detect_langs\n",
    "import matplotlib.pyplot as plt\n",
    "import seaborn as sns\n",
    "import re\n",
    "raw_data_dir= '../data/raw/'\n",
    "raw_data_name ='kaggle_poem_dataset.csv'\n"
   ]
  },
  {
   "cell_type": "code",
   "execution_count": 2,
   "metadata": {},
   "outputs": [],
   "source": [
    "df = pd.read_csv(raw_data_dir+raw_data_name, index_col=0)\n",
    "df = df.loc[0:]# Get rid of introduction coloumn\n",
    "df.rename(columns=lambda x: x.strip().lower().replace(\" \", \"_\"), inplace=True) # clean column names"
   ]
  },
  {
   "cell_type": "code",
   "execution_count": 3,
   "metadata": {},
   "outputs": [
    {
     "data": {
      "text/html": [
       "<div>\n",
       "<style scoped>\n",
       "    .dataframe tbody tr th:only-of-type {\n",
       "        vertical-align: middle;\n",
       "    }\n",
       "\n",
       "    .dataframe tbody tr th {\n",
       "        vertical-align: top;\n",
       "    }\n",
       "\n",
       "    .dataframe thead th {\n",
       "        text-align: right;\n",
       "    }\n",
       "</style>\n",
       "<table border=\"1\" class=\"dataframe\">\n",
       "  <thead>\n",
       "    <tr style=\"text-align: right;\">\n",
       "      <th></th>\n",
       "      <th>author</th>\n",
       "      <th>title</th>\n",
       "      <th>poetry_foundation_id</th>\n",
       "      <th>content</th>\n",
       "    </tr>\n",
       "  </thead>\n",
       "  <tbody>\n",
       "    <tr>\n",
       "      <th>0</th>\n",
       "      <td>Wendy Videlock</td>\n",
       "      <td>!</td>\n",
       "      <td>55489</td>\n",
       "      <td>Dear Writers, I’m compiling the first in what ...</td>\n",
       "    </tr>\n",
       "    <tr>\n",
       "      <th>1</th>\n",
       "      <td>Hailey Leithauser</td>\n",
       "      <td>0</td>\n",
       "      <td>41729</td>\n",
       "      <td>Philosophic\\nin its complex, ovoid emptiness,\\...</td>\n",
       "    </tr>\n",
       "    <tr>\n",
       "      <th>2</th>\n",
       "      <td>Jody Gladding</td>\n",
       "      <td>1-800-FEAR</td>\n",
       "      <td>57135</td>\n",
       "      <td>We'd  like  to  talk  with  you  about  fear t...</td>\n",
       "    </tr>\n",
       "    <tr>\n",
       "      <th>3</th>\n",
       "      <td>Joseph Brodsky</td>\n",
       "      <td>1 January 1965</td>\n",
       "      <td>56736</td>\n",
       "      <td>The Wise Men will unlearn your name.\\nAbove yo...</td>\n",
       "    </tr>\n",
       "    <tr>\n",
       "      <th>4</th>\n",
       "      <td>Ted Berrigan</td>\n",
       "      <td>3 Pages</td>\n",
       "      <td>51624</td>\n",
       "      <td>For Jack Collom\\n10 Things I do Every Day\\n\\np...</td>\n",
       "    </tr>\n",
       "  </tbody>\n",
       "</table>\n",
       "</div>"
      ],
      "text/plain": [
       "              author           title  poetry_foundation_id  \\\n",
       "0     Wendy Videlock               !                 55489   \n",
       "1  Hailey Leithauser               0                 41729   \n",
       "2      Jody Gladding      1-800-FEAR                 57135   \n",
       "3     Joseph Brodsky  1 January 1965                 56736   \n",
       "4       Ted Berrigan         3 Pages                 51624   \n",
       "\n",
       "                                             content  \n",
       "0  Dear Writers, I’m compiling the first in what ...  \n",
       "1  Philosophic\\nin its complex, ovoid emptiness,\\...  \n",
       "2  We'd  like  to  talk  with  you  about  fear t...  \n",
       "3  The Wise Men will unlearn your name.\\nAbove yo...  \n",
       "4  For Jack Collom\\n10 Things I do Every Day\\n\\np...  "
      ]
     },
     "execution_count": 3,
     "metadata": {},
     "output_type": "execute_result"
    }
   ],
   "source": [
    "df.head()"
   ]
  },
  {
   "cell_type": "code",
   "execution_count": 4,
   "metadata": {},
   "outputs": [
    {
     "data": {
      "text/plain": [
       "count    2081.000000\n",
       "mean        6.930802\n",
       "std         7.258418\n",
       "min         2.000000\n",
       "25%         3.000000\n",
       "50%         4.000000\n",
       "75%         8.000000\n",
       "max        85.000000\n",
       "Name: author, dtype: float64"
      ]
     },
     "execution_count": 4,
     "metadata": {},
     "output_type": "execute_result"
    }
   ],
   "source": [
    "# Statistics of how many poems from different authores there are\n",
    "df.author.value_counts()[(df.author.value_counts()>1)].describe() "
   ]
  },
  {
   "cell_type": "code",
   "execution_count": 5,
   "metadata": {},
   "outputs": [],
   "source": [
    "authors =  df.author.value_counts()[(df.author.value_counts()>1)]"
   ]
  },
  {
   "cell_type": "markdown",
   "metadata": {},
   "source": [
    "## Cleaning\n"
   ]
  },
  {
   "cell_type": "code",
   "execution_count": 6,
   "metadata": {},
   "outputs": [],
   "source": [
    "# As a rule of thump we stay only with poems which are at least have 100 words\n",
    "df['length_in_words'] = (df.content.apply(lambda x: len(x.split())) ) \n",
    "MIN_WORD_LENGTH= 100\n",
    "df = df[df.length_in_words>=MIN_WORD_LENGTH]"
   ]
  },
  {
   "cell_type": "code",
   "execution_count": 7,
   "metadata": {},
   "outputs": [],
   "source": [
    "# And I keeping only those written in english"
   ]
  },
  {
   "cell_type": "code",
   "execution_count": 8,
   "metadata": {},
   "outputs": [],
   "source": [
    "df['languages'] = df.content.apply(lambda x: detect_langs(x))"
   ]
  },
  {
   "cell_type": "code",
   "execution_count": 9,
   "metadata": {},
   "outputs": [],
   "source": [
    "# First let us get of those written in two languages\n",
    "df = df[df.languages.apply(lambda x: len(x))==1]"
   ]
  },
  {
   "cell_type": "code",
   "execution_count": 10,
   "metadata": {},
   "outputs": [],
   "source": [
    "# Now let us get rid of those not written in english\n",
    "df= df[df.languages.apply(lambda x: str(x[0])[:2])=='en']"
   ]
  },
  {
   "cell_type": "code",
   "execution_count": 11,
   "metadata": {
    "scrolled": true
   },
   "outputs": [
    {
     "data": {
      "text/plain": [
       "([en:0.8571392779821672, no:0.1428567563284033],\n",
       " 'Clannesse who so kyndly cowþe comende\\n&amp; rekken vp alle þe resounz þat ho by ri\\n3\\nt askez,\\nFayre ')"
      ]
     },
     "execution_count": 11,
     "metadata": {},
     "output_type": "execute_result"
    }
   ],
   "source": [
    "#Language detection is not super reliable\n",
    "# Manual inspection is still necessary\n",
    "detect_langs(df.loc[2324].content[0:100]), df.loc[2324].content[0:100]"
   ]
  },
  {
   "cell_type": "code",
   "execution_count": 12,
   "metadata": {},
   "outputs": [
    {
     "data": {
      "text/plain": [
       "10174    Pacience is a poynt, Þa\\n3\\nhit displese ofte....\n",
       "Name: content, dtype: object"
      ]
     },
     "execution_count": 12,
     "metadata": {},
     "output_type": "execute_result"
    }
   ],
   "source": [
    "df[(df.title=='Patience') & (df.author=='Anonymous')].content"
   ]
  },
  {
   "cell_type": "code",
   "execution_count": 13,
   "metadata": {},
   "outputs": [],
   "source": [
    "df = df.drop(index=[2324,10174])"
   ]
  },
  {
   "cell_type": "code",
   "execution_count": 14,
   "metadata": {},
   "outputs": [
    {
     "data": {
      "text/html": [
       "<div>\n",
       "<style scoped>\n",
       "    .dataframe tbody tr th:only-of-type {\n",
       "        vertical-align: middle;\n",
       "    }\n",
       "\n",
       "    .dataframe tbody tr th {\n",
       "        vertical-align: top;\n",
       "    }\n",
       "\n",
       "    .dataframe thead th {\n",
       "        text-align: right;\n",
       "    }\n",
       "</style>\n",
       "<table border=\"1\" class=\"dataframe\">\n",
       "  <thead>\n",
       "    <tr style=\"text-align: right;\">\n",
       "      <th></th>\n",
       "      <th>author</th>\n",
       "      <th>title</th>\n",
       "      <th>poetry_foundation_id</th>\n",
       "      <th>content</th>\n",
       "      <th>length_in_words</th>\n",
       "      <th>languages</th>\n",
       "    </tr>\n",
       "  </thead>\n",
       "  <tbody>\n",
       "    <tr>\n",
       "      <th>2</th>\n",
       "      <td>Jody Gladding</td>\n",
       "      <td>1-800-FEAR</td>\n",
       "      <td>57135</td>\n",
       "      <td>We'd  like  to  talk  with  you  about  fear t...</td>\n",
       "      <td>113</td>\n",
       "      <td>[en:0.9999981229687585]</td>\n",
       "    </tr>\n",
       "    <tr>\n",
       "      <th>3</th>\n",
       "      <td>Joseph Brodsky</td>\n",
       "      <td>1 January 1965</td>\n",
       "      <td>56736</td>\n",
       "      <td>The Wise Men will unlearn your name.\\nAbove yo...</td>\n",
       "      <td>150</td>\n",
       "      <td>[en:0.9999972500509958]</td>\n",
       "    </tr>\n",
       "    <tr>\n",
       "      <th>5</th>\n",
       "      <td>Joe Brainard</td>\n",
       "      <td>30 One-Liners</td>\n",
       "      <td>58251</td>\n",
       "      <td>WINTER\\nMore time is spent at the window.\\n\\nS...</td>\n",
       "      <td>356</td>\n",
       "      <td>[en:0.9999978461197498]</td>\n",
       "    </tr>\n",
       "    <tr>\n",
       "      <th>7</th>\n",
       "      <td>Alice Notley</td>\n",
       "      <td>30th Birthday</td>\n",
       "      <td>48037</td>\n",
       "      <td>May I never be afraid\\nespecially of myself\\nb...</td>\n",
       "      <td>129</td>\n",
       "      <td>[en:0.999997299851064]</td>\n",
       "    </tr>\n",
       "    <tr>\n",
       "      <th>8</th>\n",
       "      <td>Charles Bukowski</td>\n",
       "      <td>a 340 dollar horse and a hundred dollar whore</td>\n",
       "      <td>49569</td>\n",
       "      <td>don’t ever get the idea I am a poet; you can s...</td>\n",
       "      <td>360</td>\n",
       "      <td>[en:0.9999965596675678]</td>\n",
       "    </tr>\n",
       "  </tbody>\n",
       "</table>\n",
       "</div>"
      ],
      "text/plain": [
       "             author                                          title  \\\n",
       "2     Jody Gladding                                     1-800-FEAR   \n",
       "3    Joseph Brodsky                                 1 January 1965   \n",
       "5      Joe Brainard                                  30 One-Liners   \n",
       "7      Alice Notley                                  30th Birthday   \n",
       "8  Charles Bukowski  a 340 dollar horse and a hundred dollar whore   \n",
       "\n",
       "   poetry_foundation_id                                            content  \\\n",
       "2                 57135  We'd  like  to  talk  with  you  about  fear t...   \n",
       "3                 56736  The Wise Men will unlearn your name.\\nAbove yo...   \n",
       "5                 58251  WINTER\\nMore time is spent at the window.\\n\\nS...   \n",
       "7                 48037  May I never be afraid\\nespecially of myself\\nb...   \n",
       "8                 49569  don’t ever get the idea I am a poet; you can s...   \n",
       "\n",
       "   length_in_words                languages  \n",
       "2              113  [en:0.9999981229687585]  \n",
       "3              150  [en:0.9999972500509958]  \n",
       "5              356  [en:0.9999978461197498]  \n",
       "7              129   [en:0.999997299851064]  \n",
       "8              360  [en:0.9999965596675678]  "
      ]
     },
     "execution_count": 14,
     "metadata": {},
     "output_type": "execute_result"
    }
   ],
   "source": [
    "df.head()"
   ]
  },
  {
   "cell_type": "code",
   "execution_count": 15,
   "metadata": {},
   "outputs": [],
   "source": [
    "df = df.drop(columns='languages')"
   ]
  },
  {
   "cell_type": "code",
   "execution_count": 16,
   "metadata": {},
   "outputs": [],
   "source": [
    "def fixing_apostrophes(x):\n",
    "    \n",
    "    remove_special = x.replace('\\xa0', ' ').replace(\"&amp\", \"\").replace('...','.')\n",
    "    \n",
    "    reintroduce_e= remove_special.replace(\"’d\", \"ed\").replace(\"’n\", \"en\").replace(\"’ve\",\"'ve\")\n",
    "    reintroduce_e= reintroduce_e.replace(\"'d\", \"ed\").replace(\"'n\", \"en\")\n",
    "    \n",
    "    \n",
    "    uniform_apostrophes= reintroduce_e.replace(\"’s\", \"'s\").replace(\"’ll\", \"'ll\")\n",
    "    \n",
    "    fixing= uniform_apostrophes.replace(\"Ied\", \"I'd\")\n",
    "    \n",
    "    fixing= fixing.replace(\"youed\", \"you'd\")\n",
    "    fixing= fixing.replace(\"Youed\", \"You'd\")\n",
    "    \n",
    "    fixing= fixing.replace(\"weed\", \"we'd\")\n",
    "    fixing= fixing.replace(\"Weed\", \"You'd\")\n",
    "    \n",
    "    fixing= fixing.replace(\"heed\", \"he'd\")\n",
    "    fixing= fixing.replace(\"Heed\", \"He'd\")\n",
    "    \n",
    "    fixing= fixing.replace(\"sheed\", \"she'd\")\n",
    "    fixing= fixing.replace(\"Sheed\", \"She'd\")\n",
    "    \n",
    "    fixing= fixing.replace(\"theyed\", \"they'd\")\n",
    "    fixing= fixing.replace(\"Theyed\", \"They'd\")\n",
    "\n",
    "    \n",
    "    \n",
    "    return fixing"
   ]
  },
  {
   "cell_type": "code",
   "execution_count": 17,
   "metadata": {},
   "outputs": [],
   "source": [
    "df['content'] =  df.content.apply(fixing_apostrophes)"
   ]
  },
  {
   "cell_type": "code",
   "execution_count": 18,
   "metadata": {},
   "outputs": [],
   "source": [
    "\n",
    "def wspace_schars(review, chars_to_keep=\"\" , no_white_space = True, no_newlines= True):\n",
    "    \"\"\"\n",
    "    Function to formar expressions\n",
    "    \"\"\"\n",
    "    \n",
    "    to_keep= \"\"\n",
    "    for i in chars_to_keep:\n",
    "        to_keep+= i+'|'\n",
    "   \n",
    "    rep_special_chars= re.compile(\"[^\\w\\n|\"+ (to_keep[:-1])+ \"]|_\") \n",
    "    \n",
    "    text=rep_special_chars.sub(' ', review) # Subs special charas by white space except chars_to_keep\n",
    "    if no_white_space:\n",
    "        text = re.sub('\\n+', '\\n',text) # Remove consecutive breaklines\n",
    "    if no_newlines:\n",
    "        text = re.sub(' +', ' ',text) # Remove consecutive white space\n",
    "    return text\n",
    "\n",
    "def clean_titles(title):\n",
    "    title = re.sub('[^A-Za-z0-9.\\d\\s]+', '', title)\n",
    "    title = title.lower().replace(' ', '_').replace('\\n','')\n",
    "    return title"
   ]
  },
  {
   "cell_type": "code",
   "execution_count": 19,
   "metadata": {},
   "outputs": [],
   "source": [
    "df['title']=df['title'].apply(wspace_schars).apply(clean_titles)\n",
    "df['author']=df['author'].apply(wspace_schars).apply(clean_titles)"
   ]
  },
  {
   "cell_type": "code",
   "execution_count": 20,
   "metadata": {},
   "outputs": [
    {
     "data": {
      "text/html": [
       "<div>\n",
       "<style scoped>\n",
       "    .dataframe tbody tr th:only-of-type {\n",
       "        vertical-align: middle;\n",
       "    }\n",
       "\n",
       "    .dataframe tbody tr th {\n",
       "        vertical-align: top;\n",
       "    }\n",
       "\n",
       "    .dataframe thead th {\n",
       "        text-align: right;\n",
       "    }\n",
       "</style>\n",
       "<table border=\"1\" class=\"dataframe\">\n",
       "  <thead>\n",
       "    <tr style=\"text-align: right;\">\n",
       "      <th></th>\n",
       "      <th>author</th>\n",
       "      <th>title</th>\n",
       "      <th>poetry_foundation_id</th>\n",
       "      <th>content</th>\n",
       "      <th>length_in_words</th>\n",
       "    </tr>\n",
       "  </thead>\n",
       "  <tbody>\n",
       "    <tr>\n",
       "      <th>12067</th>\n",
       "      <td>anonymous</td>\n",
       "      <td>sir_gawain_and_the_green_knight</td>\n",
       "      <td>43562</td>\n",
       "      <td>siþen þe sege and þe assaut watz sesed at troy...</td>\n",
       "      <td>10481</td>\n",
       "    </tr>\n",
       "  </tbody>\n",
       "</table>\n",
       "</div>"
      ],
      "text/plain": [
       "          author                            title  poetry_foundation_id  \\\n",
       "12067  anonymous  sir_gawain_and_the_green_knight                 43562   \n",
       "\n",
       "                                                 content  length_in_words  \n",
       "12067  siþen þe sege and þe assaut watz sesed at troy...            10481  "
      ]
     },
     "execution_count": 20,
     "metadata": {},
     "output_type": "execute_result"
    }
   ],
   "source": [
    "df[df.title=='sir_gawain_and_the_green_knight']"
   ]
  },
  {
   "cell_type": "code",
   "execution_count": 21,
   "metadata": {},
   "outputs": [],
   "source": [
    "# The following poems are neglected because its poems are not properly decoded. \n",
    "df = df[df.title!='sir_gawain_and_the_green_knight']\n",
    "df = df[df.author!='geoffrey_chaucer']"
   ]
  },
  {
   "cell_type": "code",
   "execution_count": 22,
   "metadata": {},
   "outputs": [],
   "source": [
    "# John Milton has many contributions, but most are 1600's eddition. \n",
    "df = df[df.author!= 'john_milton']"
   ]
  },
  {
   "cell_type": "code",
   "execution_count": 23,
   "metadata": {},
   "outputs": [],
   "source": [
    "# From the anonimous poems, only beowulf is long enough to \n",
    "#be considered, and we keeep the moder english translation only\n",
    "beowulf = df[(df.title == 'beowulf_modern_english_translation_')]\n",
    "df = df[df.author!='anonymous']\n",
    "df = df.append(beowulf)"
   ]
  },
  {
   "cell_type": "code",
   "execution_count": 24,
   "metadata": {},
   "outputs": [],
   "source": [
    "wrangled_data_dir = '../data/wrangled/'\n",
    "wrangled_data_name = 'wrangled_data.csv'\n",
    "df.to_csv(wrangled_data_dir + wrangled_data_name)"
   ]
  },
  {
   "cell_type": "markdown",
   "metadata": {},
   "source": [
    "## TODO (future improvements):\n",
    "\n",
    "- Use a robust package to detect languages. "
   ]
  },
  {
   "cell_type": "code",
   "execution_count": null,
   "metadata": {},
   "outputs": [],
   "source": []
  }
 ],
 "metadata": {
  "kernelspec": {
   "display_name": "Python 3",
   "language": "python",
   "name": "python3"
  },
  "language_info": {
   "codemirror_mode": {
    "name": "ipython",
    "version": 3
   },
   "file_extension": ".py",
   "mimetype": "text/x-python",
   "name": "python",
   "nbconvert_exporter": "python",
   "pygments_lexer": "ipython3",
   "version": "3.7.1"
  }
 },
 "nbformat": 4,
 "nbformat_minor": 2
}
