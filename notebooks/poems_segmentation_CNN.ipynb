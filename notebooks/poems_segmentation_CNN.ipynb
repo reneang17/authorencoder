{
 "cells": [
  {
   "cell_type": "code",
   "execution_count": 1,
   "metadata": {},
   "outputs": [],
   "source": [
    "import pickle\n",
    "import sys\n",
    "sys.path.insert(1, '../src/siamese_triplet')"
   ]
  },
  {
   "cell_type": "code",
   "execution_count": 2,
   "metadata": {},
   "outputs": [],
   "source": [
    "import matplotlib as plt\n",
    "%matplotlib inline\n",
    "import numpy as np \n",
    "import pandas as pd \n",
    "import torch\n",
    "import torchtext\n",
    "from torchtext import data\n",
    "import spacy\n",
    "import os\n",
    "\n",
    "spacy_en = spacy.load('en')\n",
    "SEED = 1234\n"
   ]
  },
  {
   "cell_type": "code",
   "execution_count": 3,
   "metadata": {},
   "outputs": [],
   "source": [
    "TEXT = data.Field(lower=True,include_lengths=False, tokenize = 'spacy')\n",
    "\n",
    "LABEL = data.Field( dtype = torch.int)\n",
    "\n",
    "dataFields = {'content': ('content', TEXT), \n",
    "              'author_label': ('author_label', LABEL)}"
   ]
  },
  {
   "cell_type": "code",
   "execution_count": 4,
   "metadata": {},
   "outputs": [],
   "source": [
    "data_dir = '../data/processed/'\n",
    "data_name = 'longest_poems.json'"
   ]
  },
  {
   "cell_type": "code",
   "execution_count": 5,
   "metadata": {},
   "outputs": [],
   "source": [
    "dataset= data.TabularDataset(path=data_dir+data_name, \n",
    "                                            format='json',\n",
    "                                            fields=dataFields, \n",
    "                                            skip_header=True)"
   ]
  },
  {
   "cell_type": "code",
   "execution_count": 6,
   "metadata": {},
   "outputs": [
    {
     "data": {
      "text/plain": [
       "675"
      ]
     },
     "execution_count": 6,
     "metadata": {},
     "output_type": "execute_result"
    }
   ],
   "source": [
    "len(dataset)"
   ]
  },
  {
   "cell_type": "code",
   "execution_count": 7,
   "metadata": {},
   "outputs": [],
   "source": [
    "import random\n",
    "SEED = 3\n",
    "train_data, valid_data = dataset.split(split_ratio=0.8,random_state = random.seed(SEED))\n",
    "\n"
   ]
  },
  {
   "cell_type": "code",
   "execution_count": 8,
   "metadata": {},
   "outputs": [
    {
     "data": {
      "text/plain": [
       "'that causes the broken grass to be green , or the rock to break in grass or the sun to be constant to earth sun of all sunflowers and days on bright iron bridges what shines on old hospitals as on my yard \\n returning from san francisco one night , orlovsky in my room whalen in his peaceful chair a telegram from gene , naomi dead \\n outside i bent my head to the ground under the bushes near the garage knew she was better \\n at last not left to look on earth alone 2 years of solitude no one , at age nearing 60 old woman of skulls once long tressed naomi of bible \\n or ruth who wept in america rebecca aged in newark david remembering his harp , now lawyer at yale \\n or srul avrum israel abraham myself to sing in the wilderness toward god o elohim ! so to the end 2 days after her death i got her letter \\n strange prophecies anew ! she wrote   the key is in the window , the key is in the sunlight at the window i have the key get married allen don t take drugs the key is in the bars , in the sunlight in the window .'"
      ]
     },
     "execution_count": 8,
     "metadata": {},
     "output_type": "execute_result"
    }
   ],
   "source": [
    "' '.join(train_data.examples[0].content)"
   ]
  },
  {
   "cell_type": "code",
   "execution_count": 9,
   "metadata": {},
   "outputs": [],
   "source": [
    "MAX_VOCAB_SIZE = 20_000\n",
    "\n",
    "TEXT.build_vocab(dataset, \n",
    "                 max_size = MAX_VOCAB_SIZE, \n",
    "                 vectors = \"glove.6B.100d\", \n",
    "                 unk_init = torch.Tensor.normal_)"
   ]
  },
  {
   "cell_type": "code",
   "execution_count": 10,
   "metadata": {},
   "outputs": [],
   "source": [
    "import torch\n",
    "from torch.optim import lr_scheduler\n",
    "import torch.optim as optim\n",
    "from torch.autograd import Variable\n",
    "\n",
    "from trainer import fit\n",
    "import numpy as np\n",
    "cuda = torch.cuda.is_available()\n",
    "\n",
    "import matplotlib.pyplot as plt\n",
    "%matplotlib inline"
   ]
  },
  {
   "cell_type": "markdown",
   "metadata": {},
   "source": [
    "### New way tokenizing and batching"
   ]
  },
  {
   "cell_type": "code",
   "execution_count": 11,
   "metadata": {},
   "outputs": [],
   "source": [
    "import spacy\n",
    "nlp = spacy.load('en')"
   ]
  },
  {
   "cell_type": "code",
   "execution_count": 12,
   "metadata": {},
   "outputs": [
    {
     "data": {
      "image/png": "[encoded data removed]",
      "text/plain": [
       "<Figure size 432x288 with 1 Axes>"
      ]
     },
     "metadata": {
      "needs_background": "light"
     },
     "output_type": "display_data"
    }
   ],
   "source": [
    "len_train = [len(i.content) for i in train_data.examples]\n",
    "import matplotlib.pyplot as plt\n",
    "%matplotlib inline\n",
    "plt.hist(len_train,bins=30)\n",
    "plt.show()"
   ]
  },
  {
   "cell_type": "code",
   "execution_count": 13,
   "metadata": {},
   "outputs": [],
   "source": [
    "def pad_to_n(ls, n ):\n",
    "    ls= ls[:n]\n",
    "    if len(ls)<n: ls=(['<pad>']*(n-len(ls))) + ls\n",
    "    return ls"
   ]
  },
  {
   "cell_type": "code",
   "execution_count": 14,
   "metadata": {},
   "outputs": [],
   "source": [
    "def token2index(tokenized):\n",
    "    indexed = [TEXT.vocab.stoi[t] for t in tokenized]    \n",
    "    tensor = torch.LongTensor(indexed)#.to(device)\n",
    "    #tensor = tensor.unsqueeze(1) \n",
    "    #Note for the future: outmost sigmoid was included as part of the loss function\n",
    "    return tensor"
   ]
  },
  {
   "cell_type": "code",
   "execution_count": 15,
   "metadata": {},
   "outputs": [],
   "source": [
    "FIX_TEXT_LENGTH = 101\n",
    "def to_Loader(data,labels):\n",
    "    data = [pad_to_n(i, FIX_TEXT_LENGTH) for i in data]\n",
    "    data = [token2index(i) for i in data]\n",
    "    data = torch.stack(data)\n",
    "        \n",
    "    #labels= [(lambda y: 1 if y=='pos' else 0)(i) for i in labels]\n",
    "    labels= torch.Tensor(labels)\n",
    "    return data, labels"
   ]
  },
  {
   "cell_type": "code",
   "execution_count": 16,
   "metadata": {},
   "outputs": [],
   "source": [
    "training_data_list = [i.content for i in train_data.examples]\n",
    "training_labels_list = [i.author_label for i in train_data.examples]\n",
    "training_data, training_labels= to_Loader(training_data_list, training_labels_list)"
   ]
  },
  {
   "cell_type": "code",
   "execution_count": 17,
   "metadata": {},
   "outputs": [],
   "source": [
    "from datasets import BalancedBatchSampler\n",
    "train_batch_sampler = BalancedBatchSampler(training_labels, n_classes=10, n_samples=10)\n",
    "training_tensordataset = torch.utils.data.TensorDataset(training_data, training_labels)\n",
    "training_Loader=torch.utils.data.DataLoader(training_tensordataset, sampler=train_batch_sampler)"
   ]
  },
  {
   "cell_type": "code",
   "execution_count": 18,
   "metadata": {},
   "outputs": [],
   "source": [
    "validating_data_list = [i.content for i in valid_data.examples]\n",
    "validating_labels_list = [i.author_label for i in valid_data.examples]\n",
    "validating_data, validating_labels= to_Loader(validating_data_list, validating_labels_list)"
   ]
  },
  {
   "cell_type": "code",
   "execution_count": 19,
   "metadata": {},
   "outputs": [],
   "source": [
    "valid_batch_sampler = BalancedBatchSampler(validating_labels, n_classes=10, n_samples=2)\n",
    "validating_tensordataset = torch.utils.data.TensorDataset(validating_data, validating_labels)\n",
    "validating_Loader=torch.utils.data.DataLoader(validating_tensordataset,batch_size=64)"
   ]
  },
  {
   "cell_type": "code",
   "execution_count": 20,
   "metadata": {},
   "outputs": [
    {
     "data": {
      "text/plain": [
       "[132,\n",
       " 39,\n",
       " 121,\n",
       " 79,\n",
       " 3,\n",
       " 37,\n",
       " 40,\n",
       " 7,\n",
       " 55,\n",
       " 1,\n",
       " 47,\n",
       " 77,\n",
       " 24,\n",
       " 103,\n",
       " 90,\n",
       " 89,\n",
       " 80,\n",
       " 75,\n",
       " 54,\n",
       " 91]"
      ]
     },
     "execution_count": 20,
     "metadata": {},
     "output_type": "execute_result"
    }
   ],
   "source": [
    "next(iter(valid_batch_sampler))"
   ]
  },
  {
   "cell_type": "code",
   "execution_count": 21,
   "metadata": {},
   "outputs": [
    {
     "data": {
      "text/plain": [
       "tensor([  59,    9,    4,  148,    7,  137,    6,   12,  202,    2,  453,  121,\n",
       "           8,    4,  137,   33,    4,  396,   23,   12,  244,   12,   44,   10,\n",
       "         599,  154, 3118,    2,   18,  155,  119,   33,    4,  137,    6,   12,\n",
       "           4,  155,    7,   41,   82,    2,   20,   51,   10,   81,    3,   22,\n",
       "          20,   18,  231,    6,    2,   10,   81,   41,  155,    7,   82,    6,\n",
       "          12,  202,    2,   44,    3,   34,   50,   27,  396,    3,   34,   50,\n",
       "         137,   23,    2,  121,   15,  160,    3,  311,    4,  396,    6,    2,\n",
       "         311,    4,   82,    5,    4,  889,    6,   12,  244,   12,  453,   10,\n",
       "        2599,    8,  153,   15,   18])"
      ]
     },
     "execution_count": 21,
     "metadata": {},
     "output_type": "execute_result"
    }
   ],
   "source": [
    "validating_data[0]"
   ]
  },
  {
   "cell_type": "code",
   "execution_count": 22,
   "metadata": {},
   "outputs": [
    {
     "data": {
      "text/plain": [
       "tensor(4.)"
      ]
     },
     "execution_count": 22,
     "metadata": {},
     "output_type": "execute_result"
    }
   ],
   "source": [
    "validating_labels[2]"
   ]
  },
  {
   "cell_type": "code",
   "execution_count": 23,
   "metadata": {},
   "outputs": [
    {
     "data": {
      "text/plain": [
       "(tensor([  59,    9,    4,  148,    7,  137,    6,   12,  202,    2,  453,  121,\n",
       "            8,    4,  137,   33,    4,  396,   23,   12,  244,   12,   44,   10,\n",
       "          599,  154, 3118,    2,   18,  155,  119,   33,    4,  137,    6,   12,\n",
       "            4,  155,    7,   41,   82,    2,   20,   51,   10,   81,    3,   22,\n",
       "           20,   18,  231,    6,    2,   10,   81,   41,  155,    7,   82,    6,\n",
       "           12,  202,    2,   44,    3,   34,   50,   27,  396,    3,   34,   50,\n",
       "          137,   23,    2,  121,   15,  160,    3,  311,    4,  396,    6,    2,\n",
       "          311,    4,   82,    5,    4,  889,    6,   12,  244,   12,  453,   10,\n",
       "         2599,    8,  153,   15,   18]), tensor(1.))"
      ]
     },
     "execution_count": 23,
     "metadata": {},
     "output_type": "execute_result"
    }
   ],
   "source": [
    "validating_Loader.dataset[0]"
   ]
  },
  {
   "cell_type": "code",
   "execution_count": 24,
   "metadata": {},
   "outputs": [
    {
     "name": "stdout",
     "output_type": "stream",
     "text": [
      "5\n"
     ]
    }
   ],
   "source": [
    "i=0\n",
    "for i,_ in enumerate(training_Loader):\n",
    "    i+=1\n",
    "print(i)"
   ]
  },
  {
   "cell_type": "markdown",
   "metadata": {},
   "source": [
    "## Plotting function"
   ]
  },
  {
   "cell_type": "code",
   "execution_count": 25,
   "metadata": {},
   "outputs": [],
   "source": [
    "mnist_classes = ['0', '1', '2', '3', '4', '5', '6', '7', '8', '9']\n",
    "colors = ['#1f77b4', '#ff7f0e', '#2ca02c', '#d62728',\n",
    "              '#9467bd', '#8c564b', '#e377c2', '#7f7f7f',\n",
    "              '#bcbd22', '#17becf']\n",
    "    \n",
    "def extract_embeddings(dataloader, model, emb_dim):\n",
    "    with torch.no_grad():\n",
    "        model.eval()\n",
    "        embeddings = np.zeros((len(dataloader.dataset), emb_dim))\n",
    "        labels = np.zeros(len(dataloader.dataset))\n",
    "        k = 0\n",
    "        for poems, target in dataloader:\n",
    "            poems = poems.squeeze()\n",
    "            poems_le= len(poems)\n",
    "            if cuda:\n",
    "                poems = poems.cuda()\n",
    "\n",
    "            embeddings[k:k+poems_le] = model.get_embedding(poems).data.cpu().numpy()\n",
    "            \n",
    "            labels[k:k+poems_le] = target.numpy()\n",
    "            k += poems_le\n",
    "    return embeddings, labels\n",
    "\n",
    "def plot_embeddings(embeddings, targets, xlim=None, ylim=None,  save_plot= None):\n",
    "    plt.figure(figsize=(10,10))\n",
    "    for i in range(10):\n",
    "        inds = np.where(targets==i)[0]\n",
    "        plt.scatter(embeddings[inds,0], embeddings[inds,1], alpha=0.5, color=colors[i])\n",
    "    if xlim:\n",
    "        plt.xlim(xlim[0], xlim[1])\n",
    "    if ylim:\n",
    "        plt.ylim(ylim[0], ylim[1])\n",
    "    plt.legend(mnist_classes)\n",
    "    if save_plot!=None:\n",
    "        plt.savefig('../media/'+save_plot)"
   ]
  },
  {
   "cell_type": "code",
   "execution_count": 26,
   "metadata": {},
   "outputs": [],
   "source": [
    "#train_embeddings_otl, train_labels_otl = extract_embeddings(training_Loader, MODEL,2)"
   ]
  },
  {
   "cell_type": "markdown",
   "metadata": {},
   "source": [
    "## Build the Model\n",
    "\n"
   ]
  },
  {
   "cell_type": "code",
   "execution_count": 27,
   "metadata": {},
   "outputs": [],
   "source": [
    "sys.path.insert(1, '../src/')\n",
    "from models import FastText, CNN"
   ]
  },
  {
   "cell_type": "code",
   "execution_count": 28,
   "metadata": {},
   "outputs": [],
   "source": [
    "INPUT_DIM = len(TEXT.vocab)\n",
    "WORD_EMBEDDING_DIM = 100 #Fixed by preloaded embedding \n",
    "\n",
    "AUTHOR_DIM = 2\n",
    "PAD_IDX = TEXT.vocab.stoi[TEXT.pad_token]\n",
    "UNK_IDX = TEXT.vocab.stoi[TEXT.unk_token]\n",
    "\n",
    "model = FastText(INPUT_DIM, WORD_EMBEDDING_DIM, AUTHOR_DIM, PAD_IDX)\n",
    "\n",
    "\n",
    "INPUT_DIM = len(TEXT.vocab)\n",
    "WORD_EMBEDDING_DIM = 100\n",
    "N_FILTERS = 100\n",
    "FILTER_SIZES = [2,3,4]\n",
    "AUTHOR_DIM = 2\n",
    "DROPOUT = 0.5\n",
    "PAD_IDX = TEXT.vocab.stoi[TEXT.pad_token]\n",
    "\n",
    "model = CNN(INPUT_DIM, WORD_EMBEDDING_DIM, N_FILTERS, FILTER_SIZES, AUTHOR_DIM, DROPOUT, PAD_IDX)\n",
    "\n",
    "\n",
    "pretrained_embeddings = TEXT.vocab.vectors\n",
    "model.embedding.weight.data.copy_(pretrained_embeddings)\n",
    "\n",
    "model.embedding.weight.data[UNK_IDX] = torch.zeros(WORD_EMBEDDING_DIM)\n",
    "model.embedding.weight.data[PAD_IDX] = torch.zeros(WORD_EMBEDDING_DIM)"
   ]
  },
  {
   "cell_type": "code",
   "execution_count": 29,
   "metadata": {},
   "outputs": [],
   "source": [
    "# Set up the network and training parameters\n",
    "from networks import EmbeddingNet\n",
    "from losses import OnlineTripletLoss\n",
    "from utils import AllTripletSelector,HardestNegativeTripletSelector, RandomNegativeTripletSelector, SemihardNegativeTripletSelector # Strategies for selecting triplets within a minibatch\n",
    "from metrics import AverageNonzeroTripletsMetric\n",
    "\n",
    "\n",
    "import torch\n",
    "from torch.optim import lr_scheduler\n",
    "import torch.optim as optim\n",
    "from torch.autograd import Variable\n",
    "\n",
    "from train import fit, simplified_fit\n",
    "import numpy as np\n",
    "cuda = torch.cuda.is_available()\n",
    "\n",
    "\n",
    "MARGIN = 0.25\n",
    "embedding_net = EmbeddingNet()\n",
    "\n",
    "#embedding_net = CNN_net # Uncomment to comeback to original version \n",
    "#MODEL = embedding_net\n",
    "MODEL= model\n",
    "if cuda:\n",
    "    MODEL.cuda()\n",
    "loss_fn = OnlineTripletLoss(MARGIN, RandomNegativeTripletSelector(MARGIN))\n",
    "LR = 5e-3 \n",
    "optimizer = optim.Adam(MODEL.parameters(), lr=LR, weight_decay=1e-4)\n",
    "scheduler = lr_scheduler.StepLR(optimizer, 8, gamma=0.1, last_epoch=-1)\n",
    "n_epochs = 15\n",
    "log_interval = 4"
   ]
  },
  {
   "cell_type": "code",
   "execution_count": 30,
   "metadata": {},
   "outputs": [
    {
     "name": "stdout",
     "output_type": "stream",
     "text": [
      "Train: [0/540 (0%)]\tLoss: 0.679305\tAverage nonzero triplets: 450.0\n",
      "Train: [200/540 (40%)]\tLoss: 0.706737\tAverage nonzero triplets: 450.0\n",
      "Train: [400/540 (80%)]\tLoss: 0.700630\tAverage nonzero triplets: 450.0\n",
      "Epoch: 1/15. Train set: Average loss: 0.6988\tAverage nonzero triplets: 450.0\n",
      "Epoch: 1/15. Validation set: Avg loss: 0.2309\tAverage nonzero triplets: 447.6\n",
      "Train: [0/540 (0%)]\tLoss: 0.733473\tAverage nonzero triplets: 450.0\n",
      "Train: [200/540 (40%)]\tLoss: 0.702341\tAverage nonzero triplets: 450.0\n",
      "Train: [400/540 (80%)]\tLoss: 0.588067\tAverage nonzero triplets: 449.8\n",
      "Epoch: 2/15. Train set: Average loss: 0.6629\tAverage nonzero triplets: 449.8\n",
      "Epoch: 2/15. Validation set: Avg loss: 0.2506\tAverage nonzero triplets: 449.8\n",
      "Train: [0/540 (0%)]\tLoss: 0.542753\tAverage nonzero triplets: 448.0\n",
      "Train: [200/540 (40%)]\tLoss: 0.430341\tAverage nonzero triplets: 449.3333333333333\n",
      "Train: [400/540 (80%)]\tLoss: 0.395108\tAverage nonzero triplets: 449.4\n",
      "Epoch: 3/15. Train set: Average loss: 0.4387\tAverage nonzero triplets: 449.4\n",
      "Epoch: 3/15. Validation set: Avg loss: 0.2063\tAverage nonzero triplets: 448.0\n",
      "Train: [0/540 (0%)]\tLoss: 0.326336\tAverage nonzero triplets: 446.0\n",
      "Train: [200/540 (40%)]\tLoss: 0.327306\tAverage nonzero triplets: 448.0\n",
      "Train: [400/540 (80%)]\tLoss: 0.293012\tAverage nonzero triplets: 447.8\n",
      "Epoch: 4/15. Train set: Average loss: 0.3134\tAverage nonzero triplets: 447.8\n",
      "Epoch: 4/15. Validation set: Avg loss: 0.2028\tAverage nonzero triplets: 447.0\n",
      "Train: [0/540 (0%)]\tLoss: 0.343518\tAverage nonzero triplets: 450.0\n",
      "Train: [200/540 (40%)]\tLoss: 0.301417\tAverage nonzero triplets: 447.3333333333333\n",
      "Train: [400/540 (80%)]\tLoss: 0.270538\tAverage nonzero triplets: 446.2\n",
      "Epoch: 5/15. Train set: Average loss: 0.2975\tAverage nonzero triplets: 446.2\n",
      "Epoch: 5/15. Validation set: Avg loss: 0.1838\tAverage nonzero triplets: 441.6\n",
      "Train: [0/540 (0%)]\tLoss: 0.243865\tAverage nonzero triplets: 448.0\n",
      "Train: [200/540 (40%)]\tLoss: 0.259812\tAverage nonzero triplets: 447.0\n",
      "Train: [400/540 (80%)]\tLoss: 0.257294\tAverage nonzero triplets: 441.4\n",
      "Epoch: 6/15. Train set: Average loss: 0.2556\tAverage nonzero triplets: 441.4\n",
      "Epoch: 6/15. Validation set: Avg loss: 0.1893\tAverage nonzero triplets: 419.4\n",
      "Train: [0/540 (0%)]\tLoss: 0.301796\tAverage nonzero triplets: 445.0\n",
      "Train: [200/540 (40%)]\tLoss: 0.297828\tAverage nonzero triplets: 445.0\n",
      "Train: [400/540 (80%)]\tLoss: 0.277285\tAverage nonzero triplets: 433.2\n",
      "Epoch: 7/15. Train set: Average loss: 0.2904\tAverage nonzero triplets: 433.2\n",
      "Epoch: 7/15. Validation set: Avg loss: 0.1809\tAverage nonzero triplets: 395.2\n",
      "Train: [0/540 (0%)]\tLoss: 0.313466\tAverage nonzero triplets: 430.0\n",
      "Train: [200/540 (40%)]\tLoss: 0.252824\tAverage nonzero triplets: 421.3333333333333\n",
      "Train: [400/540 (80%)]\tLoss: 0.270110\tAverage nonzero triplets: 424.8\n",
      "Epoch: 8/15. Train set: Average loss: 0.2719\tAverage nonzero triplets: 424.8\n",
      "Epoch: 8/15. Validation set: Avg loss: 0.1685\tAverage nonzero triplets: 376.8\n",
      "Train: [0/540 (0%)]\tLoss: 0.296982\tAverage nonzero triplets: 418.0\n",
      "Train: [200/540 (40%)]\tLoss: 0.256885\tAverage nonzero triplets: 413.0\n",
      "Train: [400/540 (80%)]\tLoss: 0.286687\tAverage nonzero triplets: 410.0\n",
      "Epoch: 9/15. Train set: Average loss: 0.2768\tAverage nonzero triplets: 410.0\n",
      "Epoch: 9/15. Validation set: Avg loss: 0.1678\tAverage nonzero triplets: 365.0\n",
      "Train: [0/540 (0%)]\tLoss: 0.267908\tAverage nonzero triplets: 389.0\n",
      "Train: [200/540 (40%)]\tLoss: 0.306212\tAverage nonzero triplets: 401.0\n",
      "Train: [400/540 (80%)]\tLoss: 0.258335\tAverage nonzero triplets: 405.0\n",
      "Epoch: 10/15. Train set: Average loss: 0.2794\tAverage nonzero triplets: 405.0\n",
      "Epoch: 10/15. Validation set: Avg loss: 0.1875\tAverage nonzero triplets: 368.2\n",
      "Train: [0/540 (0%)]\tLoss: 0.277439\tAverage nonzero triplets: 424.0\n",
      "Train: [200/540 (40%)]\tLoss: 0.297783\tAverage nonzero triplets: 402.6666666666667\n",
      "Train: [400/540 (80%)]\tLoss: 0.305036\tAverage nonzero triplets: 400.4\n",
      "Epoch: 11/15. Train set: Average loss: 0.2966\tAverage nonzero triplets: 400.4\n",
      "Epoch: 11/15. Validation set: Avg loss: 0.1495\tAverage nonzero triplets: 342.4\n",
      "Train: [0/540 (0%)]\tLoss: 0.292401\tAverage nonzero triplets: 405.0\n",
      "Train: [200/540 (40%)]\tLoss: 0.302853\tAverage nonzero triplets: 392.3333333333333\n",
      "Train: [400/540 (80%)]\tLoss: 0.250784\tAverage nonzero triplets: 389.4\n",
      "Epoch: 12/15. Train set: Average loss: 0.2799\tAverage nonzero triplets: 389.4\n",
      "Epoch: 12/15. Validation set: Avg loss: 0.1530\tAverage nonzero triplets: 336.0\n",
      "Train: [0/540 (0%)]\tLoss: 0.324917\tAverage nonzero triplets: 398.0\n",
      "Train: [200/540 (40%)]\tLoss: 0.290390\tAverage nonzero triplets: 384.3333333333333\n",
      "Train: [400/540 (80%)]\tLoss: 0.297772\tAverage nonzero triplets: 380.0\n",
      "Epoch: 13/15. Train set: Average loss: 0.3002\tAverage nonzero triplets: 380.0\n",
      "Epoch: 13/15. Validation set: Avg loss: 0.1424\tAverage nonzero triplets: 253.6\n",
      "Train: [0/540 (0%)]\tLoss: 0.255346\tAverage nonzero triplets: 362.0\n",
      "Train: [200/540 (40%)]\tLoss: 0.294057\tAverage nonzero triplets: 366.3333333333333\n",
      "Train: [400/540 (80%)]\tLoss: 0.334993\tAverage nonzero triplets: 365.6\n",
      "Epoch: 14/15. Train set: Average loss: 0.3027\tAverage nonzero triplets: 365.6\n",
      "Epoch: 14/15. Validation set: Avg loss: 0.1732\tAverage nonzero triplets: 215.8\n",
      "Train: [0/540 (0%)]\tLoss: 0.361514\tAverage nonzero triplets: 366.0\n",
      "Train: [200/540 (40%)]\tLoss: 0.359564\tAverage nonzero triplets: 341.0\n",
      "Train: [400/540 (80%)]\tLoss: 0.305927\tAverage nonzero triplets: 332.2\n",
      "Epoch: 15/15. Train set: Average loss: 0.3385\tAverage nonzero triplets: 332.2\n",
      "Epoch: 15/15. Validation set: Avg loss: 0.1585\tAverage nonzero triplets: 181.2\n"
     ]
    }
   ],
   "source": [
    "simplified_fit(training_Loader, training_Loader, MODEL, loss_fn, optimizer, \n",
    "    n_epochs, cuda, metrics=[AverageNonzeroTripletsMetric()])"
   ]
  },
  {
   "cell_type": "markdown",
   "metadata": {},
   "source": [
    "# Plotting time"
   ]
  },
  {
   "cell_type": "code",
   "execution_count": 31,
   "metadata": {},
   "outputs": [],
   "source": [
    "def plot_embeddings(embeddings, targets, xlim=None, ylim=None,  save_plot= None):\n",
    "    plt.figure(figsize=(10,10))\n",
    "    for i in range(10):\n",
    "        inds = np.where(targets==i)[0]\n",
    "        plt.scatter(embeddings[inds,0], embeddings[inds,1], alpha=1)#, color=colors[i])\n",
    "    if xlim:\n",
    "        plt.xlim(xlim[0], xlim[1])\n",
    "    if ylim:\n",
    "        plt.ylim(ylim[0], ylim[1])\n",
    "    plt.legend(mnist_classes)\n",
    "    if save_plot!=None:\n",
    "        plt.savefig('../media/'+save_plot)"
   ]
  },
  {
   "cell_type": "code",
   "execution_count": 32,
   "metadata": {},
   "outputs": [
    {
     "data": {
      "image/png": "[encoded data removed]",
      "text/plain": [
       "<Figure size 720x720 with 1 Axes>"
      ]
     },
     "metadata": {
      "needs_background": "light"
     },
     "output_type": "display_data"
    }
   ],
   "source": [
    "train_embeddings_otl, train_labels_otl = extract_embeddings(training_Loader, MODEL, AUTHOR_DIM)\n",
    "plot_embeddings(train_embeddings_otl, train_labels_otl, save_plot='training.png')"
   ]
  },
  {
   "cell_type": "code",
   "execution_count": 33,
   "metadata": {},
   "outputs": [
    {
     "data": {
      "image/png": "[encoded data removed]",
      "text/plain": [
       "<Figure size 720x720 with 1 Axes>"
      ]
     },
     "metadata": {
      "needs_background": "light"
     },
     "output_type": "display_data"
    }
   ],
   "source": [
    "valid_embeddings_otl, valid_labels_otl = extract_embeddings(validating_Loader, MODEL, AUTHOR_DIM)\n",
    "plot_embeddings(valid_embeddings_otl, valid_labels_otl,save_plot='testing.png')"
   ]
  },
  {
   "cell_type": "code",
   "execution_count": 34,
   "metadata": {},
   "outputs": [
    {
     "data": {
      "text/plain": [
       "KNeighborsClassifier(algorithm='auto', leaf_size=30, metric='minkowski',\n",
       "                     metric_params=None, n_jobs=None, n_neighbors=3, p=2,\n",
       "                     weights='uniform')"
      ]
     },
     "execution_count": 34,
     "metadata": {},
     "output_type": "execute_result"
    }
   ],
   "source": [
    "from sklearn.neighbors import KNeighborsClassifier as KNC\n",
    "KNN = KNC(n_neighbors=3)\n",
    "KNN.fit(train_embeddings_otl, train_labels_otl)"
   ]
  },
  {
   "cell_type": "code",
   "execution_count": 35,
   "metadata": {},
   "outputs": [
    {
     "data": {
      "text/plain": [
       "array([1., 7., 9., 0., 9., 9., 1., 8., 5., 8., 9., 8., 8., 9., 7., 7., 9.,\n",
       "       2., 7., 5., 2., 8., 7., 8., 2., 8., 7., 2., 8., 1., 9., 8., 8., 9.,\n",
       "       1., 0., 7., 0., 7., 9., 2., 9., 4., 5., 2., 7., 8., 9., 2., 0., 6.,\n",
       "       8., 0., 9., 1., 7., 8., 1., 9., 8., 7., 2., 2., 2., 1., 7., 0., 6.,\n",
       "       1., 8., 9., 2., 9., 6., 5., 9., 2., 6., 1., 9., 8., 9., 9., 9., 5.,\n",
       "       8., 9., 8., 7., 8., 5., 1., 9., 9., 7., 8., 2., 2., 9., 9., 2., 0.,\n",
       "       9., 2., 9., 9., 9., 8., 2., 7., 9., 7., 0., 5., 9., 1., 8., 2., 1.,\n",
       "       7., 9., 9., 9., 1., 6., 8., 6., 9., 7., 0., 0., 2., 9., 9., 9.])"
      ]
     },
     "execution_count": 35,
     "metadata": {},
     "output_type": "execute_result"
    }
   ],
   "source": [
    "predictions= KNN.predict(valid_embeddings_otl)\n",
    "predictions"
   ]
  },
  {
   "cell_type": "code",
   "execution_count": 36,
   "metadata": {},
   "outputs": [
    {
     "data": {
      "text/plain": [
       "0.6814814814814815"
      ]
     },
     "execution_count": 36,
     "metadata": {},
     "output_type": "execute_result"
    }
   ],
   "source": [
    "KNN.score(valid_embeddings_otl,valid_labels_otl)"
   ]
  },
  {
   "cell_type": "code",
   "execution_count": null,
   "metadata": {},
   "outputs": [],
   "source": []
  },
  {
   "cell_type": "code",
   "execution_count": null,
   "metadata": {},
   "outputs": [],
   "source": []
  }
 ],
 "metadata": {
  "kernelspec": {
   "display_name": "Python 3",
   "language": "python",
   "name": "python3"
  },
  "language_info": {
   "codemirror_mode": {
    "name": "ipython",
    "version": 3
   },
   "file_extension": ".py",
   "mimetype": "text/x-python",
   "name": "python",
   "nbconvert_exporter": "python",
   "pygments_lexer": "ipython3",
   "version": "3.7.1"
  }
 },
 "nbformat": 4,
 "nbformat_minor": 2
}
