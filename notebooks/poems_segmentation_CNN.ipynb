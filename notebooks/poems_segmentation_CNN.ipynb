{
 "cells": [
  {
   "cell_type": "code",
   "execution_count": 1,
   "metadata": {},
   "outputs": [],
   "source": [
    "import pickle\n",
    "import sys\n",
    "sys.path.insert(1, '../src/siamese_triplet')"
   ]
  },
  {
   "cell_type": "code",
   "execution_count": 2,
   "metadata": {},
   "outputs": [],
   "source": [
    "import matplotlib as plt\n",
    "%matplotlib inline\n",
    "import numpy as np \n",
    "import pandas as pd \n",
    "import torch\n",
    "import torchtext\n",
    "from torchtext import data\n",
    "import spacy\n",
    "import os\n",
    "\n",
    "spacy_en = spacy.load('en')\n",
    "SEED = 1234\n"
   ]
  },
  {
   "cell_type": "code",
   "execution_count": 3,
   "metadata": {},
   "outputs": [],
   "source": [
    "TEXT = data.Field(lower=True,include_lengths=False, tokenize = 'spacy')\n",
    "\n",
    "LABEL = data.Field( dtype = torch.int)\n",
    "\n",
    "dataFields = {'content': ('content', TEXT), \n",
    "              'author_label': ('author_label', LABEL)}"
   ]
  },
  {
   "cell_type": "code",
   "execution_count": 4,
   "metadata": {},
   "outputs": [],
   "source": [
    "data_dir = '../data/processed/'\n",
    "data_name = 'longest_poems.json'"
   ]
  },
  {
   "cell_type": "code",
   "execution_count": 5,
   "metadata": {},
   "outputs": [],
   "source": [
    "dataset= data.TabularDataset(path=data_dir+data_name, \n",
    "                                            format='json',\n",
    "                                            fields=dataFields, \n",
    "                                            skip_header=True)"
   ]
  },
  {
   "cell_type": "code",
   "execution_count": 102,
   "metadata": {},
   "outputs": [
    {
     "data": {
      "text/plain": [
       "675"
      ]
     },
     "execution_count": 102,
     "metadata": {},
     "output_type": "execute_result"
    }
   ],
   "source": [
    "len(dataset)"
   ]
  },
  {
   "cell_type": "code",
   "execution_count": 6,
   "metadata": {},
   "outputs": [],
   "source": [
    "import random\n",
    "SEED = 3\n",
    "train_data, valid_data = dataset.split(split_ratio=0.8,random_state = random.seed(SEED))\n",
    "\n"
   ]
  },
  {
   "cell_type": "code",
   "execution_count": 7,
   "metadata": {},
   "outputs": [
    {
     "data": {
      "text/plain": [
       "'o. \\n yes , yes that and \\n the other \\n and this and that and more and all \\n and the other and o yes \\n all yes all yes , all yes . \\n touch me . \\n i remember . \\n \\n scene five \\n  nicholas alone . he now has two prosthetic arms and a prosthetic leg , but glides about efficiently , as though he has become part segway . he is fiddling with the now more elaborate bird and portrait , which seem more alive than ever , as does the entire room . robots are bustling about to assist him . miranda enters , apparently accustomed to this new , stranger atmosphere . \\n miranda \\n they are here \\n the important delegation \\n from the united way , \\n the administration \\n and the united nations \\n they want to speak to him , they say \\n they want his ear .'"
      ]
     },
     "execution_count": 7,
     "metadata": {},
     "output_type": "execute_result"
    }
   ],
   "source": [
    "' '.join(train_data.examples[0].content)"
   ]
  },
  {
   "cell_type": "code",
   "execution_count": 8,
   "metadata": {},
   "outputs": [],
   "source": [
    "MAX_VOCAB_SIZE = 20_000\n",
    "\n",
    "TEXT.build_vocab(dataset, \n",
    "                 max_size = MAX_VOCAB_SIZE, \n",
    "                 vectors = \"glove.6B.100d\", \n",
    "                 unk_init = torch.Tensor.normal_)"
   ]
  },
  {
   "cell_type": "code",
   "execution_count": 9,
   "metadata": {},
   "outputs": [],
   "source": [
    "import torch\n",
    "from torch.optim import lr_scheduler\n",
    "import torch.optim as optim\n",
    "from torch.autograd import Variable\n",
    "\n",
    "from trainer import fit\n",
    "import numpy as np\n",
    "cuda = torch.cuda.is_available()\n",
    "\n",
    "import matplotlib.pyplot as plt\n",
    "%matplotlib inline"
   ]
  },
  {
   "cell_type": "markdown",
   "metadata": {},
   "source": [
    "### New way tokenizing and batching"
   ]
  },
  {
   "cell_type": "code",
   "execution_count": 10,
   "metadata": {},
   "outputs": [],
   "source": [
    "import spacy\n",
    "nlp = spacy.load('en')"
   ]
  },
  {
   "cell_type": "code",
   "execution_count": 11,
   "metadata": {},
   "outputs": [
    {
     "data": {
      "image/png": "[encoded data removed]",
      "text/plain": [
       "<Figure size 432x288 with 1 Axes>"
      ]
     },
     "metadata": {
      "needs_background": "light"
     },
     "output_type": "display_data"
    }
   ],
   "source": [
    "len_train = [len(i.content) for i in train_data.examples]\n",
    "import matplotlib.pyplot as plt\n",
    "%matplotlib inline\n",
    "plt.hist(len_train,bins=30)\n",
    "plt.show()"
   ]
  },
  {
   "cell_type": "code",
   "execution_count": 12,
   "metadata": {},
   "outputs": [],
   "source": [
    "def pad_to_n(ls, n ):\n",
    "    ls= ls[:n]\n",
    "    if len(ls)<n: ls=(['<pad>']*(n-len(ls))) + ls\n",
    "    return ls"
   ]
  },
  {
   "cell_type": "code",
   "execution_count": 13,
   "metadata": {},
   "outputs": [],
   "source": [
    "def token2index(tokenized):\n",
    "    indexed = [TEXT.vocab.stoi[t] for t in tokenized]    \n",
    "    tensor = torch.LongTensor(indexed)#.to(device)\n",
    "    #tensor = tensor.unsqueeze(1) \n",
    "    #Note for the future: outmost sigmoid was included as part of the loss function\n",
    "    return tensor"
   ]
  },
  {
   "cell_type": "code",
   "execution_count": 14,
   "metadata": {},
   "outputs": [],
   "source": [
    "FIX_TEXT_LENGTH = 101\n",
    "def to_Loader(data,labels):\n",
    "    data = [pad_to_n(i, FIX_TEXT_LENGTH) for i in data]\n",
    "    data = [token2index(i) for i in data]\n",
    "    data = torch.stack(data)\n",
    "        \n",
    "    #labels= [(lambda y: 1 if y=='pos' else 0)(i) for i in labels]\n",
    "    labels= torch.Tensor(labels)\n",
    "    return data, labels"
   ]
  },
  {
   "cell_type": "code",
   "execution_count": 15,
   "metadata": {},
   "outputs": [],
   "source": [
    "training_data_list = [i.content for i in train_data.examples]\n",
    "training_labels_list = [i.author_label for i in train_data.examples]\n",
    "training_data, training_labels= to_Loader(training_data_list, training_labels_list)"
   ]
  },
  {
   "cell_type": "code",
   "execution_count": 16,
   "metadata": {},
   "outputs": [],
   "source": [
    "from datasets import BalancedBatchSampler\n",
    "train_batch_sampler = BalancedBatchSampler(training_labels, n_classes=10, n_samples=10)\n",
    "training_tensordataset = torch.utils.data.TensorDataset(training_data, training_labels)\n",
    "training_Loader=torch.utils.data.DataLoader(training_tensordataset, sampler=train_batch_sampler)"
   ]
  },
  {
   "cell_type": "code",
   "execution_count": 17,
   "metadata": {},
   "outputs": [],
   "source": [
    "validating_data_list = [i.content for i in valid_data.examples]\n",
    "validating_labels_list = [i.author_label for i in valid_data.examples]\n",
    "validating_data, validating_labels= to_Loader(validating_data_list, validating_labels_list)"
   ]
  },
  {
   "cell_type": "code",
   "execution_count": 18,
   "metadata": {},
   "outputs": [],
   "source": [
    "valid_batch_sampler = BalancedBatchSampler(validating_labels, n_classes=10, n_samples=2)\n",
    "validating_tensordataset = torch.utils.data.TensorDataset(validating_data, validating_labels)\n",
    "validating_Loader=torch.utils.data.DataLoader(validating_tensordataset,batch_size=64)"
   ]
  },
  {
   "cell_type": "code",
   "execution_count": 19,
   "metadata": {},
   "outputs": [
    {
     "data": {
      "text/plain": [
       "[90,\n",
       " 12,\n",
       " 14,\n",
       " 1,\n",
       " 101,\n",
       " 16,\n",
       " 18,\n",
       " 128,\n",
       " 39,\n",
       " 85,\n",
       " 67,\n",
       " 74,\n",
       " 108,\n",
       " 95,\n",
       " 8,\n",
       " 83,\n",
       " 70,\n",
       " 105,\n",
       " 111,\n",
       " 62]"
      ]
     },
     "execution_count": 19,
     "metadata": {},
     "output_type": "execute_result"
    }
   ],
   "source": [
    "next(iter(valid_batch_sampler))"
   ]
  },
  {
   "cell_type": "code",
   "execution_count": 20,
   "metadata": {},
   "outputs": [
    {
     "data": {
      "text/plain": [
       "tensor([   96,    42,    20,  4160,     3,    12,  4656,  1709,     2,    14,\n",
       "         1133,   837,     3,    21,     4,   395,    20,  1022,     3,     2,\n",
       "          250,   378,     4,   525,   739,     9,    99,   145,     6,     2,\n",
       "          240,    49,     4,  1613,    44,    31,   903,  3087,     2,    80,\n",
       "            4,   586,   275,     8,   933,    32,    57,     3,     2,   254,\n",
       "            8,  1000,    11,   163,   694,    15,  3561,     3,     2,     5,\n",
       "          356,    21,    99,  1046,     4,  6604,   138,     3,     2,   123,\n",
       "            7, 12398,     4,   837,    27,  7317,     6,     2,    15,    49,\n",
       "            7,    22,   274,     4,  2242,  2020,     2,   396, 10671,     7,\n",
       "           63,     3,    38,  2343,     7,   294,     3,     2,    19,   380,\n",
       "            7])"
      ]
     },
     "execution_count": 20,
     "metadata": {},
     "output_type": "execute_result"
    }
   ],
   "source": [
    "validating_data[0]"
   ]
  },
  {
   "cell_type": "code",
   "execution_count": 21,
   "metadata": {},
   "outputs": [
    {
     "data": {
      "text/plain": [
       "tensor(2.)"
      ]
     },
     "execution_count": 21,
     "metadata": {},
     "output_type": "execute_result"
    }
   ],
   "source": [
    "validating_labels[2]"
   ]
  },
  {
   "cell_type": "code",
   "execution_count": 22,
   "metadata": {},
   "outputs": [
    {
     "data": {
      "text/plain": [
       "(tensor([   96,    42,    20,  4160,     3,    12,  4656,  1709,     2,    14,\n",
       "          1133,   837,     3,    21,     4,   395,    20,  1022,     3,     2,\n",
       "           250,   378,     4,   525,   739,     9,    99,   145,     6,     2,\n",
       "           240,    49,     4,  1613,    44,    31,   903,  3087,     2,    80,\n",
       "             4,   586,   275,     8,   933,    32,    57,     3,     2,   254,\n",
       "             8,  1000,    11,   163,   694,    15,  3561,     3,     2,     5,\n",
       "           356,    21,    99,  1046,     4,  6604,   138,     3,     2,   123,\n",
       "             7, 12398,     4,   837,    27,  7317,     6,     2,    15,    49,\n",
       "             7,    22,   274,     4,  2242,  2020,     2,   396, 10671,     7,\n",
       "            63,     3,    38,  2343,     7,   294,     3,     2,    19,   380,\n",
       "             7]), tensor(1.))"
      ]
     },
     "execution_count": 22,
     "metadata": {},
     "output_type": "execute_result"
    }
   ],
   "source": [
    "validating_Loader.dataset[0]"
   ]
  },
  {
   "cell_type": "code",
   "execution_count": 23,
   "metadata": {},
   "outputs": [
    {
     "name": "stdout",
     "output_type": "stream",
     "text": [
      "5\n"
     ]
    }
   ],
   "source": [
    "i=0\n",
    "for i,_ in enumerate(training_Loader):\n",
    "    i+=1\n",
    "print(i)"
   ]
  },
  {
   "cell_type": "markdown",
   "metadata": {},
   "source": [
    "## Plotting function"
   ]
  },
  {
   "cell_type": "code",
   "execution_count": 114,
   "metadata": {},
   "outputs": [],
   "source": [
    "mnist_classes = ['0', '1', '2', '3', '4', '5', '6', '7', '8', '9']\n",
    "colors = ['#1f77b4', '#ff7f0e', '#2ca02c', '#d62728',\n",
    "              '#9467bd', '#8c564b', '#e377c2', '#7f7f7f',\n",
    "              '#bcbd22', '#17becf']\n",
    "    \n",
    "def extract_embeddings(dataloader, model, emb_dim):\n",
    "    with torch.no_grad():\n",
    "        model.eval()\n",
    "        embeddings = np.zeros((len(dataloader.dataset), emb_dim))\n",
    "        labels = np.zeros(len(dataloader.dataset))\n",
    "        k = 0\n",
    "        for poems, target in dataloader:\n",
    "            poems = poems.squeeze()\n",
    "            poems_le= len(poems)\n",
    "            if cuda:\n",
    "                poems = poems.cuda()\n",
    "\n",
    "            embeddings[k:k+poems_le] = model.get_embedding(poems).data.cpu().numpy()\n",
    "            \n",
    "            labels[k:k+poems_le] = target.numpy()\n",
    "            k += poems_le\n",
    "    return embeddings, labels\n",
    "\n",
    "def plot_embeddings(embeddings, targets, xlim=None, ylim=None,  save_plot= None):\n",
    "    plt.figure(figsize=(10,10))\n",
    "    for i in range(10):\n",
    "        inds = np.where(targets==i)[0]\n",
    "        plt.scatter(embeddings[inds,0], embeddings[inds,1], alpha=0.5, color=colors[i])\n",
    "    if xlim:\n",
    "        plt.xlim(xlim[0], xlim[1])\n",
    "    if ylim:\n",
    "        plt.ylim(ylim[0], ylim[1])\n",
    "    plt.legend(mnist_classes)\n",
    "    if save_plot!=None:\n",
    "        plt.savefig('../images/'+save_plot)"
   ]
  },
  {
   "cell_type": "code",
   "execution_count": 25,
   "metadata": {},
   "outputs": [],
   "source": [
    "#train_embeddings_otl, train_labels_otl = extract_embeddings(training_Loader, MODEL,2)"
   ]
  },
  {
   "cell_type": "markdown",
   "metadata": {},
   "source": [
    "## Build the Model\n",
    "\n"
   ]
  },
  {
   "cell_type": "code",
   "execution_count": 26,
   "metadata": {},
   "outputs": [],
   "source": [
    "sys.path.insert(1, '../src/')\n",
    "from models import FastText, CNN"
   ]
  },
  {
   "cell_type": "code",
   "execution_count": 94,
   "metadata": {},
   "outputs": [],
   "source": [
    "INPUT_DIM = len(TEXT.vocab)\n",
    "WORD_EMBEDDING_DIM = 100 #Fixed by preloaded embedding \n",
    "\n",
    "AUTHOR_DIM = 2\n",
    "PAD_IDX = TEXT.vocab.stoi[TEXT.pad_token]\n",
    "UNK_IDX = TEXT.vocab.stoi[TEXT.unk_token]\n",
    "\n",
    "model = FastText(INPUT_DIM, WORD_EMBEDDING_DIM, AUTHOR_DIM, PAD_IDX)\n",
    "\n",
    "\n",
    "INPUT_DIM = len(TEXT.vocab)\n",
    "WORD_EMBEDDING_DIM = 100\n",
    "N_FILTERS = 100\n",
    "FILTER_SIZES = [2,3,4]\n",
    "AUTHOR_DIM = 2\n",
    "DROPOUT = 0.5\n",
    "PAD_IDX = TEXT.vocab.stoi[TEXT.pad_token]\n",
    "\n",
    "model = CNN(INPUT_DIM, WORD_EMBEDDING_DIM, N_FILTERS, FILTER_SIZES, AUTHOR_DIM, DROPOUT, PAD_IDX)\n",
    "\n",
    "\n",
    "pretrained_embeddings = TEXT.vocab.vectors\n",
    "model.embedding.weight.data.copy_(pretrained_embeddings)\n",
    "\n",
    "model.embedding.weight.data[UNK_IDX] = torch.zeros(WORD_EMBEDDING_DIM)\n",
    "model.embedding.weight.data[PAD_IDX] = torch.zeros(WORD_EMBEDDING_DIM)"
   ]
  },
  {
   "cell_type": "code",
   "execution_count": 95,
   "metadata": {},
   "outputs": [],
   "source": [
    "# Set up the network and training parameters\n",
    "from networks import EmbeddingNet\n",
    "from losses import OnlineTripletLoss\n",
    "from utils import AllTripletSelector,HardestNegativeTripletSelector, RandomNegativeTripletSelector, SemihardNegativeTripletSelector # Strategies for selecting triplets within a minibatch\n",
    "from metrics import AverageNonzeroTripletsMetric\n",
    "\n",
    "\n",
    "import torch\n",
    "from torch.optim import lr_scheduler\n",
    "import torch.optim as optim\n",
    "from torch.autograd import Variable\n",
    "\n",
    "from trainer import fit\n",
    "import numpy as np\n",
    "cuda = torch.cuda.is_available()\n",
    "\n",
    "\n",
    "MARGIN = 0.20\n",
    "embedding_net = EmbeddingNet()\n",
    "\n",
    "#embedding_net = CNN_net # Uncomment to comeback to original version \n",
    "#MODEL = embedding_net\n",
    "MODEL= model\n",
    "if cuda:\n",
    "    MODEL.cuda()\n",
    "loss_fn = OnlineTripletLoss(MARGIN, RandomNegativeTripletSelector(MARGIN))\n",
    "LR = 5e-3 \n",
    "optimizer = optim.Adam(MODEL.parameters(), lr=LR, weight_decay=1e-4)\n",
    "scheduler = lr_scheduler.StepLR(optimizer, 8, gamma=0.1, last_epoch=-1)\n",
    "n_epochs = 10\n",
    "log_interval = 4"
   ]
  },
  {
   "cell_type": "code",
   "execution_count": 96,
   "metadata": {},
   "outputs": [
    {
     "name": "stdout",
     "output_type": "stream",
     "text": [
      "Train: [0/540 (0%)]\tLoss: 0.666573\tAverage nonzero triplets: 450.0\n",
      "Train: [400/540 (80%)]\tLoss: 0.554447\tAverage nonzero triplets: 450.0\n",
      "Epoch: 1/10. Train set: Average loss: 0.5769\tAverage nonzero triplets: 450.0\n",
      "Epoch: 1/10. Validation set: Average loss: 0.1869\tAverage nonzero triplets: 450.0\n",
      "Train: [0/540 (0%)]\tLoss: 0.472720\tAverage nonzero triplets: 450.0\n",
      "Train: [400/540 (80%)]\tLoss: 0.383829\tAverage nonzero triplets: 450.0\n",
      "Epoch: 2/10. Train set: Average loss: 0.4016\tAverage nonzero triplets: 450.0\n",
      "Epoch: 2/10. Validation set: Average loss: 0.1772\tAverage nonzero triplets: 450.0\n",
      "Train: [0/540 (0%)]\tLoss: 0.317260\tAverage nonzero triplets: 450.0\n",
      "Train: [400/540 (80%)]\tLoss: 0.277437\tAverage nonzero triplets: 449.6\n",
      "Epoch: 3/10. Train set: Average loss: 0.2854\tAverage nonzero triplets: 449.6\n",
      "Epoch: 3/10. Validation set: Average loss: 0.1634\tAverage nonzero triplets: 450.0\n",
      "Train: [0/540 (0%)]\tLoss: 0.235800\tAverage nonzero triplets: 450.0\n",
      "Train: [400/540 (80%)]\tLoss: 0.211771\tAverage nonzero triplets: 450.0\n",
      "Epoch: 4/10. Train set: Average loss: 0.2166\tAverage nonzero triplets: 450.0\n",
      "Epoch: 4/10. Validation set: Average loss: 0.1400\tAverage nonzero triplets: 448.2\n",
      "Train: [0/540 (0%)]\tLoss: 0.174168\tAverage nonzero triplets: 447.0\n",
      "Train: [400/540 (80%)]\tLoss: 0.206828\tAverage nonzero triplets: 446.4\n",
      "Epoch: 5/10. Train set: Average loss: 0.2003\tAverage nonzero triplets: 446.4\n",
      "Epoch: 5/10. Validation set: Average loss: 0.1477\tAverage nonzero triplets: 441.2\n",
      "Train: [0/540 (0%)]\tLoss: 0.194215\tAverage nonzero triplets: 442.0\n",
      "Train: [400/540 (80%)]\tLoss: 0.222413\tAverage nonzero triplets: 444.8\n",
      "Epoch: 6/10. Train set: Average loss: 0.2168\tAverage nonzero triplets: 444.8\n",
      "Epoch: 6/10. Validation set: Average loss: 0.1338\tAverage nonzero triplets: 431.4\n",
      "Train: [0/540 (0%)]\tLoss: 0.199437\tAverage nonzero triplets: 433.0\n",
      "Train: [400/540 (80%)]\tLoss: 0.213264\tAverage nonzero triplets: 432.6\n",
      "Epoch: 7/10. Train set: Average loss: 0.2105\tAverage nonzero triplets: 432.6\n",
      "Epoch: 7/10. Validation set: Average loss: 0.1272\tAverage nonzero triplets: 420.0\n",
      "Train: [0/540 (0%)]\tLoss: 0.197229\tAverage nonzero triplets: 446.0\n",
      "Train: [400/540 (80%)]\tLoss: 0.218050\tAverage nonzero triplets: 439.6\n",
      "Epoch: 8/10. Train set: Average loss: 0.2139\tAverage nonzero triplets: 439.6\n",
      "Epoch: 8/10. Validation set: Average loss: 0.1227\tAverage nonzero triplets: 417.4\n",
      "Train: [0/540 (0%)]\tLoss: 0.160435\tAverage nonzero triplets: 428.0\n",
      "Train: [400/540 (80%)]\tLoss: 0.201772\tAverage nonzero triplets: 426.4\n",
      "Epoch: 9/10. Train set: Average loss: 0.1935\tAverage nonzero triplets: 426.4\n",
      "Epoch: 9/10. Validation set: Average loss: 0.1231\tAverage nonzero triplets: 405.8\n",
      "Train: [0/540 (0%)]\tLoss: 0.169453\tAverage nonzero triplets: 425.0\n",
      "Train: [400/540 (80%)]\tLoss: 0.195595\tAverage nonzero triplets: 428.2\n",
      "Epoch: 10/10. Train set: Average loss: 0.1904\tAverage nonzero triplets: 428.2\n",
      "Epoch: 10/10. Validation set: Average loss: 0.1153\tAverage nonzero triplets: 405.8\n"
     ]
    }
   ],
   "source": [
    "fit(training_Loader, training_Loader, MODEL, loss_fn, optimizer, scheduler, n_epochs, cuda, log_interval, metrics=[AverageNonzeroTripletsMetric()])"
   ]
  },
  {
   "cell_type": "markdown",
   "metadata": {},
   "source": [
    "# Plotting time"
   ]
  },
  {
   "cell_type": "code",
   "execution_count": 119,
   "metadata": {},
   "outputs": [
    {
     "data": {
      "image/png": "[encoded data removed]",
      "text/plain": [
       "<Figure size 720x720 with 1 Axes>"
      ]
     },
     "metadata": {
      "needs_background": "light"
     },
     "output_type": "display_data"
    }
   ],
   "source": [
    "train_embeddings_otl, train_labels_otl = extract_embeddings(training_Loader, MODEL, AUTHOR_DIM)\n",
    "plot_embeddings(train_embeddings_otl, train_labels_otl, save_plot='training.png')"
   ]
  },
  {
   "cell_type": "code",
   "execution_count": 120,
   "metadata": {},
   "outputs": [
    {
     "data": {
      "image/png": "[encoded data removed]",
      "text/plain": [
       "<Figure size 720x720 with 1 Axes>"
      ]
     },
     "metadata": {
      "needs_background": "light"
     },
     "output_type": "display_data"
    }
   ],
   "source": [
    "valid_embeddings_otl, valid_labels_otl = extract_embeddings(validating_Loader, MODEL, AUTHOR_DIM)\n",
    "plot_embeddings(valid_embeddings_otl, valid_labels_otl,save_plot='testing.png')"
   ]
  },
  {
   "cell_type": "code",
   "execution_count": 99,
   "metadata": {},
   "outputs": [
    {
     "data": {
      "text/plain": [
       "KNeighborsClassifier(algorithm='auto', leaf_size=30, metric='minkowski',\n",
       "                     metric_params=None, n_jobs=None, n_neighbors=3, p=2,\n",
       "                     weights='uniform')"
      ]
     },
     "execution_count": 99,
     "metadata": {},
     "output_type": "execute_result"
    }
   ],
   "source": [
    "from sklearn.neighbors import KNeighborsClassifier as KNC\n",
    "KNN = KNC(n_neighbors=3)\n",
    "KNN.fit(train_embeddings_otl, train_labels_otl)"
   ]
  },
  {
   "cell_type": "code",
   "execution_count": 100,
   "metadata": {},
   "outputs": [
    {
     "data": {
      "text/plain": [
       "array([0., 1., 2., 0., 6., 9., 4., 6., 2., 0., 2., 7., 7., 8., 9., 1., 0.,\n",
       "       9., 6., 2., 6., 1., 0., 7., 1., 9., 1., 8., 7., 1., 1., 2., 9., 9.,\n",
       "       1., 3., 1., 0., 5., 0., 3., 2., 2., 2., 0., 7., 0., 3., 9., 2., 0.,\n",
       "       3., 3., 7., 1., 4., 8., 0., 8., 9., 1., 9., 5., 1., 2., 5., 0., 3.,\n",
       "       9., 0., 1., 9., 1., 1., 3., 1., 1., 3., 1., 2., 0., 1., 0., 3., 3.,\n",
       "       8., 0., 0., 6., 7., 7., 9., 0., 9., 4., 0., 1., 0., 0., 0., 0., 0.,\n",
       "       0., 1., 8., 0., 8., 6., 9., 9., 3., 5., 2., 9., 1., 0., 1., 1., 3.,\n",
       "       6., 3., 2., 8., 0., 3., 1., 3., 1., 1., 0., 0., 1., 8., 1., 0.])"
      ]
     },
     "execution_count": 100,
     "metadata": {},
     "output_type": "execute_result"
    }
   ],
   "source": [
    "predictions= KNN.predict(valid_embeddings_otl)\n",
    "predictions"
   ]
  },
  {
   "cell_type": "code",
   "execution_count": 101,
   "metadata": {},
   "outputs": [
    {
     "data": {
      "text/plain": [
       "0.5407407407407407"
      ]
     },
     "execution_count": 101,
     "metadata": {},
     "output_type": "execute_result"
    }
   ],
   "source": [
    "KNN.score(valid_embeddings_otl,valid_labels_otl)"
   ]
  },
  {
   "cell_type": "code",
   "execution_count": null,
   "metadata": {},
   "outputs": [],
   "source": []
  },
  {
   "cell_type": "code",
   "execution_count": null,
   "metadata": {},
   "outputs": [],
   "source": []
  }
 ],
 "metadata": {
  "kernelspec": {
   "display_name": "Python 3",
   "language": "python",
   "name": "python3"
  },
  "language_info": {
   "codemirror_mode": {
    "name": "ipython",
    "version": 3
   },
   "file_extension": ".py",
   "mimetype": "text/x-python",
   "name": "python",
   "nbconvert_exporter": "python",
   "pygments_lexer": "ipython3",
   "version": "3.7.1"
  }
 },
 "nbformat": 4,
 "nbformat_minor": 2
}
