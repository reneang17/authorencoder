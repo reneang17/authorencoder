{
 "cells": [
  {
   "cell_type": "code",
   "execution_count": 1,
   "metadata": {},
   "outputs": [],
   "source": [
    "import os\n",
    "import sys\n",
    "import pickle\n",
    "sys.path.insert(1, '../src/siamese_triplet')\n",
    "\n",
    "import matplotlib.pyplot as plt\n",
    "%matplotlib inline\n",
    "import numpy as np \n",
    "import torch\n",
    "from torch.optim import lr_scheduler\n",
    "import torch.optim as optim\n",
    "from torch.autograd import Variable\n",
    "from networks import EmbeddingNet\n",
    "from losses import OnlineTripletLoss\n",
    "from utils import AllTripletSelector,HardestNegativeTripletSelector, RandomNegativeTripletSelector, SemihardNegativeTripletSelector # Strategies for selecting triplets within a minibatch\n",
    "from metrics import AverageNonzeroTripletsMetric\n",
    "\n",
    "from train import simplified_fit\n",
    "device = torch.device('cuda' if torch.cuda.is_available() else 'cpu')\n",
    "is_cuda = torch.cuda.is_available()"
   ]
  },
  {
   "cell_type": "code",
   "execution_count": 2,
   "metadata": {},
   "outputs": [],
   "source": [
    "data_dir = '../data/processed/'\n",
    "data_name = 'longest10.json'\n",
    "prefix = data_name[:-5]\n",
    "\n",
    "file_embedding = prefix + '_embedding.pkl'\n",
    "file_dict = prefix + '_dict.pkl'\n",
    "tokenized_train_data = prefix + '_train.pkl'\n",
    "tokenized_valid_data = prefix + '_valid.pkl'\n",
    "\n"
   ]
  },
  {
   "cell_type": "markdown",
   "metadata": {},
   "source": [
    "### New way tokenizing and batching"
   ]
  },
  {
   "cell_type": "code",
   "execution_count": 3,
   "metadata": {},
   "outputs": [],
   "source": [
    "with open(data_dir+file_dict, 'rb') as f:\n",
    "    token2index_dict = pickle.load(f)\n",
    "\n",
    "with open(data_dir+file_embedding, 'rb') as f:\n",
    "    emb = torch.tensor(pickle.load(f))\n",
    "\n",
    "with open(data_dir + tokenized_train_data, 'rb') as f:\n",
    "    train_data_, train_labels_ = pickle.load(f)\n",
    "\n",
    "with open(data_dir + tokenized_valid_data, 'rb') as f:\n",
    "    valid_data_, valid_labels_ = pickle.load(f)"
   ]
  },
  {
   "cell_type": "code",
   "execution_count": 4,
   "metadata": {},
   "outputs": [],
   "source": [
    "def to_Loader(data,labels):\n",
    "    \"\"\"\n",
    "    data : list of integer corresponding to tokens\n",
    "    labels: author (index) corresponding to each entry in data\n",
    "    \"\"\"\n",
    "    data = [torch.LongTensor(i) for i in data]\n",
    "    data = torch.stack(data)\n",
    "    labels= torch.Tensor(labels)\n",
    "    return data, labels"
   ]
  },
  {
   "cell_type": "code",
   "execution_count": 5,
   "metadata": {},
   "outputs": [],
   "source": [
    "from datasets import BalancedBatchSampler\n",
    "#Turn list to tensors\n",
    "train_data_tensor, train_labels_tensor= to_Loader(train_data_, train_labels_)\n",
    "#Balance sampler\n",
    "train_batch_sampler = BalancedBatchSampler(train_labels_tensor, n_classes=10, n_samples=10)\n",
    "#Turn tensor into tensor dataset\n",
    "train_tensordataset = torch.utils.data.TensorDataset(train_data_tensor, train_labels_tensor)\n",
    "#Turn dataset into Loader\n",
    "train_Loader=torch.utils.data.DataLoader(train_tensordataset, sampler=train_batch_sampler, pin_memory=True)"
   ]
  },
  {
   "cell_type": "code",
   "execution_count": 6,
   "metadata": {},
   "outputs": [],
   "source": [
    "from datasets import BalancedBatchSampler\n",
    "#Turn list to tensors\n",
    "valid_data_tensor, valid_labels_tensor= to_Loader(valid_data_, valid_labels_)\n",
    "#Balance sampler\n",
    "valid_batch_sampler = BalancedBatchSampler(valid_labels_tensor, n_classes=10, n_samples=10)\n",
    "#Turn tensor into tensor dataset\n",
    "valid_tensordataset = torch.utils.data.TensorDataset(valid_data_tensor, valid_labels_tensor)\n",
    "#Turn dataset into Loader\n",
    "valid_Loader=torch.utils.data.DataLoader(valid_tensordataset, sampler=valid_batch_sampler, pin_memory=True)"
   ]
  },
  {
   "cell_type": "markdown",
   "metadata": {},
   "source": [
    "## Plotting function"
   ]
  },
  {
   "cell_type": "code",
   "execution_count": 7,
   "metadata": {},
   "outputs": [],
   "source": [
    "mnist_classes = [0, 1, 2, 3, 4, 5, 6, 7, 8, 9]\n",
    "\n",
    "author_dict = {0: 'john_dryden',\n",
    " 1: 'R. pinsky',\n",
    " 2: 'A. Carson',\n",
    " 3: 'Lord Tennyson',\n",
    " 4: 'A. Ginsberg',\n",
    " 5: 'P. Whalen',\n",
    " 6: 'M. Arnold',\n",
    " 7: 'W. Whitman',\n",
    " 8: 'W. Shakespeare',\n",
    " 9: 'Beowulf author'}\n",
    "\n",
    "mnist_classes = [author_dict[i] for i in mnist_classes]\n",
    "\n",
    "colors = ['#1f77b4', '#ff7f0e', '#2ca02c', '#d62728',\n",
    "              '#9467bd', '#8c564b', '#e377c2', '#7f7f7f',\n",
    "              '#bcbd22', '#17becf']\n",
    "    \n",
    "def extract_embeddings(dataloader, model, emb_dim):\n",
    "    with torch.no_grad():\n",
    "        model.eval()\n",
    "        embeddings = np.zeros((len(dataloader.dataset), emb_dim))\n",
    "        labels = np.zeros(len(dataloader.dataset))\n",
    "        k = 0\n",
    "        for poems, target in dataloader:\n",
    "            poems = poems.squeeze()\n",
    "            poems_le= len(poems)\n",
    "            if is_cuda:\n",
    "                poems = poems.cuda()\n",
    "\n",
    "            embeddings[k:k+poems_le] = model.get_embedding(poems).data.cpu().numpy()\n",
    "            \n",
    "            labels[k:k+poems_le] = target.numpy()\n",
    "            k += poems_le\n",
    "    return embeddings, labels\n",
    "\n",
    "def plot_embeddings(embeddings, targets, xlim=None, ylim=None,  save_plot= None):\n",
    "    plt.figure(figsize=(10,10))\n",
    "    for i in range(10):\n",
    "        inds = np.where(targets==i)[0]\n",
    "        plt.scatter(embeddings[inds,0], embeddings[inds,1], alpha=0.5, color=colors[i])\n",
    "    if xlim:\n",
    "        plt.xlim(xlim[0], xlim[1])\n",
    "    if ylim:\n",
    "        plt.ylim(ylim[0], ylim[1])\n",
    "    plt.legend(mnist_classes)\n",
    "    if save_plot!=None:\n",
    "        plt.savefig('../media/'+save_plot)"
   ]
  },
  {
   "cell_type": "code",
   "execution_count": 8,
   "metadata": {},
   "outputs": [
    {
     "data": {
      "text/plain": [
       "{0: 'john_dryden',\n",
       " 1: 'R. pinsky',\n",
       " 2: 'A. Carson',\n",
       " 3: 'Lord Tennyson',\n",
       " 4: 'A. Ginsberg',\n",
       " 5: 'P. Whalen',\n",
       " 6: 'M. Arnold',\n",
       " 7: 'W. Whitman',\n",
       " 8: 'W. Shakespeare',\n",
       " 9: 'Beowulf author'}"
      ]
     },
     "execution_count": 8,
     "metadata": {},
     "output_type": "execute_result"
    }
   ],
   "source": [
    "author_dict"
   ]
  },
  {
   "cell_type": "code",
   "execution_count": 9,
   "metadata": {},
   "outputs": [],
   "source": [
    "#train_embeddings_otl, train_labels_otl = extract_embeddings(training_Loader, MODEL,2)"
   ]
  },
  {
   "cell_type": "markdown",
   "metadata": {},
   "source": [
    "## Build the Model\n",
    "\n"
   ]
  },
  {
   "cell_type": "code",
   "execution_count": 10,
   "metadata": {},
   "outputs": [],
   "source": [
    "sys.path.insert(1, '../src/')\n",
    "from models import FastText, CNN\n"
   ]
  },
  {
   "cell_type": "code",
   "execution_count": 26,
   "metadata": {},
   "outputs": [],
   "source": [
    "INPUT_DIM = emb.size(0)\n",
    "WORD_EMBEDDING_DIM = 100 #Fixed by preloaded embedding \n",
    "\n",
    "AUTHOR_DIM = 2\n",
    "PAD_IDX = 1#TEXT.vocab.stoi[TEXT.pad_token]\n",
    "UNK_IDX = 0#TEXT.vocab.stoi[TEXT.unk_token]\n",
    "\n",
    "model = FastText(INPUT_DIM, WORD_EMBEDDING_DIM, AUTHOR_DIM, PAD_IDX)\n",
    "\n",
    "\n",
    "WORD_EMBEDDING_DIM = 100\n",
    "N_FILTERS = 100\n",
    "FILTER_SIZES = [2,3,4]\n",
    "AUTHOR_DIM = 2\n",
    "DROPOUT = 0.5\n",
    "\n",
    "\n",
    "model = CNN(INPUT_DIM, WORD_EMBEDDING_DIM, N_FILTERS, FILTER_SIZES, AUTHOR_DIM, DROPOUT, PAD_IDX)\n",
    "\n",
    "\n",
    "pretrained_embeddings = emb #TEXT.vocab.vectors\n",
    "model.embedding.weight.data.copy_(pretrained_embeddings)\n",
    "\n",
    "model.embedding.weight.data[UNK_IDX] = torch.zeros(WORD_EMBEDDING_DIM)\n",
    "model.embedding.weight.data[PAD_IDX] = torch.zeros(WORD_EMBEDDING_DIM)"
   ]
  },
  {
   "cell_type": "code",
   "execution_count": 27,
   "metadata": {},
   "outputs": [],
   "source": [
    "# Set up the network and training parameters\n",
    "\n",
    "#cuda = torch.cuda.is_available()\n",
    "\n",
    "\n",
    "MARGIN = 0.25\n",
    "embedding_net = EmbeddingNet()\n",
    "\n",
    "#embedding_net = CNN_net # Uncomment to comeback to original version \n",
    "#MODEL = embedding_net\n",
    "MODEL= model.to(device)\n",
    "\n",
    "loss_fn = OnlineTripletLoss(MARGIN, RandomNegativeTripletSelector(MARGIN))\n",
    "LR = 5e-3 \n",
    "\n",
    "optimizer = optim.Adam(MODEL.parameters(), lr=LR, weight_decay=1e-4)\n",
    "#scheduler = lr_scheduler.StepLR(optimizer, 8, gamma=0.1, last_epoch=-1)\n",
    "n_epochs = 15\n",
    "log_interval = 4\n",
    "\n",
    "\n"
   ]
  },
  {
   "cell_type": "code",
   "execution_count": 28,
   "metadata": {},
   "outputs": [
    {
     "name": "stdout",
     "output_type": "stream",
     "text": [
      "Train: [0/540 (0%)]\tLoss: 0.708962\tAverage nonzero triplets: 450.0\n",
      "Train: [200/540 (40%)]\tLoss: 0.625206\tAverage nonzero triplets: 450.0\n",
      "Train: [400/540 (80%)]\tLoss: 0.594585\tAverage nonzero triplets: 450.0\n",
      "Epoch: 1/15. Train set: Average loss: 0.6297\tAverage nonzero triplets: 450.0\n",
      "Train: [0/540 (0%)]\tLoss: 0.552279\tAverage nonzero triplets: 450.0\n",
      "Train: [200/540 (40%)]\tLoss: 0.499672\tAverage nonzero triplets: 450.0\n",
      "Train: [400/540 (80%)]\tLoss: 0.404249\tAverage nonzero triplets: 450.0\n",
      "Epoch: 2/15. Train set: Average loss: 0.4720\tAverage nonzero triplets: 450.0\n",
      "Train: [0/540 (0%)]\tLoss: 0.455307\tAverage nonzero triplets: 450.0\n",
      "Train: [200/540 (40%)]\tLoss: 0.471014\tAverage nonzero triplets: 449.6666666666667\n",
      "Train: [400/540 (80%)]\tLoss: 0.368003\tAverage nonzero triplets: 449.8\n",
      "Epoch: 3/15. Train set: Average loss: 0.4267\tAverage nonzero triplets: 449.8\n",
      "Train: [0/540 (0%)]\tLoss: 0.340738\tAverage nonzero triplets: 450.0\n",
      "Train: [200/540 (40%)]\tLoss: 0.296515\tAverage nonzero triplets: 450.0\n",
      "Train: [400/540 (80%)]\tLoss: 0.303110\tAverage nonzero triplets: 450.0\n",
      "Epoch: 4/15. Train set: Average loss: 0.3080\tAverage nonzero triplets: 450.0\n",
      "Train: [0/540 (0%)]\tLoss: 0.253742\tAverage nonzero triplets: 450.0\n",
      "Train: [200/540 (40%)]\tLoss: 0.272451\tAverage nonzero triplets: 446.0\n",
      "Train: [400/540 (80%)]\tLoss: 0.273787\tAverage nonzero triplets: 447.6\n",
      "Epoch: 5/15. Train set: Average loss: 0.2692\tAverage nonzero triplets: 447.6\n",
      "Train: [0/540 (0%)]\tLoss: 0.265881\tAverage nonzero triplets: 445.0\n",
      "Train: [200/540 (40%)]\tLoss: 0.262329\tAverage nonzero triplets: 446.0\n",
      "Train: [400/540 (80%)]\tLoss: 0.248218\tAverage nonzero triplets: 444.4\n",
      "Epoch: 6/15. Train set: Average loss: 0.2574\tAverage nonzero triplets: 444.4\n",
      "Train: [0/540 (0%)]\tLoss: 0.330444\tAverage nonzero triplets: 442.0\n",
      "Train: [200/540 (40%)]\tLoss: 0.280469\tAverage nonzero triplets: 441.3333333333333\n",
      "Train: [400/540 (80%)]\tLoss: 0.268669\tAverage nonzero triplets: 437.4\n",
      "Epoch: 7/15. Train set: Average loss: 0.2857\tAverage nonzero triplets: 437.4\n",
      "Train: [0/540 (0%)]\tLoss: 0.263627\tAverage nonzero triplets: 447.0\n",
      "Train: [200/540 (40%)]\tLoss: 0.294735\tAverage nonzero triplets: 442.3333333333333\n",
      "Train: [400/540 (80%)]\tLoss: 0.287559\tAverage nonzero triplets: 441.0\n",
      "Epoch: 8/15. Train set: Average loss: 0.2856\tAverage nonzero triplets: 441.0\n",
      "Train: [0/540 (0%)]\tLoss: 0.304976\tAverage nonzero triplets: 429.0\n",
      "Train: [200/540 (40%)]\tLoss: 0.259056\tAverage nonzero triplets: 429.0\n",
      "Train: [400/540 (80%)]\tLoss: 0.283338\tAverage nonzero triplets: 432.8\n",
      "Epoch: 9/15. Train set: Average loss: 0.2780\tAverage nonzero triplets: 432.8\n",
      "Train: [0/540 (0%)]\tLoss: 0.335554\tAverage nonzero triplets: 417.0\n",
      "Train: [200/540 (40%)]\tLoss: 0.339254\tAverage nonzero triplets: 416.6666666666667\n",
      "Train: [400/540 (80%)]\tLoss: 0.315710\tAverage nonzero triplets: 421.0\n",
      "Epoch: 10/15. Train set: Average loss: 0.3291\tAverage nonzero triplets: 421.0\n",
      "Train: [0/540 (0%)]\tLoss: 0.250724\tAverage nonzero triplets: 406.0\n",
      "Train: [200/540 (40%)]\tLoss: 0.282534\tAverage nonzero triplets: 401.0\n",
      "Train: [400/540 (80%)]\tLoss: 0.280767\tAverage nonzero triplets: 395.2\n",
      "Epoch: 11/15. Train set: Average loss: 0.2755\tAverage nonzero triplets: 395.2\n",
      "Train: [0/540 (0%)]\tLoss: 0.353591\tAverage nonzero triplets: 400.0\n",
      "Train: [200/540 (40%)]\tLoss: 0.334539\tAverage nonzero triplets: 399.0\n",
      "Train: [400/540 (80%)]\tLoss: 0.311471\tAverage nonzero triplets: 401.8\n",
      "Epoch: 12/15. Train set: Average loss: 0.3291\tAverage nonzero triplets: 401.8\n",
      "Train: [0/540 (0%)]\tLoss: 0.266161\tAverage nonzero triplets: 412.0\n",
      "Train: [200/540 (40%)]\tLoss: 0.328541\tAverage nonzero triplets: 397.6666666666667\n",
      "Train: [400/540 (80%)]\tLoss: 0.268002\tAverage nonzero triplets: 380.2\n",
      "Epoch: 13/15. Train set: Average loss: 0.2918\tAverage nonzero triplets: 380.2\n",
      "Train: [0/540 (0%)]\tLoss: 0.304272\tAverage nonzero triplets: 385.0\n",
      "Train: [200/540 (40%)]\tLoss: 0.372196\tAverage nonzero triplets: 360.3333333333333\n",
      "Train: [400/540 (80%)]\tLoss: 0.356937\tAverage nonzero triplets: 364.2\n",
      "Epoch: 14/15. Train set: Average loss: 0.3525\tAverage nonzero triplets: 364.2\n",
      "Train: [0/540 (0%)]\tLoss: 0.353805\tAverage nonzero triplets: 349.0\n",
      "Train: [200/540 (40%)]\tLoss: 0.336298\tAverage nonzero triplets: 359.0\n",
      "Train: [400/540 (80%)]\tLoss: 0.415751\tAverage nonzero triplets: 356.4\n",
      "Epoch: 15/15. Train set: Average loss: 0.3716\tAverage nonzero triplets: 356.4\n"
     ]
    }
   ],
   "source": [
    "simplified_fit(train_Loader, None, MODEL, loss_fn, optimizer, \n",
    "    n_epochs, is_cuda, metrics=[AverageNonzeroTripletsMetric()])"
   ]
  },
  {
   "cell_type": "markdown",
   "metadata": {},
   "source": [
    "# Plotting time"
   ]
  },
  {
   "cell_type": "code",
   "execution_count": 29,
   "metadata": {},
   "outputs": [],
   "source": [
    "def plot_embeddings(embeddings, targets, xlim=None, ylim=None,  save_plot= None):\n",
    "    plt.figure(figsize=(10,10))\n",
    "    for i in range(10):\n",
    "        inds = np.where(targets==i)[0]\n",
    "        plt.scatter(embeddings[inds,0], embeddings[inds,1], alpha=1,linewidths=4 )#, color=colors[i])\n",
    "    if xlim:\n",
    "        plt.xlim(xlim[0], xlim[1])\n",
    "    if ylim:\n",
    "        plt.ylim(ylim[0], ylim[1])\n",
    "    plt.legend(mnist_classes, )\n",
    "    if save_plot!=None:\n",
    "        plt.savefig('../media/'+save_plot)"
   ]
  },
  {
   "cell_type": "code",
   "execution_count": 30,
   "metadata": {},
   "outputs": [
    {
     "data": {
      "image/png": "[encoded data removed]",
      "text/plain": [
       "<Figure size 720x720 with 1 Axes>"
      ]
     },
     "metadata": {
      "needs_background": "light"
     },
     "output_type": "display_data"
    }
   ],
   "source": [
    "train_embeddings_otl, train_labels_otl = extract_embeddings(train_Loader, MODEL, AUTHOR_DIM)\n",
    "plot_embeddings(train_embeddings_otl, train_labels_otl, save_plot='training.png')"
   ]
  },
  {
   "cell_type": "code",
   "execution_count": 24,
   "metadata": {},
   "outputs": [
    {
     "data": {
      "image/png": "[encoded data removed]",
      "text/plain": [
       "<Figure size 720x720 with 1 Axes>"
      ]
     },
     "metadata": {
      "needs_background": "light"
     },
     "output_type": "display_data"
    }
   ],
   "source": [
    "\n",
    "def plot_embeddings(embeddings, targets, xlim=None, ylim=None,  save_plot= None):\n",
    "    plt.figure(figsize=(10,10))\n",
    "    for i in range(10):\n",
    "        inds = np.where(targets==i)[0]\n",
    "        plt.scatter(embeddings[inds,0], embeddings[inds,1], alpha=1, linewidths=4 )#, color=colors[i])\n",
    "    if xlim:\n",
    "        plt.xlim(xlim[0], xlim[1])\n",
    "    if ylim:\n",
    "        plt.ylim(ylim[0], ylim[1])\n",
    "    #plt.legend(mnist_classes, )\n",
    "    if save_plot!=None:\n",
    "        plt.savefig('../media/'+save_plot)\n",
    "        \n",
    "valid_embeddings_otl, valid_labels_otl = extract_embeddings(valid_Loader, MODEL, AUTHOR_DIM)\n",
    "plot_embeddings(valid_embeddings_otl, valid_labels_otl,save_plot='testing.png')"
   ]
  },
  {
   "cell_type": "code",
   "execution_count": 25,
   "metadata": {},
   "outputs": [
    {
     "data": {
      "text/plain": [
       "KNeighborsClassifier(algorithm='auto', leaf_size=30, metric='minkowski',\n",
       "                     metric_params=None, n_jobs=None, n_neighbors=3, p=2,\n",
       "                     weights='uniform')"
      ]
     },
     "execution_count": 25,
     "metadata": {},
     "output_type": "execute_result"
    }
   ],
   "source": [
    "from sklearn.neighbors import KNeighborsClassifier as KNC\n",
    "KNN = KNC(n_neighbors=3)\n",
    "KNN.fit(train_embeddings_otl, train_labels_otl)"
   ]
  },
  {
   "cell_type": "code",
   "execution_count": 18,
   "metadata": {},
   "outputs": [
    {
     "data": {
      "text/plain": [
       "0.7111111111111111"
      ]
     },
     "execution_count": 18,
     "metadata": {},
     "output_type": "execute_result"
    }
   ],
   "source": [
    "KNN.score(valid_embeddings_otl,valid_labels_otl)"
   ]
  }
 ],
 "metadata": {
  "kernelspec": {
   "display_name": "Python 3",
   "language": "python",
   "name": "python3"
  },
  "language_info": {
   "codemirror_mode": {
    "name": "ipython",
    "version": 3
   },
   "file_extension": ".py",
   "mimetype": "text/x-python",
   "name": "python",
   "nbconvert_exporter": "python",
   "pygments_lexer": "ipython3",
   "version": "3.7.1"
  }
 },
 "nbformat": 4,
 "nbformat_minor": 2
}
