{
 "cells": [
  {
   "cell_type": "code",
   "execution_count": 1,
   "metadata": {},
   "outputs": [],
   "source": [
    "import os\n",
    "import sys\n",
    "import pickle\n",
    "sys.path.insert(1, '../src/siamese_triplet')\n",
    "\n",
    "import matplotlib.pyplot as plt\n",
    "%matplotlib inline\n",
    "import numpy as np \n",
    "import torch\n",
    "from torch.optim import lr_scheduler\n",
    "import torch.optim as optim\n",
    "from torch.autograd import Variable\n",
    "from networks import EmbeddingNet\n",
    "from losses import OnlineTripletLoss\n",
    "from utils import AllTripletSelector,HardestNegativeTripletSelector, RandomNegativeTripletSelector, SemihardNegativeTripletSelector # Strategies for selecting triplets within a minibatch\n",
    "from metrics import AverageNonzeroTripletsMetric\n",
    "\n",
    "from train import fit, simplified_fit\n",
    "device = torch.device('cuda' if torch.cuda.is_available() else 'cpu')\n",
    "is_cuda = torch.cuda.is_available()"
   ]
  },
  {
   "cell_type": "code",
   "execution_count": 2,
   "metadata": {},
   "outputs": [],
   "source": [
    "data_dir = '../data/processed/'\n",
    "data_name = 'longest10.json'\n",
    "prefix = data_name[:-5]\n",
    "\n",
    "file_embedding = prefix + '_embedding.pkl'\n",
    "file_dict = prefix + '_dict.pkl'\n",
    "tokenized_train_data = prefix + '_train.pkl'\n",
    "tokenized_valid_data = prefix + '_valid.pkl'"
   ]
  },
  {
   "cell_type": "markdown",
   "metadata": {},
   "source": [
    "### New way tokenizing and batching"
   ]
  },
  {
   "cell_type": "code",
   "execution_count": 3,
   "metadata": {},
   "outputs": [],
   "source": [
    "with open(data_dir+file_dict, 'rb') as f:\n",
    "    token2index_dict = pickle.load(f)\n",
    "\n",
    "with open(data_dir+file_embedding, 'rb') as f:\n",
    "    emb = torch.tensor(pickle.load(f))\n",
    "\n",
    "with open(data_dir + tokenized_train_data, 'rb') as f:\n",
    "    train_data_, train_labels_ = pickle.load(f)\n",
    "\n",
    "with open(data_dir + tokenized_valid_data, 'rb') as f:\n",
    "    valid_data_, valid_labels_ = pickle.load(f)"
   ]
  },
  {
   "cell_type": "code",
   "execution_count": 4,
   "metadata": {},
   "outputs": [],
   "source": [
    "def to_Loader(data,labels):\n",
    "    \"\"\"\n",
    "    data : list of integer corresponding to tokens\n",
    "    labels: author (index) corresponding to each entry in data\n",
    "    \"\"\"\n",
    "    data = [torch.LongTensor(i) for i in data]\n",
    "    data = torch.stack(data)\n",
    "    labels= torch.Tensor(labels)\n",
    "    return data, labels"
   ]
  },
  {
   "cell_type": "code",
   "execution_count": 5,
   "metadata": {},
   "outputs": [],
   "source": [
    "from datasets import BalancedBatchSampler\n",
    "#Turn list to tensors\n",
    "train_data_tensor, train_labels_tensor= to_Loader(train_data_, train_labels_)\n",
    "#Balance sampler\n",
    "train_batch_sampler = BalancedBatchSampler(train_labels_tensor, n_classes=10, n_samples=10)\n",
    "#Turn tensor into tensor dataset\n",
    "train_tensordataset = torch.utils.data.TensorDataset(train_data_tensor, train_labels_tensor)\n",
    "#Turn dataset into Loader\n",
    "train_Loader=torch.utils.data.DataLoader(train_tensordataset, sampler=train_batch_sampler, pin_memory=True)"
   ]
  },
  {
   "cell_type": "code",
   "execution_count": 6,
   "metadata": {},
   "outputs": [],
   "source": [
    "from datasets import BalancedBatchSampler\n",
    "#Turn list to tensors\n",
    "valid_data_tensor, valid_labels_tensor= to_Loader(valid_data_, valid_labels_)\n",
    "#Balance sampler\n",
    "valid_batch_sampler = BalancedBatchSampler(valid_labels_tensor, n_classes=10, n_samples=10)\n",
    "#Turn tensor into tensor dataset\n",
    "valid_tensordataset = torch.utils.data.TensorDataset(valid_data_tensor, valid_labels_tensor)\n",
    "#Turn dataset into Loader\n",
    "valid_Loader=torch.utils.data.DataLoader(valid_tensordataset, sampler=valid_batch_sampler, pin_memory=True)"
   ]
  },
  {
   "cell_type": "markdown",
   "metadata": {},
   "source": [
    "## Plotting function"
   ]
  },
  {
   "cell_type": "code",
   "execution_count": 7,
   "metadata": {},
   "outputs": [],
   "source": [
    "mnist_classes = ['0', '1', '2', '3', '4', '5', '6', '7', '8', '9']\n",
    "colors = ['#1f77b4', '#ff7f0e', '#2ca02c', '#d62728',\n",
    "              '#9467bd', '#8c564b', '#e377c2', '#7f7f7f',\n",
    "              '#bcbd22', '#17becf']\n",
    "    \n",
    "def extract_embeddings(dataloader, model, emb_dim):\n",
    "    with torch.no_grad():\n",
    "        model.eval()\n",
    "        embeddings = np.zeros((len(dataloader.dataset), emb_dim))\n",
    "        labels = np.zeros(len(dataloader.dataset))\n",
    "        k = 0\n",
    "        for poems, target in dataloader:\n",
    "            poems = poems.squeeze()\n",
    "            poems_le= len(poems)\n",
    "            if is_cuda:\n",
    "                poems = poems.cuda()\n",
    "\n",
    "            embeddings[k:k+poems_le] = model.get_embedding(poems).data.cpu().numpy()\n",
    "            \n",
    "            labels[k:k+poems_le] = target.numpy()\n",
    "            k += poems_le\n",
    "    return embeddings, labels\n",
    "\n",
    "def plot_embeddings(embeddings, targets, xlim=None, ylim=None,  save_plot= None):\n",
    "    plt.figure(figsize=(10,10))\n",
    "    for i in range(10):\n",
    "        inds = np.where(targets==i)[0]\n",
    "        plt.scatter(embeddings[inds,0], embeddings[inds,1], alpha=0.5, color=colors[i])\n",
    "    if xlim:\n",
    "        plt.xlim(xlim[0], xlim[1])\n",
    "    if ylim:\n",
    "        plt.ylim(ylim[0], ylim[1])\n",
    "    plt.legend(mnist_classes)\n",
    "    if save_plot!=None:\n",
    "        plt.savefig('../media/'+save_plot)"
   ]
  },
  {
   "cell_type": "code",
   "execution_count": 8,
   "metadata": {},
   "outputs": [],
   "source": [
    "#train_embeddings_otl, train_labels_otl = extract_embeddings(training_Loader, MODEL,2)"
   ]
  },
  {
   "cell_type": "markdown",
   "metadata": {},
   "source": [
    "## Build the Model\n",
    "\n"
   ]
  },
  {
   "cell_type": "code",
   "execution_count": 9,
   "metadata": {},
   "outputs": [],
   "source": [
    "sys.path.insert(1, '../src/')\n",
    "from models import FastText, CNN\n"
   ]
  },
  {
   "cell_type": "code",
   "execution_count": 10,
   "metadata": {},
   "outputs": [],
   "source": [
    "INPUT_DIM = emb.size(0)\n",
    "WORD_EMBEDDING_DIM = 100 #Fixed by preloaded embedding \n",
    "\n",
    "AUTHOR_DIM = 2\n",
    "PAD_IDX = 1#TEXT.vocab.stoi[TEXT.pad_token]\n",
    "UNK_IDX = 0#TEXT.vocab.stoi[TEXT.unk_token]\n",
    "\n",
    "model = FastText(INPUT_DIM, WORD_EMBEDDING_DIM, AUTHOR_DIM, PAD_IDX)\n",
    "\n",
    "\n",
    "WORD_EMBEDDING_DIM = 100\n",
    "N_FILTERS = 100\n",
    "FILTER_SIZES = [2,3,4]\n",
    "AUTHOR_DIM = 2\n",
    "DROPOUT = 0.5\n",
    "\n",
    "\n",
    "model = CNN(INPUT_DIM, WORD_EMBEDDING_DIM, N_FILTERS, FILTER_SIZES, AUTHOR_DIM, DROPOUT, PAD_IDX)\n",
    "\n",
    "\n",
    "pretrained_embeddings = emb #TEXT.vocab.vectors\n",
    "model.embedding.weight.data.copy_(pretrained_embeddings)\n",
    "\n",
    "model.embedding.weight.data[UNK_IDX] = torch.zeros(WORD_EMBEDDING_DIM)\n",
    "model.embedding.weight.data[PAD_IDX] = torch.zeros(WORD_EMBEDDING_DIM)"
   ]
  },
  {
   "cell_type": "code",
   "execution_count": 11,
   "metadata": {},
   "outputs": [],
   "source": [
    "# Set up the network and training parameters\n",
    "\n",
    "#cuda = torch.cuda.is_available()\n",
    "\n",
    "\n",
    "MARGIN = 0.25\n",
    "embedding_net = EmbeddingNet()\n",
    "\n",
    "#embedding_net = CNN_net # Uncomment to comeback to original version \n",
    "#MODEL = embedding_net\n",
    "MODEL= model.to(device)\n",
    "\n",
    "loss_fn = OnlineTripletLoss(MARGIN, RandomNegativeTripletSelector(MARGIN))\n",
    "LR = 5e-3 \n",
    "\n",
    "optimizer = optim.Adam(MODEL.parameters(), lr=LR, weight_decay=1e-4)\n",
    "#scheduler = lr_scheduler.StepLR(optimizer, 8, gamma=0.1, last_epoch=-1)\n",
    "n_epochs = 15\n",
    "log_interval = 4\n",
    "\n",
    "\n"
   ]
  },
  {
   "cell_type": "code",
   "execution_count": 12,
   "metadata": {},
   "outputs": [
    {
     "name": "stdout",
     "output_type": "stream",
     "text": [
      "Train: [0/540 (0%)]\tLoss: 0.588369\tAverage nonzero triplets: 450.0\n",
      "Train: [200/540 (40%)]\tLoss: 0.879674\tAverage nonzero triplets: 450.0\n",
      "Train: [400/540 (80%)]\tLoss: 0.752361\tAverage nonzero triplets: 450.0\n",
      "Epoch: 1/15. Train set: Average loss: 0.7705\tAverage nonzero triplets: 450.0\n",
      "Train: [0/540 (0%)]\tLoss: 0.789684\tAverage nonzero triplets: 450.0\n",
      "Train: [200/540 (40%)]\tLoss: 0.693955\tAverage nonzero triplets: 450.0\n",
      "Train: [400/540 (80%)]\tLoss: 0.566723\tAverage nonzero triplets: 449.4\n",
      "Epoch: 2/15. Train set: Average loss: 0.6622\tAverage nonzero triplets: 449.4\n",
      "Train: [0/540 (0%)]\tLoss: 0.516372\tAverage nonzero triplets: 450.0\n",
      "Train: [200/540 (40%)]\tLoss: 0.470331\tAverage nonzero triplets: 450.0\n",
      "Train: [400/540 (80%)]\tLoss: 0.376404\tAverage nonzero triplets: 450.0\n",
      "Epoch: 3/15. Train set: Average loss: 0.4420\tAverage nonzero triplets: 450.0\n",
      "Train: [0/540 (0%)]\tLoss: 0.355219\tAverage nonzero triplets: 450.0\n",
      "Train: [200/540 (40%)]\tLoss: 0.307847\tAverage nonzero triplets: 450.0\n",
      "Train: [400/540 (80%)]\tLoss: 0.322714\tAverage nonzero triplets: 450.0\n",
      "Epoch: 4/15. Train set: Average loss: 0.3233\tAverage nonzero triplets: 450.0\n",
      "Train: [0/540 (0%)]\tLoss: 0.297127\tAverage nonzero triplets: 450.0\n",
      "Train: [200/540 (40%)]\tLoss: 0.272805\tAverage nonzero triplets: 450.0\n",
      "Train: [400/540 (80%)]\tLoss: 0.277246\tAverage nonzero triplets: 450.0\n",
      "Epoch: 5/15. Train set: Average loss: 0.2794\tAverage nonzero triplets: 450.0\n",
      "Train: [0/540 (0%)]\tLoss: 0.261989\tAverage nonzero triplets: 450.0\n",
      "Train: [200/540 (40%)]\tLoss: 0.273960\tAverage nonzero triplets: 449.3333333333333\n",
      "Train: [400/540 (80%)]\tLoss: 0.278442\tAverage nonzero triplets: 449.6\n",
      "Epoch: 6/15. Train set: Average loss: 0.2734\tAverage nonzero triplets: 449.6\n",
      "Train: [0/540 (0%)]\tLoss: 0.240840\tAverage nonzero triplets: 447.0\n",
      "Train: [200/540 (40%)]\tLoss: 0.283664\tAverage nonzero triplets: 449.0\n",
      "Train: [400/540 (80%)]\tLoss: 0.255790\tAverage nonzero triplets: 449.2\n",
      "Epoch: 7/15. Train set: Average loss: 0.2639\tAverage nonzero triplets: 449.2\n",
      "Train: [0/540 (0%)]\tLoss: 0.240614\tAverage nonzero triplets: 450.0\n",
      "Train: [200/540 (40%)]\tLoss: 0.244832\tAverage nonzero triplets: 449.0\n",
      "Train: [400/540 (80%)]\tLoss: 0.283076\tAverage nonzero triplets: 447.6\n",
      "Epoch: 8/15. Train set: Average loss: 0.2593\tAverage nonzero triplets: 447.6\n",
      "Train: [0/540 (0%)]\tLoss: 0.241398\tAverage nonzero triplets: 449.0\n",
      "Train: [200/540 (40%)]\tLoss: 0.263574\tAverage nonzero triplets: 446.6666666666667\n",
      "Train: [400/540 (80%)]\tLoss: 0.281707\tAverage nonzero triplets: 445.0\n",
      "Epoch: 9/15. Train set: Average loss: 0.2664\tAverage nonzero triplets: 445.0\n",
      "Train: [0/540 (0%)]\tLoss: 0.236886\tAverage nonzero triplets: 427.0\n",
      "Train: [200/540 (40%)]\tLoss: 0.312974\tAverage nonzero triplets: 435.0\n",
      "Train: [400/540 (80%)]\tLoss: 0.286717\tAverage nonzero triplets: 432.8\n",
      "Epoch: 10/15. Train set: Average loss: 0.2873\tAverage nonzero triplets: 432.8\n",
      "Train: [0/540 (0%)]\tLoss: 0.241340\tAverage nonzero triplets: 423.0\n",
      "Train: [200/540 (40%)]\tLoss: 0.296672\tAverage nonzero triplets: 428.6666666666667\n",
      "Train: [400/540 (80%)]\tLoss: 0.305210\tAverage nonzero triplets: 429.6\n",
      "Epoch: 11/15. Train set: Average loss: 0.2890\tAverage nonzero triplets: 429.6\n",
      "Train: [0/540 (0%)]\tLoss: 0.263835\tAverage nonzero triplets: 411.0\n",
      "Train: [200/540 (40%)]\tLoss: 0.368634\tAverage nonzero triplets: 408.6666666666667\n",
      "Train: [400/540 (80%)]\tLoss: 0.312966\tAverage nonzero triplets: 407.6\n",
      "Epoch: 12/15. Train set: Average loss: 0.3254\tAverage nonzero triplets: 407.6\n",
      "Train: [0/540 (0%)]\tLoss: 0.373418\tAverage nonzero triplets: 408.0\n",
      "Train: [200/540 (40%)]\tLoss: 0.274004\tAverage nonzero triplets: 396.3333333333333\n",
      "Train: [400/540 (80%)]\tLoss: 0.262994\tAverage nonzero triplets: 396.2\n",
      "Epoch: 13/15. Train set: Average loss: 0.2895\tAverage nonzero triplets: 396.2\n",
      "Train: [0/540 (0%)]\tLoss: 0.316982\tAverage nonzero triplets: 372.0\n",
      "Train: [200/540 (40%)]\tLoss: 0.345665\tAverage nonzero triplets: 389.6666666666667\n",
      "Train: [400/540 (80%)]\tLoss: 0.309580\tAverage nonzero triplets: 386.4\n",
      "Epoch: 14/15. Train set: Average loss: 0.3255\tAverage nonzero triplets: 386.4\n",
      "Train: [0/540 (0%)]\tLoss: 0.343539\tAverage nonzero triplets: 405.0\n",
      "Train: [200/540 (40%)]\tLoss: 0.298589\tAverage nonzero triplets: 367.3333333333333\n",
      "Train: [400/540 (80%)]\tLoss: 0.328024\tAverage nonzero triplets: 363.8\n",
      "Epoch: 15/15. Train set: Average loss: 0.3194\tAverage nonzero triplets: 363.8\n"
     ]
    }
   ],
   "source": [
    "simplified_fit(train_Loader, None, MODEL, loss_fn, optimizer, \n",
    "    n_epochs, is_cuda, metrics=[AverageNonzeroTripletsMetric()])"
   ]
  },
  {
   "cell_type": "markdown",
   "metadata": {},
   "source": [
    "# Plotting time"
   ]
  },
  {
   "cell_type": "code",
   "execution_count": 13,
   "metadata": {},
   "outputs": [],
   "source": [
    "def plot_embeddings(embeddings, targets, xlim=None, ylim=None,  save_plot= None):\n",
    "    plt.figure(figsize=(10,10))\n",
    "    for i in range(10):\n",
    "        inds = np.where(targets==i)[0]\n",
    "        plt.scatter(embeddings[inds,0], embeddings[inds,1], alpha=1)#, color=colors[i])\n",
    "    if xlim:\n",
    "        plt.xlim(xlim[0], xlim[1])\n",
    "    if ylim:\n",
    "        plt.ylim(ylim[0], ylim[1])\n",
    "    plt.legend(mnist_classes)\n",
    "    if save_plot!=None:\n",
    "        plt.savefig('../media/'+save_plot)"
   ]
  },
  {
   "cell_type": "code",
   "execution_count": 14,
   "metadata": {},
   "outputs": [
    {
     "data": {
      "image/png": "[encoded data removed]",
      "text/plain": [
       "<Figure size 720x720 with 1 Axes>"
      ]
     },
     "metadata": {
      "needs_background": "light"
     },
     "output_type": "display_data"
    }
   ],
   "source": [
    "train_embeddings_otl, train_labels_otl = extract_embeddings(train_Loader, MODEL, AUTHOR_DIM)\n",
    "plot_embeddings(train_embeddings_otl, train_labels_otl, save_plot='training.png')"
   ]
  },
  {
   "cell_type": "code",
   "execution_count": 15,
   "metadata": {},
   "outputs": [
    {
     "data": {
      "image/png": "[encoded data removed]",
      "text/plain": [
       "<Figure size 720x720 with 1 Axes>"
      ]
     },
     "metadata": {
      "needs_background": "light"
     },
     "output_type": "display_data"
    }
   ],
   "source": [
    "valid_embeddings_otl, valid_labels_otl = extract_embeddings(valid_Loader, MODEL, AUTHOR_DIM)\n",
    "plot_embeddings(valid_embeddings_otl, valid_labels_otl,save_plot='testing.png')"
   ]
  },
  {
   "cell_type": "code",
   "execution_count": 16,
   "metadata": {},
   "outputs": [
    {
     "data": {
      "text/plain": [
       "KNeighborsClassifier(algorithm='auto', leaf_size=30, metric='minkowski',\n",
       "                     metric_params=None, n_jobs=None, n_neighbors=3, p=2,\n",
       "                     weights='uniform')"
      ]
     },
     "execution_count": 16,
     "metadata": {},
     "output_type": "execute_result"
    }
   ],
   "source": [
    "from sklearn.neighbors import KNeighborsClassifier as KNC\n",
    "KNN = KNC(n_neighbors=3)\n",
    "KNN.fit(train_embeddings_otl, train_labels_otl)"
   ]
  },
  {
   "cell_type": "code",
   "execution_count": 17,
   "metadata": {},
   "outputs": [
    {
     "data": {
      "text/plain": [
       "0.7407407407407407"
      ]
     },
     "execution_count": 17,
     "metadata": {},
     "output_type": "execute_result"
    }
   ],
   "source": [
    "KNN.score(valid_embeddings_otl,valid_labels_otl)"
   ]
  },
  {
   "cell_type": "code",
   "execution_count": null,
   "metadata": {},
   "outputs": [],
   "source": []
  },
  {
   "cell_type": "code",
   "execution_count": null,
   "metadata": {},
   "outputs": [],
   "source": []
  }
 ],
 "metadata": {
  "kernelspec": {
   "display_name": "Python 3",
   "language": "python",
   "name": "python3"
  },
  "language_info": {
   "codemirror_mode": {
    "name": "ipython",
    "version": 3
   },
   "file_extension": ".py",
   "mimetype": "text/x-python",
   "name": "python",
   "nbconvert_exporter": "python",
   "pygments_lexer": "ipython3",
   "version": "3.7.1"
  }
 },
 "nbformat": 4,
 "nbformat_minor": 2
}
