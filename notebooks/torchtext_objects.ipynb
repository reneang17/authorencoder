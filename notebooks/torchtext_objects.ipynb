{
 "cells": [
  {
   "cell_type": "code",
   "execution_count": 1,
   "metadata": {},
   "outputs": [],
   "source": [
    "import matplotlib.pyplot as plt\n",
    "%matplotlib inline\n",
    "import torch\n",
    "import torchtext\n",
    "from torchtext import data\n",
    "import pickle\n",
    "import spacy\n",
    "\n",
    "SEED = 1234"
   ]
  },
  {
   "cell_type": "code",
   "execution_count": 2,
   "metadata": {},
   "outputs": [],
   "source": [
    "data_dir = '../data/processed/'\n",
    "data_name = 'longest10.json'\n",
    "prefix = data_name[:-5]\n",
    "FIX_WORD_LENGTH = 101\n",
    "\n",
    "\n",
    "file_embedding = prefix + '_embedding.pkl'\n",
    "file_dict = prefix + '_dict.pkl'\n",
    "tokenized_train_data = prefix + '_train.pkl'\n",
    "tokenized_valid_data = prefix + '_valid.pkl'"
   ]
  },
  {
   "cell_type": "code",
   "execution_count": 5,
   "metadata": {},
   "outputs": [
    {
     "data": {
      "text/plain": [
       "[[1, 2]]"
      ]
     },
     "execution_count": 5,
     "metadata": {},
     "output_type": "execute_result"
    }
   ],
   "source": [
    "import numpy as np\n",
    "np.array([[1, 2]]).tolist()"
   ]
  },
  {
   "cell_type": "code",
   "execution_count": 3,
   "metadata": {},
   "outputs": [],
   "source": [
    "TEXT = data.Field(lower=True,include_lengths=False, tokenize = 'spacy')\n",
    "LABEL = data.Field( dtype = torch.int)\n",
    "dataFields = {'content': ('content', TEXT), \n",
    "              'author_label': ('author_label', LABEL)}\n",
    "\n",
    "dataset= data.TabularDataset(path=data_dir+data_name, \n",
    "                                            format='json',\n",
    "                                            fields=dataFields, \n",
    "                                            skip_header=True)\n",
    "\n",
    "import random\n",
    "SEED = 1234\n",
    "train_data, valid_data = dataset.split(split_ratio=0.8,random_state = random.seed(SEED))\n",
    "\n",
    "MAX_VOCAB_SIZE = 20_000\n",
    "TEXT.build_vocab(dataset, \n",
    "                 max_size = MAX_VOCAB_SIZE, \n",
    "                 vectors = \"glove.6B.100d\", \n",
    "                 unk_init = torch.Tensor.normal_)"
   ]
  },
  {
   "cell_type": "markdown",
   "metadata": {},
   "source": [
    "### New way tokenizing and batching"
   ]
  },
  {
   "cell_type": "code",
   "execution_count": 4,
   "metadata": {},
   "outputs": [
    {
     "data": {
      "image/png": "[encoded data removed]",
      "text/plain": [
       "<Figure size 432x288 with 1 Axes>"
      ]
     },
     "metadata": {
      "needs_background": "light"
     },
     "output_type": "display_data"
    }
   ],
   "source": [
    "len_train = [len(i.content) for i in train_data.examples]\n",
    "plt.hist(len_train,bins=30)\n",
    "plt.show()"
   ]
  },
  {
   "cell_type": "code",
   "execution_count": 5,
   "metadata": {},
   "outputs": [],
   "source": [
    "\n",
    "def pad_to_n(ls, n ):\n",
    "    \"\"\"ls list to be cut/padded to length n\"\"\"\n",
    "    ls= ls[:n]\n",
    "    if len(ls)<n: ls=(['<pad>']*(n-len(ls))) + ls\n",
    "    return ls"
   ]
  },
  {
   "cell_type": "code",
   "execution_count": 6,
   "metadata": {},
   "outputs": [],
   "source": [
    "token2index_dict = dict(TEXT.vocab.stoi)\n",
    "with open(data_dir+file_dict, 'wb') as f:\n",
    "    pickle.dump(token2index_dict, f)\n",
    "        \n",
    "#with open(data_dir+file_dict, 'rb') as f:\n",
    "#    token2index_dict = pickle.load(f)\n"
   ]
  },
  {
   "cell_type": "code",
   "execution_count": 7,
   "metadata": {},
   "outputs": [],
   "source": [
    "\n",
    "with open(data_dir+file_embedding, 'wb') as f:\n",
    "    pickle.dump(TEXT.vocab.vectors.tolist(), f)"
   ]
  },
  {
   "cell_type": "code",
   "execution_count": 8,
   "metadata": {},
   "outputs": [],
   "source": [
    "#Tokenize and save\n",
    "\n",
    "def token2index(token_list, token2index_dict):\n",
    "    return [token2index_dict[i] for i in  token_list]\n",
    "\n",
    "def index_pad_data(data, fixed_word_length, token2index_dict):  \n",
    "    data = [pad_to_n(i, fixed_word_length) for i in data]\n",
    "    indexed = [token2index(t,token2index_dict ) for t in data] \n",
    "    return indexed\n",
    "\n",
    "def tokenize_and_save(data, fixed_text_length, token2index_dir, data_dir, file_name):\n",
    "  \n",
    "    data_list = [i.content for i in data.examples]\n",
    "    labels_list = [i.author_label for i in data.examples]\n",
    "    data_list = index_pad_data(data_list, fixed_text_length, token2index_dir)\n",
    "    with open(data_dir+file_name, 'wb') as f:\n",
    "        pickle.dump((data_list,labels_list), f)"
   ]
  },
  {
   "cell_type": "code",
   "execution_count": 9,
   "metadata": {},
   "outputs": [],
   "source": [
    "\n",
    "tokenize_and_save(train_data, FIX_WORD_LENGTH, token2index_dict, data_dir, tokenized_train_data)\n",
    "tokenize_and_save(valid_data, FIX_WORD_LENGTH, token2index_dict, data_dir, tokenized_valid_data)"
   ]
  }
 ],
 "metadata": {
  "kernelspec": {
   "display_name": "Python 3",
   "language": "python",
   "name": "python3"
  },
  "language_info": {
   "codemirror_mode": {
    "name": "ipython",
    "version": 3
   },
   "file_extension": ".py",
   "mimetype": "text/x-python",
   "name": "python",
   "nbconvert_exporter": "python",
   "pygments_lexer": "ipython3",
   "version": "3.7.1"
  }
 },
 "nbformat": 4,
 "nbformat_minor": 2
}
