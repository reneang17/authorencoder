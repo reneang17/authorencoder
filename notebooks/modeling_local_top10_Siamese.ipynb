{
 "cells": [
  {
   "cell_type": "code",
   "execution_count": 1,
   "metadata": {},
   "outputs": [],
   "source": [
    "%load_ext autoreload\n",
    "%autoreload 2"
   ]
  },
  {
   "cell_type": "code",
   "execution_count": 2,
   "metadata": {},
   "outputs": [],
   "source": [
    "import os\n",
    "import sys\n",
    "import pickle\n",
    "sys.path.insert(1, '../src/siamese_triplet')\n",
    "\n",
    "import matplotlib.pyplot as plt\n",
    "%matplotlib inline\n",
    "import numpy as np \n",
    "import torch\n",
    "from torch.optim import lr_scheduler\n",
    "import torch.optim as optim\n",
    "from torch.autograd import Variable\n",
    "from networks import EmbeddingNet\n",
    "from losses import OnlineTripletLoss, ContrastiveLoss\n",
    "from utils import AllTripletSelector,HardestNegativeTripletSelector, RandomNegativeTripletSelector, SemihardNegativeTripletSelector # Strategies for selecting triplets within a minibatch\n",
    "from metrics import AverageNonzeroTripletsMetric\n",
    "torch.manual_seed(0)\n",
    "from train import simplified_fit\n",
    "device = torch.device('cuda' if torch.cuda.is_available() else 'cpu')\n",
    "is_cuda = torch.cuda.is_available()"
   ]
  },
  {
   "cell_type": "code",
   "execution_count": 3,
   "metadata": {},
   "outputs": [],
   "source": [
    "data_dir = '../data/processed/'\n",
    "data_name = 'top10.json'\n",
    "#data_name = 'top_10_authors.json'\n",
    "prefix = data_name[:-5]\n",
    "\n",
    "file_embedding = prefix + '_embedding.pkl'\n",
    "file_dict = prefix + '_dict.pkl'\n",
    "tokenized_train_data = prefix + '_train.pkl'\n",
    "tokenized_valid_data = prefix + '_valid.pkl'\n",
    "tokenized_test_data = prefix + '_test.pkl'"
   ]
  },
  {
   "cell_type": "code",
   "execution_count": 4,
   "metadata": {},
   "outputs": [],
   "source": [
    "with open(data_dir+file_dict, 'rb') as f:\n",
    "    token2index_dict = pickle.load(f)\n",
    "\n",
    "with open(data_dir+file_embedding, 'rb') as f:\n",
    "    emb = torch.tensor(pickle.load(f))"
   ]
  },
  {
   "cell_type": "markdown",
   "metadata": {},
   "source": [
    "### New way tokenizing and batching"
   ]
  },
  {
   "cell_type": "code",
   "execution_count": 5,
   "metadata": {},
   "outputs": [],
   "source": [
    "from datasets import BalancedBatchSampler, data_to_Iterator, _data_to_Iterator\n",
    "#test_Loader = data_to_Iterator(data_dir,tokenized_test_data, n_classes=10, n_samples=10, sampler= True)\n",
    "#valid_Loader = data_to_Iterator(data_dir,tokenized_valid_data, n_classes=10, n_samples=10, sampler= True)\n",
    "#train_Loader = data_to_Iterator(data_dir,tokenized_train_data, n_classes=10, n_samples=10, sampler= True)"
   ]
  },
  {
   "cell_type": "code",
   "execution_count": 6,
   "metadata": {},
   "outputs": [],
   "source": [
    "from datasets import Siamese_Iterator\n",
    "test_Loader = Siamese_Iterator(data_dir, tokenized_test_data, batch_size = 64, state = 'test')\n",
    "valid_Loader = Siamese_Iterator(data_dir, tokenized_valid_data, batch_size = 128, state = 'test')\n",
    "train_Loader = Siamese_Iterator(data_dir, tokenized_train_data, batch_size = 128, state = 'train')"
   ]
  },
  {
   "cell_type": "code",
   "execution_count": 7,
   "metadata": {},
   "outputs": [],
   "source": [
    "from datasets import Siamese_Test_Iterator\n",
    "test_Loader_ = Siamese_Test_Iterator(data_dir, tokenized_test_data)\n",
    "valid_Loader_ = Siamese_Test_Iterator(data_dir, tokenized_valid_data)\n",
    "train_Loader_ = Siamese_Test_Iterator(data_dir, tokenized_train_data)"
   ]
  },
  {
   "cell_type": "code",
   "execution_count": 8,
   "metadata": {},
   "outputs": [
    {
     "data": {
      "text/plain": [
       "<torch.utils.data.dataloader.DataLoader at 0x10486c978>"
      ]
     },
     "execution_count": 8,
     "metadata": {},
     "output_type": "execute_result"
    }
   ],
   "source": [
    "train_Loader_"
   ]
  },
  {
   "cell_type": "markdown",
   "metadata": {},
   "source": [
    "for i in train_Loader:\n",
    "    aux = i\n",
    "    break\n",
    "print(aux[0].shape)"
   ]
  },
  {
   "cell_type": "markdown",
   "metadata": {},
   "source": [
    "for i in train_Loader:\n",
    "    aux = i\n",
    "    break\n",
    "print(type(aux[0]))\n",
    "print(type(aux[1]))\n",
    "print(aux[1].shape)\n",
    "print(aux[0][1].shape)"
   ]
  },
  {
   "cell_type": "code",
   "execution_count": 9,
   "metadata": {},
   "outputs": [
    {
     "data": {
      "text/plain": [
       "<torch.utils.data.dataloader.DataLoader at 0x10486cb00>"
      ]
     },
     "execution_count": 9,
     "metadata": {},
     "output_type": "execute_result"
    }
   ],
   "source": [
    "test_Loader"
   ]
  },
  {
   "cell_type": "code",
   "execution_count": 10,
   "metadata": {},
   "outputs": [
    {
     "name": "stdout",
     "output_type": "stream",
     "text": [
      "<class 'list'>\n",
      "<class 'torch.Tensor'>\n",
      "torch.Size([128])\n",
      "torch.Size([128, 101])\n"
     ]
    }
   ],
   "source": [
    "for i in train_Loader:\n",
    "    aux = i\n",
    "    break\n",
    "print(type(aux[0]))\n",
    "print(type(aux[1]))\n",
    "print(aux[1].shape)\n",
    "print(aux[0][1].shape)"
   ]
  },
  {
   "cell_type": "markdown",
   "metadata": {},
   "source": [
    "## Plotting function"
   ]
  },
  {
   "cell_type": "code",
   "execution_count": 41,
   "metadata": {},
   "outputs": [],
   "source": [
    "mnist_classes = [0, 1, 2, 3, 4, 5, 6, 7, 8, 9]\n",
    "\n",
    "author_list =  ['alfred_lord_tennyson', 'algernon_charles_swinburne', 'robert_browning', 'alexander_pope', 'walt_whitman', 'william_wordsworth', 'william_shakespeare', \n",
    "                'edmund_spenser', 'matthew_arnold', 'percy_shelley', 'beowulf', 'john_dryden'] \n",
    "\n",
    "author_dict = {i: j  for i,j in enumerate(author_list)}\n",
    "\n",
    "\n",
    "mnist_classes = [author_dict[i] for i in mnist_classes]\n",
    "\n",
    "colors = ['#1f77b4', '#ff7f0e', '#2ca02c', '#d62728',\n",
    "              '#9467bd', '#8c564b', '#e377c2', '#7f7f7f',\n",
    "              '#bcbd22', '#17becf','#17becf', '#17becf']\n",
    "\n",
    "#\"#000000\" \"#800000\"\n",
    "    \n",
    "\n",
    "\n",
    "def plot_embeddings(embeddings, targets, xlim=None, ylim=None,  save_plot= None):\n",
    "    plt.figure(figsize=(10,10))\n",
    "    for i in range(10):\n",
    "        inds = np.where(targets==i)[0]\n",
    "        plt.scatter(embeddings[inds,0], embeddings[inds,1], alpha=0.5, color=colors[i])\n",
    "    if xlim:\n",
    "        plt.xlim(xlim[0], xlim[1])\n",
    "    if ylim:\n",
    "        plt.ylim(ylim[0], ylim[1])\n",
    "    plt.legend(mnist_classes)\n",
    "    if save_plot!=None:\n",
    "        plt.savefig('../media/'+save_plot)"
   ]
  },
  {
   "cell_type": "markdown",
   "metadata": {},
   "source": [
    "## Build the Model\n",
    "\n"
   ]
  },
  {
   "cell_type": "code",
   "execution_count": 42,
   "metadata": {},
   "outputs": [],
   "source": [
    "sys.path.insert(1, '../src/')\n",
    "from models import CNN, SiameseNet"
   ]
  },
  {
   "cell_type": "code",
   "execution_count": 64,
   "metadata": {},
   "outputs": [],
   "source": [
    "\n",
    "AUTHOR_DIM = 2\n",
    "PAD_IDX = 1\n",
    "UNK_IDX = 0\n",
    "INPUT_DIM = emb.size(0)\n",
    "WORD_EMBEDDING_DIM = 100\n",
    "FILTER_SIZES = [2,3,4]\n",
    "DROPOUT = 0.50\n",
    "EMBEDDING_DIM = 100\n",
    "HIDDEN_DIM = 100\n",
    "N_LAYERS = 1\n",
    "BIDIRECTIONAL = True\n",
    "\n",
    "#model = RNN(INPUT_DIM, \n",
    "#            EMBEDDING_DIM, \n",
    "#            HIDDEN_DIM, \n",
    "#            AUTHOR_DIM, \n",
    "#            N_LAYERS, \n",
    "#            BIDIRECTIONAL, \n",
    "#            DROPOUT, \n",
    "#            PAD_IDX)\n",
    "\n",
    "WORD_EMBEDDING_DIM = 100\n",
    "N_FILTERS = 100\n",
    "FILTER_SIZES = [2,3,4]\n",
    "model = CNN(INPUT_DIM, WORD_EMBEDDING_DIM, N_FILTERS, FILTER_SIZES, AUTHOR_DIM, DROPOUT, PAD_IDX)\n",
    "pretrained_embeddings = emb \n",
    "model.embedding.weight.data.copy_(pretrained_embeddings)\n",
    "\n",
    "model.embedding.weight.data[UNK_IDX] = torch.zeros(WORD_EMBEDDING_DIM)\n",
    "model.embedding.weight.data[PAD_IDX] = torch.zeros(WORD_EMBEDDING_DIM)\n",
    "\n",
    "embedding_net = model\n",
    "MODEL = SiameseNet(embedding_net)"
   ]
  },
  {
   "cell_type": "code",
   "execution_count": 68,
   "metadata": {},
   "outputs": [
    {
     "name": "stdout",
     "output_type": "stream",
     "text": [
      "Train: [0/1563 (0%)]\tLoss: 0.049798\n",
      "Train: [606/1563 (46%)]\tLoss: 0.040240\n",
      "Train: [1212/1563 (92%)]\tLoss: 0.050424\n",
      "Epoch: 1/15. Train set: Average loss: 0.0457\n",
      "Epoch: 1/15. Validation set: Avg loss: 0.0488\n",
      "Train: [0/1563 (0%)]\tLoss: 0.034498\n",
      "Train: [606/1563 (46%)]\tLoss: 0.041349\n",
      "Train: [1212/1563 (92%)]\tLoss: 0.042491\n",
      "Epoch: 2/15. Train set: Average loss: 0.0413\n",
      "Epoch: 2/15. Validation set: Avg loss: 0.0419\n",
      "Train: [0/1563 (0%)]\tLoss: 0.044869\n",
      "Train: [606/1563 (46%)]\tLoss: 0.044306\n",
      "Train: [1212/1563 (92%)]\tLoss: 0.043622\n",
      "Epoch: 3/15. Train set: Average loss: 0.0440\n",
      "Epoch: 3/15. Validation set: Avg loss: 0.0476\n",
      "Train: [0/1563 (0%)]\tLoss: 0.043952\n",
      "Train: [606/1563 (46%)]\tLoss: 0.042768\n",
      "Train: [1212/1563 (92%)]\tLoss: 0.041074\n",
      "Epoch: 4/15. Train set: Average loss: 0.0421\n",
      "Epoch: 4/15. Validation set: Avg loss: 0.0411\n",
      "Train: [0/1563 (0%)]\tLoss: 0.041638\n",
      "Train: [606/1563 (46%)]\tLoss: 0.040956\n",
      "Train: [1212/1563 (92%)]\tLoss: 0.040766\n",
      "Epoch: 5/15. Train set: Average loss: 0.0409\n",
      "Epoch: 5/15. Validation set: Avg loss: 0.0554\n",
      "Train: [0/1563 (0%)]\tLoss: 0.043419\n",
      "Train: [606/1563 (46%)]\tLoss: 0.039663\n",
      "Train: [1212/1563 (92%)]\tLoss: 0.040777\n",
      "Epoch: 6/15. Train set: Average loss: 0.0405\n",
      "Epoch: 6/15. Validation set: Avg loss: 0.0403\n",
      "Train: [0/1563 (0%)]\tLoss: 0.039583\n",
      "Train: [606/1563 (46%)]\tLoss: 0.040464\n",
      "Train: [1212/1563 (92%)]\tLoss: 0.041828\n",
      "Epoch: 7/15. Train set: Average loss: 0.0410\n",
      "Epoch: 7/15. Validation set: Avg loss: 0.0448\n",
      "Train: [0/1563 (0%)]\tLoss: 0.040417\n",
      "Train: [606/1563 (46%)]\tLoss: 0.041342\n",
      "Train: [1212/1563 (92%)]\tLoss: 0.046148\n",
      "Epoch: 8/15. Train set: Average loss: 0.0435\n",
      "Epoch: 8/15. Validation set: Avg loss: 0.0433\n",
      "Train: [0/1563 (0%)]\tLoss: 0.042584\n",
      "Train: [606/1563 (46%)]\tLoss: 0.039473\n",
      "Train: [1212/1563 (92%)]\tLoss: 0.043234\n",
      "Epoch: 9/15. Train set: Average loss: 0.0414\n",
      "Epoch: 9/15. Validation set: Avg loss: 0.0401\n",
      "Train: [0/1563 (0%)]\tLoss: 0.047009\n",
      "Train: [606/1563 (46%)]\tLoss: 0.039197\n",
      "Train: [1212/1563 (92%)]\tLoss: 0.043801\n",
      "Epoch: 10/15. Train set: Average loss: 0.0419\n",
      "Epoch: 10/15. Validation set: Avg loss: 0.0448\n",
      "Train: [0/1563 (0%)]\tLoss: 0.041899\n",
      "Train: [606/1563 (46%)]\tLoss: 0.041058\n",
      "Train: [1212/1563 (92%)]\tLoss: 0.038938\n",
      "Epoch: 11/15. Train set: Average loss: 0.0401\n",
      "Epoch: 11/15. Validation set: Avg loss: 0.0442\n",
      "Train: [0/1563 (0%)]\tLoss: 0.038796\n",
      "Train: [606/1563 (46%)]\tLoss: 0.043573\n",
      "Train: [1212/1563 (92%)]\tLoss: 0.041054\n",
      "Epoch: 12/15. Train set: Average loss: 0.0420\n",
      "Epoch: 12/15. Validation set: Avg loss: 0.0398\n",
      "Train: [0/1563 (0%)]\tLoss: 0.032915\n",
      "Train: [606/1563 (46%)]\tLoss: 0.042819\n",
      "Train: [1212/1563 (92%)]\tLoss: 0.041436\n",
      "Epoch: 13/15. Train set: Average loss: 0.0414\n",
      "Epoch: 13/15. Validation set: Avg loss: 0.0411\n",
      "Train: [0/1563 (0%)]\tLoss: 0.042284\n",
      "Train: [606/1563 (46%)]\tLoss: 0.039686\n",
      "Train: [1212/1563 (92%)]\tLoss: 0.038240\n",
      "Epoch: 14/15. Train set: Average loss: 0.0392\n",
      "Epoch: 14/15. Validation set: Avg loss: 0.0436\n",
      "Train: [0/1563 (0%)]\tLoss: 0.035201\n",
      "Train: [606/1563 (46%)]\tLoss: 0.043242\n",
      "Train: [1212/1563 (92%)]\tLoss: 0.042101\n",
      "Epoch: 15/15. Train set: Average loss: 0.0421\n",
      "Epoch: 15/15. Validation set: Avg loss: 0.0430\n"
     ]
    },
    {
     "data": {
      "text/plain": [
       "([], [])"
      ]
     },
     "execution_count": 68,
     "metadata": {},
     "output_type": "execute_result"
    }
   ],
   "source": [
    "# Set up the network and training parameters\n",
    "import train_siamese\n",
    "\n",
    "MARGIN = 0.5\n",
    "embedding_net = EmbeddingNet()\n",
    "MODEL= MODEL.to(device)\n",
    "loss_fn = ContrastiveLoss(MARGIN)\n",
    "LR = 4e-3 \n",
    "optimizer = optim.Adam(model.parameters(), lr=LR)\n",
    "n_epochs = 15\n",
    "log_interval = 4\n",
    "train_siamese.simplified_fit(train_Loader, valid_Loader, MODEL, loss_fn, optimizer, \n",
    "    n_epochs, is_cuda, metrics=[])"
   ]
  },
  {
   "cell_type": "markdown",
   "metadata": {},
   "source": [
    "# Plotting time"
   ]
  },
  {
   "cell_type": "code",
   "execution_count": 69,
   "metadata": {},
   "outputs": [
    {
     "data": {
      "image/png": "[encoded data removed]",
      "text/plain": [
       "<Figure size 864x864 with 1 Axes>"
      ]
     },
     "metadata": {
      "needs_background": "light"
     },
     "output_type": "display_data"
    }
   ],
   "source": [
    "colors = ['#1f77b4', '#ff7f0e', '#2ca02c', '#d62728',\n",
    "              '#9467bd', '#8c564b', '#e377c2', '#7f7f7f',\n",
    "              '#bcbd22', '#17becf','#17cf84', '#1e2161']\n",
    "\n",
    "\n",
    "def extract_embeddings(dataloader, model, emb_dim):\n",
    "    with torch.no_grad():\n",
    "        model.eval()\n",
    "        embeddings = np.zeros((len(dataloader.dataset), emb_dim))\n",
    "        labels = np.zeros(len(dataloader.dataset))\n",
    "        k = 0\n",
    "        for poems, target in dataloader:\n",
    "            poems = poems.unsqueeze(0)\n",
    "            poems_le= len(poems)\n",
    "            if is_cuda:\n",
    "                poems = poems.cuda()\n",
    "\n",
    "            embeddings[k:k+poems_le] = model.get_embedding(poems).data.cpu().numpy()\n",
    "            \n",
    "            labels[k:k+poems_le] = target.numpy()\n",
    "            k += poems_le\n",
    "    return embeddings, labels\n",
    "\n",
    "\n",
    "def plot_embeddings(embeddings, targets, xlim=None, ylim=None,  save_plot= None):\n",
    "    plt.figure(figsize=(12,12))\n",
    "    for i in range(10):\n",
    "        inds = np.where(targets==i)[0]\n",
    "        plt.scatter(embeddings[inds,0], embeddings[inds,1], alpha=1,linewidths=1 , color=colors[i])\n",
    "    if xlim:\n",
    "        plt.xlim(xlim[0], xlim[1])\n",
    "    if ylim:\n",
    "        plt.ylim(ylim[0], ylim[1])\n",
    "    plt.legend(mnist_classes, prop={'size': 15} )\n",
    "    plt.tick_params(axis='both', labelsize=20)\n",
    "    if save_plot!=None:\n",
    "        plt.savefig('../media/'+save_plot)\n",
    "        \n",
    "train_embeddings_otl, train_labels_otl = extract_embeddings(train_Loader_, model, AUTHOR_DIM)\n",
    "plot_embeddings(train_embeddings_otl, train_labels_otl, save_plot='training.png')"
   ]
  },
  {
   "cell_type": "code",
   "execution_count": 77,
   "metadata": {},
   "outputs": [
    {
     "ename": "AttributeError",
     "evalue": "'list' object has no attribute 'unsqueeze'",
     "output_type": "error",
     "traceback": [
      "\u001b[0;31m---------------------------------------------------------------------------\u001b[0m",
      "\u001b[0;31mAttributeError\u001b[0m                            Traceback (most recent call last)",
      "\u001b[0;32m<ipython-input-77-97339a75e45d>\u001b[0m in \u001b[0;36m<module>\u001b[0;34m\u001b[0m\n\u001b[1;32m     17\u001b[0m     \u001b[0;32mreturn\u001b[0m \u001b[0membeddings\u001b[0m\u001b[0;34m,\u001b[0m \u001b[0mlabels\u001b[0m\u001b[0;34m\u001b[0m\u001b[0;34m\u001b[0m\u001b[0m\n\u001b[1;32m     18\u001b[0m \u001b[0;34m\u001b[0m\u001b[0m\n\u001b[0;32m---> 19\u001b[0;31m \u001b[0mvalid_embeddings_otl\u001b[0m\u001b[0;34m,\u001b[0m \u001b[0mvalid_labels_otl\u001b[0m \u001b[0;34m=\u001b[0m \u001b[0mextract_embeddings\u001b[0m\u001b[0;34m(\u001b[0m\u001b[0mvalid_Loader\u001b[0m\u001b[0;34m,\u001b[0m \u001b[0mmodel\u001b[0m\u001b[0;34m,\u001b[0m \u001b[0mAUTHOR_DIM\u001b[0m\u001b[0;34m)\u001b[0m\u001b[0;34m\u001b[0m\u001b[0;34m\u001b[0m\u001b[0m\n\u001b[0m\u001b[1;32m     20\u001b[0m \u001b[0mplot_embeddings\u001b[0m\u001b[0;34m(\u001b[0m\u001b[0mvalid_embeddings_otl\u001b[0m\u001b[0;34m,\u001b[0m \u001b[0mvalid_labels_otl\u001b[0m\u001b[0;34m,\u001b[0m\u001b[0msave_plot\u001b[0m\u001b[0;34m=\u001b[0m\u001b[0;34m'valid.png'\u001b[0m\u001b[0;34m)\u001b[0m\u001b[0;34m\u001b[0m\u001b[0;34m\u001b[0m\u001b[0m\n",
      "\u001b[0;32m<ipython-input-77-97339a75e45d>\u001b[0m in \u001b[0;36mextract_embeddings\u001b[0;34m(dataloader, model, emb_dim)\u001b[0m\n\u001b[1;32m      6\u001b[0m         \u001b[0mk\u001b[0m \u001b[0;34m=\u001b[0m \u001b[0;36m0\u001b[0m\u001b[0;34m\u001b[0m\u001b[0;34m\u001b[0m\u001b[0m\n\u001b[1;32m      7\u001b[0m         \u001b[0;32mfor\u001b[0m \u001b[0mpoems\u001b[0m\u001b[0;34m,\u001b[0m \u001b[0mtarget\u001b[0m \u001b[0;32min\u001b[0m \u001b[0mdataloader\u001b[0m\u001b[0;34m:\u001b[0m\u001b[0;34m\u001b[0m\u001b[0;34m\u001b[0m\u001b[0m\n\u001b[0;32m----> 8\u001b[0;31m             \u001b[0mpoems\u001b[0m \u001b[0;34m=\u001b[0m \u001b[0mpoems\u001b[0m\u001b[0;34m.\u001b[0m\u001b[0munsqueeze\u001b[0m\u001b[0;34m(\u001b[0m\u001b[0;36m0\u001b[0m\u001b[0;34m)\u001b[0m\u001b[0;34m\u001b[0m\u001b[0;34m\u001b[0m\u001b[0m\n\u001b[0m\u001b[1;32m      9\u001b[0m             \u001b[0mpoems_le\u001b[0m\u001b[0;34m=\u001b[0m \u001b[0mlen\u001b[0m\u001b[0;34m(\u001b[0m\u001b[0mpoems\u001b[0m\u001b[0;34m)\u001b[0m\u001b[0;34m\u001b[0m\u001b[0;34m\u001b[0m\u001b[0m\n\u001b[1;32m     10\u001b[0m             \u001b[0;32mif\u001b[0m \u001b[0mis_cuda\u001b[0m\u001b[0;34m:\u001b[0m\u001b[0;34m\u001b[0m\u001b[0;34m\u001b[0m\u001b[0m\n",
      "\u001b[0;31mAttributeError\u001b[0m: 'list' object has no attribute 'unsqueeze'"
     ]
    }
   ],
   "source": [
    "def extract_embeddings(dataloader, model, emb_dim):\n",
    "    with torch.no_grad():\n",
    "        model.eval()\n",
    "        embeddings = np.zeros((len(dataloader.dataset), emb_dim))\n",
    "        labels = np.zeros(len(dataloader.dataset))\n",
    "        k = 0\n",
    "        for poems, target in dataloader:\n",
    "            poems = poems.unsqueeze(0)\n",
    "            poems_le= len(poems)\n",
    "            if is_cuda:\n",
    "                poems = poems.cuda()\n",
    "\n",
    "            embeddings[k:k+poems_le] = model.get_embedding(poems).data.cpu().numpy()\n",
    "            \n",
    "            labels[k:k+poems_le] = target.numpy()\n",
    "            k += poems_le\n",
    "    return embeddings, labels\n",
    "\n",
    "valid_embeddings_otl, valid_labels_otl = extract_embeddings(valid_Loader, model, AUTHOR_DIM)\n",
    "plot_embeddings(valid_embeddings_otl, valid_labels_otl,save_plot='valid.png')"
   ]
  },
  {
   "cell_type": "code",
   "execution_count": 78,
   "metadata": {},
   "outputs": [
    {
     "ename": "AttributeError",
     "evalue": "'list' object has no attribute 'unsqueeze'",
     "output_type": "error",
     "traceback": [
      "\u001b[0;31m---------------------------------------------------------------------------\u001b[0m",
      "\u001b[0;31mAttributeError\u001b[0m                            Traceback (most recent call last)",
      "\u001b[0;32m<ipython-input-78-1a3d4f17c49f>\u001b[0m in \u001b[0;36m<module>\u001b[0;34m\u001b[0m\n\u001b[0;32m----> 1\u001b[0;31m \u001b[0mtest_embeddings_otl\u001b[0m\u001b[0;34m,\u001b[0m \u001b[0mtest_labels_otl\u001b[0m \u001b[0;34m=\u001b[0m \u001b[0mextract_embeddings\u001b[0m\u001b[0;34m(\u001b[0m\u001b[0mtest_Loader\u001b[0m\u001b[0;34m,\u001b[0m \u001b[0mmodel\u001b[0m\u001b[0;34m,\u001b[0m \u001b[0mAUTHOR_DIM\u001b[0m\u001b[0;34m)\u001b[0m\u001b[0;34m\u001b[0m\u001b[0;34m\u001b[0m\u001b[0m\n\u001b[0m\u001b[1;32m      2\u001b[0m \u001b[0mplot_embeddings\u001b[0m\u001b[0;34m(\u001b[0m\u001b[0mtest_embeddings_otl\u001b[0m\u001b[0;34m,\u001b[0m \u001b[0mtest_labels_otl\u001b[0m\u001b[0;34m,\u001b[0m\u001b[0msave_plot\u001b[0m\u001b[0;34m=\u001b[0m\u001b[0;34m'valid.png'\u001b[0m\u001b[0;34m)\u001b[0m\u001b[0;34m\u001b[0m\u001b[0;34m\u001b[0m\u001b[0m\n",
      "\u001b[0;32m<ipython-input-77-97339a75e45d>\u001b[0m in \u001b[0;36mextract_embeddings\u001b[0;34m(dataloader, model, emb_dim)\u001b[0m\n\u001b[1;32m      6\u001b[0m         \u001b[0mk\u001b[0m \u001b[0;34m=\u001b[0m \u001b[0;36m0\u001b[0m\u001b[0;34m\u001b[0m\u001b[0;34m\u001b[0m\u001b[0m\n\u001b[1;32m      7\u001b[0m         \u001b[0;32mfor\u001b[0m \u001b[0mpoems\u001b[0m\u001b[0;34m,\u001b[0m \u001b[0mtarget\u001b[0m \u001b[0;32min\u001b[0m \u001b[0mdataloader\u001b[0m\u001b[0;34m:\u001b[0m\u001b[0;34m\u001b[0m\u001b[0;34m\u001b[0m\u001b[0m\n\u001b[0;32m----> 8\u001b[0;31m             \u001b[0mpoems\u001b[0m \u001b[0;34m=\u001b[0m \u001b[0mpoems\u001b[0m\u001b[0;34m.\u001b[0m\u001b[0munsqueeze\u001b[0m\u001b[0;34m(\u001b[0m\u001b[0;36m0\u001b[0m\u001b[0;34m)\u001b[0m\u001b[0;34m\u001b[0m\u001b[0;34m\u001b[0m\u001b[0m\n\u001b[0m\u001b[1;32m      9\u001b[0m             \u001b[0mpoems_le\u001b[0m\u001b[0;34m=\u001b[0m \u001b[0mlen\u001b[0m\u001b[0;34m(\u001b[0m\u001b[0mpoems\u001b[0m\u001b[0;34m)\u001b[0m\u001b[0;34m\u001b[0m\u001b[0;34m\u001b[0m\u001b[0m\n\u001b[1;32m     10\u001b[0m             \u001b[0;32mif\u001b[0m \u001b[0mis_cuda\u001b[0m\u001b[0;34m:\u001b[0m\u001b[0;34m\u001b[0m\u001b[0;34m\u001b[0m\u001b[0m\n",
      "\u001b[0;31mAttributeError\u001b[0m: 'list' object has no attribute 'unsqueeze'"
     ]
    }
   ],
   "source": [
    "test_embeddings_otl, test_labels_otl = extract_embeddings(test_Loader, model, AUTHOR_DIM)\n",
    "plot_embeddings(test_embeddings_otl, test_labels_otl,save_plot='valid.png')"
   ]
  },
  {
   "cell_type": "code",
   "execution_count": 79,
   "metadata": {},
   "outputs": [
    {
     "name": "stdout",
     "output_type": "stream",
     "text": [
      "0.10919540229885058\n",
      "0.21839080459770116\n",
      "0.21839080459770116\n",
      "0.2413793103448276\n"
     ]
    }
   ],
   "source": [
    "from sklearn.neighbors import KNeighborsClassifier as KNC\n",
    "for i in range(1,5):\n",
    "    KNN = KNC(n_neighbors=i)\n",
    "    KNN.fit(train_embeddings_otl, train_labels_otl)\n",
    "    print(KNN.score(valid_embeddings_otl,valid_labels_otl))"
   ]
  },
  {
   "cell_type": "code",
   "execution_count": 80,
   "metadata": {},
   "outputs": [
    {
     "data": {
      "text/plain": [
       "0.2574626865671642"
      ]
     },
     "execution_count": 80,
     "metadata": {},
     "output_type": "execute_result"
    }
   ],
   "source": [
    "#test_embeddings_otl, test_labels_otl = extract_embeddings(test_Loader, MODEL, AUTHOR_DIM)\n",
    "KNN.score(test_embeddings_otl,test_labels_otl)"
   ]
  },
  {
   "cell_type": "markdown",
   "metadata": {},
   "source": [
    "import seaborn as sns\n",
    "from sklearn.preprocessing import StandardScaler\n",
    "import pandas as pd\n",
    "\n",
    "_data, _labels = (train_embeddings_otl, train_labels_otl)\n",
    "\n",
    "standardized_data = StandardScaler().fit_transform(_data)\n",
    "print(standardized_data.shape)\n",
    "from sklearn.manifold import TSNE\n",
    "\n",
    "model = TSNE(n_components=2, random_state=0)\n",
    "\n",
    "tsne_data = model.fit_transform(standardized_data)\n",
    "\n",
    "\n",
    "tsne_data = np.vstack((tsne_data.T, _labels)).T\n",
    "tsne_df = pd.DataFrame(data=tsne_data, columns=(\"Dim_1\", \"Dim_2\", \"label\"))"
   ]
  },
  {
   "cell_type": "markdown",
   "metadata": {},
   "source": [
    "sns.FacetGrid(tsne_df, hue=\"label\", size=6).map(plt.scatter, 'Dim_1', 'Dim_2').add_legend()\n",
    "plt.show()"
   ]
  },
  {
   "cell_type": "code",
   "execution_count": 23,
   "metadata": {},
   "outputs": [
    {
     "data": {
      "text/plain": [
       "(268, 1563, 174)"
      ]
     },
     "execution_count": 23,
     "metadata": {},
     "output_type": "execute_result"
    }
   ],
   "source": [
    "len(test_labels_otl), len(train_labels_otl), len(valid_labels_otl)"
   ]
  },
  {
   "cell_type": "code",
   "execution_count": null,
   "metadata": {},
   "outputs": [],
   "source": []
  },
  {
   "cell_type": "code",
   "execution_count": null,
   "metadata": {},
   "outputs": [],
   "source": []
  }
 ],
 "metadata": {
  "kernelspec": {
   "display_name": "Python 3",
   "language": "python",
   "name": "python3"
  },
  "language_info": {
   "codemirror_mode": {
    "name": "ipython",
    "version": 3
   },
   "file_extension": ".py",
   "mimetype": "text/x-python",
   "name": "python",
   "nbconvert_exporter": "python",
   "pygments_lexer": "ipython3",
   "version": "3.7.1"
  }
 },
 "nbformat": 4,
 "nbformat_minor": 2
}
