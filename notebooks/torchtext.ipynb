{
 "cells": [
  {
   "cell_type": "code",
   "execution_count": 1,
   "metadata": {},
   "outputs": [],
   "source": [
    "import matplotlib.pyplot as plt\n",
    "%matplotlib inline\n",
    "import numpy as np \n",
    "import torch\n",
    "import torchtext\n",
    "from torchtext import data\n",
    "import spacy\n",
    "import os\n",
    "import pickle\n",
    "import sys\n",
    "sys.path.insert(1, '../src/siamese_triplet')\n",
    "\n",
    "device = torch.device('cuda' if torch.cuda.is_available() else 'cpu')\n",
    "is_cuda = torch.cuda.is_available()\n",
    "\n",
    "spacy_en = spacy.load('en')\n",
    "SEED = 1234\n"
   ]
  },
  {
   "cell_type": "code",
   "execution_count": 2,
   "metadata": {},
   "outputs": [],
   "source": [
    "TEXT = data.Field(lower=True,include_lengths=False, tokenize = 'spacy')\n",
    "\n",
    "LABEL = data.Field( dtype = torch.int)\n",
    "\n",
    "dataFields = {'content': ('content', TEXT), \n",
    "              'author_label': ('author_label', LABEL)}"
   ]
  },
  {
   "cell_type": "code",
   "execution_count": 3,
   "metadata": {},
   "outputs": [],
   "source": [
    "data_dir = '../data/processed/'\n",
    "data_name = 'longest_poems.json'"
   ]
  },
  {
   "cell_type": "code",
   "execution_count": 4,
   "metadata": {},
   "outputs": [],
   "source": [
    "dataset= data.TabularDataset(path=data_dir+data_name, \n",
    "                                            format='json',\n",
    "                                            fields=dataFields, \n",
    "                                            skip_header=True)"
   ]
  },
  {
   "cell_type": "code",
   "execution_count": 5,
   "metadata": {},
   "outputs": [],
   "source": [
    "import random\n",
    "SEED = 3\n",
    "train_data, valid_data = dataset.split(split_ratio=0.8,random_state = random.seed(SEED))\n",
    "\n"
   ]
  },
  {
   "cell_type": "code",
   "execution_count": 6,
   "metadata": {},
   "outputs": [],
   "source": [
    "MAX_VOCAB_SIZE = 20_000\n",
    "\n",
    "TEXT.build_vocab(dataset, \n",
    "                 max_size = MAX_VOCAB_SIZE, \n",
    "                 vectors = \"glove.6B.100d\", \n",
    "                 unk_init = torch.Tensor.normal_)"
   ]
  },
  {
   "cell_type": "code",
   "execution_count": 7,
   "metadata": {},
   "outputs": [],
   "source": [
    "import torch\n",
    "from torch.optim import lr_scheduler\n",
    "import torch.optim as optim\n",
    "from torch.autograd import Variable\n",
    "\n",
    "from trainer import fit\n",
    "import numpy as np\n",
    "\n",
    "\n"
   ]
  },
  {
   "cell_type": "markdown",
   "metadata": {},
   "source": [
    "### New way tokenizing and batching"
   ]
  },
  {
   "cell_type": "code",
   "execution_count": 8,
   "metadata": {},
   "outputs": [],
   "source": [
    "import spacy\n",
    "nlp = spacy.load('en')"
   ]
  },
  {
   "cell_type": "code",
   "execution_count": 9,
   "metadata": {},
   "outputs": [
    {
     "data": {
      "image/png": "[encoded data removed]",
      "text/plain": [
       "<Figure size 432x288 with 1 Axes>"
      ]
     },
     "metadata": {
      "needs_background": "light"
     },
     "output_type": "display_data"
    }
   ],
   "source": [
    "len_train = [len(i.content) for i in train_data.examples]\n",
    "plt.hist(len_train,bins=30)\n",
    "plt.show()"
   ]
  },
  {
   "cell_type": "code",
   "execution_count": 10,
   "metadata": {},
   "outputs": [],
   "source": [
    "\n",
    "def pad_to_n(ls, n ):\n",
    "    \"\"\"ls list to be cut/padded to length n\"\"\"\n",
    "    ls= ls[:n]\n",
    "    if len(ls)<n: ls=(['<pad>']*(n-len(ls))) + ls\n",
    "    return ls"
   ]
  },
  {
   "cell_type": "code",
   "execution_count": 11,
   "metadata": {},
   "outputs": [],
   "source": [
    "aux= [i.content for i in train_data.examples ]\n"
   ]
  },
  {
   "cell_type": "code",
   "execution_count": 12,
   "metadata": {},
   "outputs": [],
   "source": [
    "#Tokenize and save\n",
    "FIX_WORD_LENGTH = 101\n",
    "token2index_dic = TEXT.vocab.stoi\n",
    "\n",
    "def token2index(token_list, token2index_dic):\n",
    "    return [token2index_dic[i] for i in  token_list]\n",
    "\n",
    "def index_pad_data(data, fixed_word_length, token2index_dir):  \n",
    "    data = [pad_to_n(i, fixed_word_length) for i in data]\n",
    "    indexed = [token2index(t,token2index_dir ) for t in data] \n",
    "    return indexed\n",
    "\n",
    "def tokenize_and_save(data, fixed_text_length, token2index_dir, data_dir, file_name):\n",
    "  \n",
    "    data_list = [i.content for i in data.examples]\n",
    "    labels_list = [i.author_label for i in data.examples]\n",
    "    data_list = index_pad_data(data_list, fixed_text_length, token2index_dir)\n",
    "    with open(data_dir+file_name, 'wb') as f:\n",
    "        pickle.dump((data_list,labels_list), f)"
   ]
  },
  {
   "cell_type": "code",
   "execution_count": 15,
   "metadata": {},
   "outputs": [],
   "source": [
    "tokenized_train_data = 'longest10_train.pkl'\n",
    "tokenized_valid_data = 'longest10_valid.pkl'\n",
    "tokenize_and_save(train_data, FIX_WORD_LENGTH, token2index_dic, data_dir, tokenized_train_data)\n",
    "tokenize_and_save(valid_data, FIX_WORD_LENGTH, token2index_dic, data_dir, tokenized_valid_data)"
   ]
  },
  {
   "cell_type": "code",
   "execution_count": 16,
   "metadata": {},
   "outputs": [],
   "source": [
    "with open(data_dir + tokenized_train_data, 'rb') as f:\n",
    "    train_data_, train_labels_ = pickle.load(f)\n",
    "\n",
    "with open(data_dir + tokenized_valid_data, 'rb') as f:\n",
    "    valid_data_, valid_labels_ = pickle.load(f)"
   ]
  },
  {
   "cell_type": "code",
   "execution_count": 17,
   "metadata": {},
   "outputs": [],
   "source": [
    "def to_Loader(data,labels):\n",
    "    \"\"\"\n",
    "    data : list of integer corresponding to tokens\n",
    "    labels: author (index) corresponding to each entry in data\n",
    "    \"\"\"\n",
    "    data = [torch.LongTensor(i) for i in data]\n",
    "    data = torch.stack(data)\n",
    "    labels= torch.Tensor(labels)\n",
    "    return data, labels"
   ]
  },
  {
   "cell_type": "code",
   "execution_count": 18,
   "metadata": {},
   "outputs": [
    {
     "data": {
      "text/plain": [
       "tensor([[1., 2.],\n",
       "        [1., 2.]])"
      ]
     },
     "execution_count": 18,
     "metadata": {},
     "output_type": "execute_result"
    }
   ],
   "source": [
    "torch.stack([torch.Tensor([1,2]), torch.Tensor([1,2])]) "
   ]
  },
  {
   "cell_type": "code",
   "execution_count": 19,
   "metadata": {},
   "outputs": [],
   "source": [
    "from datasets import BalancedBatchSampler\n",
    "#Turn list to tensors\n",
    "train_data_tensor, train_labels_tensor= to_Loader(train_data_, train_labels_)\n",
    "#Balance sampler\n",
    "train_batch_sampler = BalancedBatchSampler(train_labels_tensor, n_classes=10, n_samples=10)\n",
    "#Turn tensor into tensor dataset\n",
    "train_tensordataset = torch.utils.data.TensorDataset(train_data_tensor, train_labels_tensor)\n",
    "#Turn dataset into Loader\n",
    "train_Loader=torch.utils.data.DataLoader(train_tensordataset, sampler=train_batch_sampler, pin_memory=True)"
   ]
  },
  {
   "cell_type": "code",
   "execution_count": 20,
   "metadata": {},
   "outputs": [],
   "source": [
    "from datasets import BalancedBatchSampler\n",
    "#Turn list to tensors\n",
    "valid_data_tensor, valid_labels_tensor= to_Loader(valid_data_, valid_labels_)\n",
    "#Balance sampler\n",
    "valid_batch_sampler = BalancedBatchSampler(valid_labels_tensor, n_classes=10, n_samples=10)\n",
    "#Turn tensor into tensor dataset\n",
    "valid_tensordataset = torch.utils.data.TensorDataset(valid_data_tensor, valid_labels_tensor)\n",
    "#Turn dataset into Loader\n",
    "valid_Loader=torch.utils.data.DataLoader(valid_tensordataset, sampler=valid_batch_sampler, pin_memory=True)"
   ]
  },
  {
   "cell_type": "markdown",
   "metadata": {},
   "source": [
    "## Plotting function"
   ]
  },
  {
   "cell_type": "code",
   "execution_count": 21,
   "metadata": {},
   "outputs": [],
   "source": [
    "mnist_classes = ['0', '1', '2', '3', '4', '5', '6', '7', '8', '9']\n",
    "colors = ['#1f77b4', '#ff7f0e', '#2ca02c', '#d62728',\n",
    "              '#9467bd', '#8c564b', '#e377c2', '#7f7f7f',\n",
    "              '#bcbd22', '#17becf']\n",
    "    \n",
    "def extract_embeddings(dataloader, model, emb_dim):\n",
    "    with torch.no_grad():\n",
    "        model.eval()\n",
    "        embeddings = np.zeros((len(dataloader.dataset), emb_dim))\n",
    "        labels = np.zeros(len(dataloader.dataset))\n",
    "        k = 0\n",
    "        for poems, target in dataloader:\n",
    "            poems = poems.squeeze()\n",
    "            poems_le= len(poems)\n",
    "            if is_cuda:\n",
    "                poems = poems.cuda()\n",
    "\n",
    "            embeddings[k:k+poems_le] = model.get_embedding(poems).data.cpu().numpy()\n",
    "            \n",
    "            labels[k:k+poems_le] = target.numpy()\n",
    "            k += poems_le\n",
    "    return embeddings, labels\n",
    "\n",
    "def plot_embeddings(embeddings, targets, xlim=None, ylim=None,  save_plot= None):\n",
    "    plt.figure(figsize=(10,10))\n",
    "    for i in range(10):\n",
    "        inds = np.where(targets==i)[0]\n",
    "        plt.scatter(embeddings[inds,0], embeddings[inds,1], alpha=0.5, color=colors[i])\n",
    "    if xlim:\n",
    "        plt.xlim(xlim[0], xlim[1])\n",
    "    if ylim:\n",
    "        plt.ylim(ylim[0], ylim[1])\n",
    "    plt.legend(mnist_classes)\n",
    "    if save_plot!=None:\n",
    "        plt.savefig('../media/'+save_plot)"
   ]
  },
  {
   "cell_type": "code",
   "execution_count": 22,
   "metadata": {},
   "outputs": [],
   "source": [
    "#train_embeddings_otl, train_labels_otl = extract_embeddings(training_Loader, MODEL,2)"
   ]
  },
  {
   "cell_type": "markdown",
   "metadata": {},
   "source": [
    "## Build the Model\n",
    "\n"
   ]
  },
  {
   "cell_type": "code",
   "execution_count": 23,
   "metadata": {},
   "outputs": [],
   "source": [
    "sys.path.insert(1, '../src/')\n",
    "from models import FastText, CNN"
   ]
  },
  {
   "cell_type": "code",
   "execution_count": 24,
   "metadata": {},
   "outputs": [],
   "source": [
    "INPUT_DIM = len(TEXT.vocab)\n",
    "WORD_EMBEDDING_DIM = 100 #Fixed by preloaded embedding \n",
    "\n",
    "AUTHOR_DIM = 2\n",
    "PAD_IDX = TEXT.vocab.stoi[TEXT.pad_token]\n",
    "UNK_IDX = TEXT.vocab.stoi[TEXT.unk_token]\n",
    "\n",
    "model = FastText(INPUT_DIM, WORD_EMBEDDING_DIM, AUTHOR_DIM, PAD_IDX)\n",
    "\n",
    "\n",
    "INPUT_DIM = len(TEXT.vocab)\n",
    "WORD_EMBEDDING_DIM = 100\n",
    "N_FILTERS = 100\n",
    "FILTER_SIZES = [2,3,4]\n",
    "AUTHOR_DIM = 2\n",
    "DROPOUT = 0.5\n",
    "PAD_IDX = TEXT.vocab.stoi[TEXT.pad_token]\n",
    "\n",
    "model = CNN(INPUT_DIM, WORD_EMBEDDING_DIM, N_FILTERS, FILTER_SIZES, AUTHOR_DIM, DROPOUT, PAD_IDX)\n",
    "\n",
    "\n",
    "pretrained_embeddings = TEXT.vocab.vectors\n",
    "model.embedding.weight.data.copy_(pretrained_embeddings)\n",
    "\n",
    "model.embedding.weight.data[UNK_IDX] = torch.zeros(WORD_EMBEDDING_DIM)\n",
    "model.embedding.weight.data[PAD_IDX] = torch.zeros(WORD_EMBEDDING_DIM)"
   ]
  },
  {
   "cell_type": "code",
   "execution_count": 25,
   "metadata": {},
   "outputs": [],
   "source": [
    "# Set up the network and training parameters\n",
    "from networks import EmbeddingNet\n",
    "from losses import OnlineTripletLoss\n",
    "from utils import AllTripletSelector,HardestNegativeTripletSelector, RandomNegativeTripletSelector, SemihardNegativeTripletSelector # Strategies for selecting triplets within a minibatch\n",
    "from metrics import AverageNonzeroTripletsMetric\n",
    "\n",
    "\n",
    "import torch\n",
    "from torch.optim import lr_scheduler\n",
    "import torch.optim as optim\n",
    "from torch.autograd import Variable\n",
    "\n",
    "from train import fit, simplified_fit\n",
    "import numpy as np\n",
    "#cuda = torch.cuda.is_available()\n",
    "\n",
    "\n",
    "MARGIN = 0.25\n",
    "embedding_net = EmbeddingNet()\n",
    "\n",
    "#embedding_net = CNN_net # Uncomment to comeback to original version \n",
    "#MODEL = embedding_net\n",
    "MODEL= model.to(device)\n",
    "\n",
    "loss_fn = OnlineTripletLoss(MARGIN, RandomNegativeTripletSelector(MARGIN))\n",
    "LR = 5e-3 \n",
    "\n",
    "optimizer = optim.Adam(MODEL.parameters(), lr=LR, weight_decay=1e-4)\n",
    "#scheduler = lr_scheduler.StepLR(optimizer, 8, gamma=0.1, last_epoch=-1)\n",
    "n_epochs = 15\n",
    "log_interval = 4\n",
    "\n",
    "\n"
   ]
  },
  {
   "cell_type": "code",
   "execution_count": 26,
   "metadata": {},
   "outputs": [
    {
     "name": "stdout",
     "output_type": "stream",
     "text": [
      "Train: [0/540 (0%)]\tLoss: 0.784899\tAverage nonzero triplets: 450.0\n",
      "Train: [200/540 (40%)]\tLoss: 0.730199\tAverage nonzero triplets: 450.0\n",
      "Train: [400/540 (80%)]\tLoss: 0.578275\tAverage nonzero triplets: 450.0\n",
      "Epoch: 1/15. Train set: Average loss: 0.6804\tAverage nonzero triplets: 450.0\n",
      "Train: [0/540 (0%)]\tLoss: 0.603603\tAverage nonzero triplets: 450.0\n",
      "Train: [200/540 (40%)]\tLoss: 0.588718\tAverage nonzero triplets: 450.0\n",
      "Train: [400/540 (80%)]\tLoss: 0.449052\tAverage nonzero triplets: 449.6\n",
      "Epoch: 2/15. Train set: Average loss: 0.5358\tAverage nonzero triplets: 449.6\n",
      "Train: [0/540 (0%)]\tLoss: 0.414828\tAverage nonzero triplets: 449.0\n",
      "Train: [200/540 (40%)]\tLoss: 0.359907\tAverage nonzero triplets: 448.6666666666667\n",
      "Train: [400/540 (80%)]\tLoss: 0.330938\tAverage nonzero triplets: 449.0\n",
      "Epoch: 3/15. Train set: Average loss: 0.3593\tAverage nonzero triplets: 449.0\n",
      "Train: [0/540 (0%)]\tLoss: 0.293821\tAverage nonzero triplets: 447.0\n",
      "Train: [200/540 (40%)]\tLoss: 0.282588\tAverage nonzero triplets: 449.0\n",
      "Train: [400/540 (80%)]\tLoss: 0.364126\tAverage nonzero triplets: 448.4\n",
      "Epoch: 4/15. Train set: Average loss: 0.3174\tAverage nonzero triplets: 448.4\n",
      "Train: [0/540 (0%)]\tLoss: 0.272688\tAverage nonzero triplets: 450.0\n",
      "Train: [200/540 (40%)]\tLoss: 0.292018\tAverage nonzero triplets: 450.0\n",
      "Train: [400/540 (80%)]\tLoss: 0.271935\tAverage nonzero triplets: 447.4\n",
      "Epoch: 5/15. Train set: Average loss: 0.2801\tAverage nonzero triplets: 447.4\n",
      "Train: [0/540 (0%)]\tLoss: 0.314297\tAverage nonzero triplets: 450.0\n",
      "Train: [200/540 (40%)]\tLoss: 0.279947\tAverage nonzero triplets: 447.3333333333333\n",
      "Train: [400/540 (80%)]\tLoss: 0.273384\tAverage nonzero triplets: 444.4\n",
      "Epoch: 6/15. Train set: Average loss: 0.2842\tAverage nonzero triplets: 444.4\n",
      "Train: [0/540 (0%)]\tLoss: 0.265031\tAverage nonzero triplets: 432.0\n",
      "Train: [200/540 (40%)]\tLoss: 0.254025\tAverage nonzero triplets: 436.3333333333333\n",
      "Train: [400/540 (80%)]\tLoss: 0.242670\tAverage nonzero triplets: 434.2\n",
      "Epoch: 7/15. Train set: Average loss: 0.2517\tAverage nonzero triplets: 434.2\n",
      "Train: [0/540 (0%)]\tLoss: 0.278543\tAverage nonzero triplets: 434.0\n",
      "Train: [200/540 (40%)]\tLoss: 0.286495\tAverage nonzero triplets: 426.0\n",
      "Train: [400/540 (80%)]\tLoss: 0.295257\tAverage nonzero triplets: 418.4\n",
      "Epoch: 8/15. Train set: Average loss: 0.2884\tAverage nonzero triplets: 418.4\n",
      "Train: [0/540 (0%)]\tLoss: 0.282312\tAverage nonzero triplets: 423.0\n",
      "Train: [200/540 (40%)]\tLoss: 0.317202\tAverage nonzero triplets: 420.6666666666667\n",
      "Train: [400/540 (80%)]\tLoss: 0.291728\tAverage nonzero triplets: 418.2\n",
      "Epoch: 9/15. Train set: Average loss: 0.3000\tAverage nonzero triplets: 418.2\n",
      "Train: [0/540 (0%)]\tLoss: 0.307940\tAverage nonzero triplets: 420.0\n",
      "Train: [200/540 (40%)]\tLoss: 0.305622\tAverage nonzero triplets: 394.6666666666667\n",
      "Train: [400/540 (80%)]\tLoss: 0.335082\tAverage nonzero triplets: 397.8\n",
      "Epoch: 10/15. Train set: Average loss: 0.3179\tAverage nonzero triplets: 397.8\n",
      "Train: [0/540 (0%)]\tLoss: 0.334284\tAverage nonzero triplets: 378.0\n",
      "Train: [200/540 (40%)]\tLoss: 0.323079\tAverage nonzero triplets: 372.6666666666667\n",
      "Train: [400/540 (80%)]\tLoss: 0.290726\tAverage nonzero triplets: 375.6\n",
      "Epoch: 11/15. Train set: Average loss: 0.3124\tAverage nonzero triplets: 375.6\n",
      "Train: [0/540 (0%)]\tLoss: 0.336536\tAverage nonzero triplets: 419.0\n",
      "Train: [200/540 (40%)]\tLoss: 0.319237\tAverage nonzero triplets: 391.3333333333333\n",
      "Train: [400/540 (80%)]\tLoss: 0.385870\tAverage nonzero triplets: 388.4\n",
      "Epoch: 12/15. Train set: Average loss: 0.3494\tAverage nonzero triplets: 388.4\n",
      "Train: [0/540 (0%)]\tLoss: 0.369782\tAverage nonzero triplets: 356.0\n",
      "Train: [200/540 (40%)]\tLoss: 0.337984\tAverage nonzero triplets: 364.3333333333333\n",
      "Train: [400/540 (80%)]\tLoss: 0.340636\tAverage nonzero triplets: 366.2\n",
      "Epoch: 13/15. Train set: Average loss: 0.3454\tAverage nonzero triplets: 366.2\n",
      "Train: [0/540 (0%)]\tLoss: 0.341058\tAverage nonzero triplets: 400.0\n",
      "Train: [200/540 (40%)]\tLoss: 0.372250\tAverage nonzero triplets: 382.6666666666667\n",
      "Train: [400/540 (80%)]\tLoss: 0.362805\tAverage nonzero triplets: 370.2\n",
      "Epoch: 14/15. Train set: Average loss: 0.3622\tAverage nonzero triplets: 370.2\n",
      "Train: [0/540 (0%)]\tLoss: 0.406196\tAverage nonzero triplets: 371.0\n",
      "Train: [200/540 (40%)]\tLoss: 0.452400\tAverage nonzero triplets: 373.0\n",
      "Train: [400/540 (80%)]\tLoss: 0.385186\tAverage nonzero triplets: 360.2\n",
      "Epoch: 15/15. Train set: Average loss: 0.4163\tAverage nonzero triplets: 360.2\n"
     ]
    }
   ],
   "source": [
    "simplified_fit(train_Loader, None, MODEL, loss_fn, optimizer, \n",
    "    n_epochs, is_cuda, metrics=[AverageNonzeroTripletsMetric()])"
   ]
  },
  {
   "cell_type": "markdown",
   "metadata": {},
   "source": [
    "# Plotting time"
   ]
  },
  {
   "cell_type": "code",
   "execution_count": 27,
   "metadata": {},
   "outputs": [],
   "source": [
    "def plot_embeddings(embeddings, targets, xlim=None, ylim=None,  save_plot= None):\n",
    "    plt.figure(figsize=(10,10))\n",
    "    for i in range(10):\n",
    "        inds = np.where(targets==i)[0]\n",
    "        plt.scatter(embeddings[inds,0], embeddings[inds,1], alpha=1)#, color=colors[i])\n",
    "    if xlim:\n",
    "        plt.xlim(xlim[0], xlim[1])\n",
    "    if ylim:\n",
    "        plt.ylim(ylim[0], ylim[1])\n",
    "    plt.legend(mnist_classes)\n",
    "    if save_plot!=None:\n",
    "        plt.savefig('../media/'+save_plot)"
   ]
  },
  {
   "cell_type": "code",
   "execution_count": 29,
   "metadata": {},
   "outputs": [
    {
     "data": {
      "image/png": "[encoded data removed]",
      "text/plain": [
       "<Figure size 720x720 with 1 Axes>"
      ]
     },
     "metadata": {
      "needs_background": "light"
     },
     "output_type": "display_data"
    }
   ],
   "source": [
    "train_embeddings_otl, train_labels_otl = extract_embeddings(train_Loader, MODEL, AUTHOR_DIM)\n",
    "plot_embeddings(train_embeddings_otl, train_labels_otl, save_plot='training.png')"
   ]
  },
  {
   "cell_type": "code",
   "execution_count": 31,
   "metadata": {},
   "outputs": [
    {
     "data": {
      "image/png": "[encoded data removed]",
      "text/plain": [
       "<Figure size 720x720 with 1 Axes>"
      ]
     },
     "metadata": {
      "needs_background": "light"
     },
     "output_type": "display_data"
    }
   ],
   "source": [
    "valid_embeddings_otl, valid_labels_otl = extract_embeddings(valid_Loader, MODEL, AUTHOR_DIM)\n",
    "plot_embeddings(valid_embeddings_otl, valid_labels_otl,save_plot='testing.png')"
   ]
  },
  {
   "cell_type": "code",
   "execution_count": 32,
   "metadata": {},
   "outputs": [
    {
     "data": {
      "text/plain": [
       "KNeighborsClassifier(algorithm='auto', leaf_size=30, metric='minkowski',\n",
       "                     metric_params=None, n_jobs=None, n_neighbors=3, p=2,\n",
       "                     weights='uniform')"
      ]
     },
     "execution_count": 32,
     "metadata": {},
     "output_type": "execute_result"
    }
   ],
   "source": [
    "from sklearn.neighbors import KNeighborsClassifier as KNC\n",
    "KNN = KNC(n_neighbors=3)\n",
    "KNN.fit(train_embeddings_otl, train_labels_otl)"
   ]
  },
  {
   "cell_type": "code",
   "execution_count": 33,
   "metadata": {},
   "outputs": [
    {
     "data": {
      "text/plain": [
       "0.6814814814814815"
      ]
     },
     "execution_count": 33,
     "metadata": {},
     "output_type": "execute_result"
    }
   ],
   "source": [
    "KNN.score(valid_embeddings_otl,valid_labels_otl)"
   ]
  },
  {
   "cell_type": "code",
   "execution_count": null,
   "metadata": {},
   "outputs": [],
   "source": []
  }
 ],
 "metadata": {
  "kernelspec": {
   "display_name": "Python 3",
   "language": "python",
   "name": "python3"
  },
  "language_info": {
   "codemirror_mode": {
    "name": "ipython",
    "version": 3
   },
   "file_extension": ".py",
   "mimetype": "text/x-python",
   "name": "python",
   "nbconvert_exporter": "python",
   "pygments_lexer": "ipython3",
   "version": "3.7.1"
  }
 },
 "nbformat": 4,
 "nbformat_minor": 2
}
